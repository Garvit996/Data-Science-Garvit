{
  "nbformat": 4,
  "nbformat_minor": 0,
  "metadata": {
    "colab": {
      "name": "Text Analytics Movie Data.ipynb",
      "provenance": [],
      "collapsed_sections": [],
      "mount_file_id": "17lALNC4-hU3oynBgmTPV0Abc-aUtJ2GB",
      "authorship_tag": "ABX9TyPW+epHgFeOY1utGy5utwIu",
      "include_colab_link": true
    },
    "kernelspec": {
      "display_name": "Python 3",
      "name": "python3"
    },
    "language_info": {
      "name": "python"
    }
  },
  "cells": [
    {
      "cell_type": "markdown",
      "metadata": {
        "id": "view-in-github",
        "colab_type": "text"
      },
      "source": [
        "<a href=\"https://colab.research.google.com/github/Garvit996/Data-Science-Garvit/blob/master/Text_Analytics_Movie_Data.ipynb\" target=\"_parent\"><img src=\"https://colab.research.google.com/assets/colab-badge.svg\" alt=\"Open In Colab\"/></a>"
      ]
    },
    {
      "cell_type": "code",
      "metadata": {
        "colab": {
          "base_uri": "https://localhost:8080/"
        },
        "id": "F7-KC_FxFRGe",
        "outputId": "82beba02-4b0b-4776-e424-2121e2055348"
      },
      "source": [
        "from google.colab import drive\n",
        "drive.mount('/content/drive', force_remount=True)"
      ],
      "execution_count": 1,
      "outputs": [
        {
          "output_type": "stream",
          "text": [
            "Mounted at /content/drive\n"
          ],
          "name": "stdout"
        }
      ]
    },
    {
      "cell_type": "code",
      "metadata": {
        "id": "CQQiMln7Fn9J"
      },
      "source": [
        "!apt-get install openjdk-8-jdk-headless -qq > /dev/null"
      ],
      "execution_count": 2,
      "outputs": []
    },
    {
      "cell_type": "code",
      "metadata": {
        "id": "4yXD1thzML_x"
      },
      "source": [
        "!wget -q https://mirrors.estointernet.in/apache/spark/spark-3.1.2/spark-3.1.2-bin-hadoop2.7.tgz"
      ],
      "execution_count": 3,
      "outputs": []
    },
    {
      "cell_type": "code",
      "metadata": {
        "id": "Rj2e08Y-1y1-"
      },
      "source": [
        "!tar xf spark-3.1.2-bin-hadoop2.7.tgz"
      ],
      "execution_count": 4,
      "outputs": []
    },
    {
      "cell_type": "code",
      "metadata": {
        "id": "67FKhqtGMUAR"
      },
      "source": [
        "\n",
        "!pip install -q findspark"
      ],
      "execution_count": 5,
      "outputs": []
    },
    {
      "cell_type": "code",
      "metadata": {
        "id": "Cbvy_Wm_MbnY"
      },
      "source": [
        "import os\n",
        "os.environ[\"JAVA_HOME\"] = \"/usr/lib/jvm/java-8-openjdk-amd64\"\n",
        "os.environ[\"SPARK_HOME\"] = \"/content/spark-3.1.2-bin-hadoop2.7\""
      ],
      "execution_count": 6,
      "outputs": []
    },
    {
      "cell_type": "code",
      "metadata": {
        "id": "9V-SxIK0MhwN"
      },
      "source": [
        "import findspark\n",
        "findspark.init()"
      ],
      "execution_count": 7,
      "outputs": []
    },
    {
      "cell_type": "code",
      "metadata": {
        "colab": {
          "base_uri": "https://localhost:8080/"
        },
        "id": "L0La7w4-NsHD",
        "outputId": "b59af9f0-ef7b-43f9-b743-38b77708122d"
      },
      "source": [
        "!pip install -q pyspark"
      ],
      "execution_count": 8,
      "outputs": [
        {
          "output_type": "stream",
          "text": [
            "\u001b[K     |████████████████████████████████| 212.4 MB 55 kB/s \n",
            "\u001b[K     |████████████████████████████████| 198 kB 53.1 MB/s \n",
            "\u001b[?25h  Building wheel for pyspark (setup.py) ... \u001b[?25l\u001b[?25hdone\n"
          ],
          "name": "stdout"
        }
      ]
    },
    {
      "cell_type": "code",
      "metadata": {
        "id": "PWGZdpiVMovO"
      },
      "source": [
        "from pyspark.sql import SparkSession\n",
        "import pyspark.sql.functions as f\n",
        "import pyspark.sql.functions as F\n",
        "\n",
        "spark = SparkSession.builder\\\n",
        "        .master(\"local\")\\\n",
        "        .appName(\"Colab\")\\\n",
        "        .config('spark.ui.port', '4050')\\\n",
        "        .getOrCreate()"
      ],
      "execution_count": 9,
      "outputs": []
    },
    {
      "cell_type": "code",
      "metadata": {
        "colab": {
          "base_uri": "https://localhost:8080/",
          "height": 216
        },
        "id": "MHETZOR-36jb",
        "outputId": "11250451-9192-4a08-f29e-409b36dc14aa"
      },
      "source": [
        "spark"
      ],
      "execution_count": 10,
      "outputs": [
        {
          "output_type": "execute_result",
          "data": {
            "text/html": [
              "\n",
              "            <div>\n",
              "                <p><b>SparkSession - in-memory</b></p>\n",
              "                \n",
              "        <div>\n",
              "            <p><b>SparkContext</b></p>\n",
              "\n",
              "            <p><a href=\"http://9fe3c88d540c:4050\">Spark UI</a></p>\n",
              "\n",
              "            <dl>\n",
              "              <dt>Version</dt>\n",
              "                <dd><code>v3.1.2</code></dd>\n",
              "              <dt>Master</dt>\n",
              "                <dd><code>local</code></dd>\n",
              "              <dt>AppName</dt>\n",
              "                <dd><code>Colab</code></dd>\n",
              "            </dl>\n",
              "        </div>\n",
              "        \n",
              "            </div>\n",
              "        "
            ],
            "text/plain": [
              "<pyspark.sql.session.SparkSession at 0x7f7be7aea0d0>"
            ]
          },
          "metadata": {
            "tags": []
          },
          "execution_count": 10
        }
      ]
    },
    {
      "cell_type": "code",
      "metadata": {
        "colab": {
          "base_uri": "https://localhost:8080/"
        },
        "id": "890hr2Ri4HQT",
        "outputId": "542133da-a1a3-456b-d1c9-08518499e2d3"
      },
      "source": [
        "!wget https://bin.equinox.io/c/4VmDzA7iaHb/ngrok-stable-linux-amd64.zip\n",
        "!unzip ngrok-stable-linux-amd64.zip\n",
        "get_ipython().system_raw('./ngrok http 4050 &')\n",
        "!curl -s http://localhost:4040/api/tunnels"
      ],
      "execution_count": 11,
      "outputs": [
        {
          "output_type": "stream",
          "text": [
            "--2021-08-19 05:52:18--  https://bin.equinox.io/c/4VmDzA7iaHb/ngrok-stable-linux-amd64.zip\n",
            "Resolving bin.equinox.io (bin.equinox.io)... 54.83.39.146, 34.203.159.69, 52.45.159.115, ...\n",
            "Connecting to bin.equinox.io (bin.equinox.io)|54.83.39.146|:443... connected.\n",
            "HTTP request sent, awaiting response... 200 OK\n",
            "Length: 13832437 (13M) [application/octet-stream]\n",
            "Saving to: ‘ngrok-stable-linux-amd64.zip’\n",
            "\n",
            "ngrok-stable-linux- 100%[===================>]  13.19M  42.4MB/s    in 0.3s    \n",
            "\n",
            "2021-08-19 05:52:18 (42.4 MB/s) - ‘ngrok-stable-linux-amd64.zip’ saved [13832437/13832437]\n",
            "\n",
            "Archive:  ngrok-stable-linux-amd64.zip\n",
            "  inflating: ngrok                   \n",
            "{\"tunnels\":[],\"uri\":\"/api/tunnels\"}\n"
          ],
          "name": "stdout"
        }
      ]
    },
    {
      "cell_type": "code",
      "metadata": {
        "id": "vLdTDNxu6uwi"
      },
      "source": [
        "from pyspark.ml.evaluation import ClusteringEvaluator\n",
        "from pyspark.sql import SQLContext, SparkSession\n",
        "from pyspark import SparkConf, SparkContext\n",
        "from pyspark.ml.clustering import KMeans\n",
        "from pyspark.ml.feature import Word2Vec\n",
        "from pyspark.sql.functions import *"
      ],
      "execution_count": 12,
      "outputs": []
    },
    {
      "cell_type": "code",
      "metadata": {
        "id": "sqOQxVmi7w--"
      },
      "source": [
        "sc=SparkContext.getOrCreate()\n",
        "sqlContext = SQLContext(sc)"
      ],
      "execution_count": 13,
      "outputs": []
    },
    {
      "cell_type": "code",
      "metadata": {
        "colab": {
          "resources": {
            "http://localhost:8080/nbextensions/google.colab/files.js": {
              "data": "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",
              "ok": true,
              "headers": [
                [
                  "content-type",
                  "application/javascript"
                ]
              ],
              "status": 200,
              "status_text": ""
            }
          },
          "base_uri": "https://localhost:8080/",
          "height": 72
        },
        "id": "3rk3UVNR2Yc_",
        "outputId": "34bd9a92-ee9c-4f0f-d017-70766fc23fba"
      },
      "source": [
        "from google.colab import files\n",
        "uploaded = files.upload()"
      ],
      "execution_count": 14,
      "outputs": [
        {
          "output_type": "display_data",
          "data": {
            "text/html": [
              "\n",
              "     <input type=\"file\" id=\"files-4ecc522b-7cc5-4e7c-87de-54622fc3791a\" name=\"files[]\" multiple disabled\n",
              "        style=\"border:none\" />\n",
              "     <output id=\"result-4ecc522b-7cc5-4e7c-87de-54622fc3791a\">\n",
              "      Upload widget is only available when the cell has been executed in the\n",
              "      current browser session. Please rerun this cell to enable.\n",
              "      </output>\n",
              "      <script src=\"/nbextensions/google.colab/files.js\"></script> "
            ],
            "text/plain": [
              "<IPython.core.display.HTML object>"
            ]
          },
          "metadata": {
            "tags": []
          }
        },
        {
          "output_type": "stream",
          "text": [
            "Saving Movies_Dataset_1000.csv to Movies_Dataset_1000.csv\n"
          ],
          "name": "stdout"
        }
      ]
    },
    {
      "cell_type": "code",
      "metadata": {
        "id": "ld8isp312d1n"
      },
      "source": [
        "import io\n",
        "import pandas as pd\n",
        "# df = pd.read_csv(uploaded['Text_Data.csv'])\n",
        "# import io\n",
        "df = pd.read_csv(io.BytesIO(uploaded['Movies_Dataset_1000.csv']))\n",
        "# df = pd.read_csv(io.StringIO(uploaded['Movies_Dataset.csv'].decode('cp1252')))\n",
        "# Dataset is now stored in a Pandas Dataframe"
      ],
      "execution_count": 15,
      "outputs": []
    },
    {
      "cell_type": "code",
      "metadata": {
        "colab": {
          "base_uri": "https://localhost:8080/",
          "height": 419
        },
        "id": "Q6mYcOHLE5D1",
        "outputId": "794342d6-61ec-4d58-ce9d-1483ab1eb394"
      },
      "source": [
        "df"
      ],
      "execution_count": 16,
      "outputs": [
        {
          "output_type": "execute_result",
          "data": {
            "text/html": [
              "<div>\n",
              "<style scoped>\n",
              "    .dataframe tbody tr th:only-of-type {\n",
              "        vertical-align: middle;\n",
              "    }\n",
              "\n",
              "    .dataframe tbody tr th {\n",
              "        vertical-align: top;\n",
              "    }\n",
              "\n",
              "    .dataframe thead th {\n",
              "        text-align: right;\n",
              "    }\n",
              "</style>\n",
              "<table border=\"1\" class=\"dataframe\">\n",
              "  <thead>\n",
              "    <tr style=\"text-align: right;\">\n",
              "      <th></th>\n",
              "      <th>id</th>\n",
              "      <th>title</th>\n",
              "      <th>overview</th>\n",
              "    </tr>\n",
              "  </thead>\n",
              "  <tbody>\n",
              "    <tr>\n",
              "      <th>0</th>\n",
              "      <td>0</td>\n",
              "      <td>Toy Story</td>\n",
              "      <td>Led by Woody, Andy's toys live happily in his ...</td>\n",
              "    </tr>\n",
              "    <tr>\n",
              "      <th>1</th>\n",
              "      <td>1</td>\n",
              "      <td>Jumanji</td>\n",
              "      <td>When siblings Judy and Peter discover an encha...</td>\n",
              "    </tr>\n",
              "    <tr>\n",
              "      <th>2</th>\n",
              "      <td>2</td>\n",
              "      <td>Grumpier Old Men</td>\n",
              "      <td>A family wedding reignites the ancient feud be...</td>\n",
              "    </tr>\n",
              "    <tr>\n",
              "      <th>3</th>\n",
              "      <td>3</td>\n",
              "      <td>Waiting to Exhale</td>\n",
              "      <td>Cheated on, mistreated and stepped on, the wom...</td>\n",
              "    </tr>\n",
              "    <tr>\n",
              "      <th>4</th>\n",
              "      <td>4</td>\n",
              "      <td>Father of the Bride Part II</td>\n",
              "      <td>Just when George Banks has recovered from his ...</td>\n",
              "    </tr>\n",
              "    <tr>\n",
              "      <th>...</th>\n",
              "      <td>...</td>\n",
              "      <td>...</td>\n",
              "      <td>...</td>\n",
              "    </tr>\n",
              "    <tr>\n",
              "      <th>996</th>\n",
              "      <td>996</td>\n",
              "      <td>The Sword in the Stone</td>\n",
              "      <td>Wart is a young boy who aspires to be a knight...</td>\n",
              "    </tr>\n",
              "    <tr>\n",
              "      <th>997</th>\n",
              "      <td>997</td>\n",
              "      <td>So Dear to My Heart</td>\n",
              "      <td>The tale of Jeremiah Kincaid and his quest to ...</td>\n",
              "    </tr>\n",
              "    <tr>\n",
              "      <th>998</th>\n",
              "      <td>998</td>\n",
              "      <td>Robin Hood: Prince of Thieves</td>\n",
              "      <td>When the dastardly Sheriff of Nottingham murde...</td>\n",
              "    </tr>\n",
              "    <tr>\n",
              "      <th>999</th>\n",
              "      <td>999</td>\n",
              "      <td>Mary Poppins</td>\n",
              "      <td>The movie combines a diverting story, songs, c...</td>\n",
              "    </tr>\n",
              "    <tr>\n",
              "      <th>1000</th>\n",
              "      <td>1000</td>\n",
              "      <td>Dumbo</td>\n",
              "      <td>Dumbo is a baby elephant born with oversized e...</td>\n",
              "    </tr>\n",
              "  </tbody>\n",
              "</table>\n",
              "<p>1001 rows × 3 columns</p>\n",
              "</div>"
            ],
            "text/plain": [
              "        id  ...                                           overview\n",
              "0        0  ...  Led by Woody, Andy's toys live happily in his ...\n",
              "1        1  ...  When siblings Judy and Peter discover an encha...\n",
              "2        2  ...  A family wedding reignites the ancient feud be...\n",
              "3        3  ...  Cheated on, mistreated and stepped on, the wom...\n",
              "4        4  ...  Just when George Banks has recovered from his ...\n",
              "...    ...  ...                                                ...\n",
              "996    996  ...  Wart is a young boy who aspires to be a knight...\n",
              "997    997  ...  The tale of Jeremiah Kincaid and his quest to ...\n",
              "998    998  ...  When the dastardly Sheriff of Nottingham murde...\n",
              "999    999  ...  The movie combines a diverting story, songs, c...\n",
              "1000  1000  ...  Dumbo is a baby elephant born with oversized e...\n",
              "\n",
              "[1001 rows x 3 columns]"
            ]
          },
          "metadata": {
            "tags": []
          },
          "execution_count": 16
        }
      ]
    },
    {
      "cell_type": "code",
      "metadata": {
        "id": "3u6Gvjk15ZX8"
      },
      "source": [
        ""
      ],
      "execution_count": 16,
      "outputs": []
    },
    {
      "cell_type": "code",
      "metadata": {
        "id": "jXKurjoY9H5v"
      },
      "source": [
        "# ##---- Testing for df import\n",
        "# data = spark.read.csv(r'C:/Users/Gravit Agarwal/Downloads/Text_Data.csv',inferSchema=True, header=True)\n",
        "# ##-----\n",
        "# documentsPath = \"C:/Users/Gravit Agarwal/Downloads/Text_Data.csv\"\n",
        "# documents = sqlContext.read.format(\"csv\").option(\"header\", \"true\").load(documentsPath)\n",
        "# ##-----\n",
        "# #df = spark.read.csv(r\"C:/Users/Gravit Agarwal/Downloads/Text_Data.csv\", header=True, inferSchema=True)\n",
        "# df = spark.read.format(\"csv\").option(\"header\", \"true\").load(r\"C:\\Users\\Gravit Agarwal\\Downloads\\Text_Data\")"
      ],
      "execution_count": 17,
      "outputs": []
    },
    {
      "cell_type": "code",
      "metadata": {
        "id": "hIgUMw_3LiTC"
      },
      "source": [
        "df[[\"id\",\"title\",\"overview\"]] = df[[\"id\",\"title\",\"overview\"]].astype(str)"
      ],
      "execution_count": 18,
      "outputs": []
    },
    {
      "cell_type": "code",
      "metadata": {
        "id": "tsTjPNzpLRc7"
      },
      "source": [
        "df = spark.createDataFrame(df)"
      ],
      "execution_count": 19,
      "outputs": []
    },
    {
      "cell_type": "code",
      "metadata": {
        "colab": {
          "base_uri": "https://localhost:8080/"
        },
        "id": "Wibh3wm0iogb",
        "outputId": "13ccb8ae-638b-42e7-8bf2-23375667fe47"
      },
      "source": [
        "# df = spark.createDataFrame([\"The sun is a star\",\"The earth is a planet\",\n",
        "#                             \"The moon is a satellite’s earth\",\"The sun is yellow \"], \"string\").toDF(\"Text\")\n",
        "df.show()        \n"
      ],
      "execution_count": 20,
      "outputs": [
        {
          "output_type": "stream",
          "text": [
            "+---+--------------------+--------------------+\n",
            "| id|               title|            overview|\n",
            "+---+--------------------+--------------------+\n",
            "|  0|           Toy Story|Led by Woody, And...|\n",
            "|  1|             Jumanji|When siblings Jud...|\n",
            "|  2|    Grumpier Old Men|A family wedding ...|\n",
            "|  3|   Waiting to Exhale|Cheated on, mistr...|\n",
            "|  4|Father of the Bri...|Just when George ...|\n",
            "|  5|                Heat|Obsessive master ...|\n",
            "|  6|             Sabrina|An ugly duckling ...|\n",
            "|  7|        Tom and Huck|A mischievous you...|\n",
            "|  8|        Sudden Death|International act...|\n",
            "|  9|           GoldenEye|James Bond must u...|\n",
            "| 10|The American Pres...|Widowed U.S. pres...|\n",
            "| 11|Dracula: Dead and...|When a lawyer sho...|\n",
            "| 12|               Balto|An outcast half-w...|\n",
            "| 13|               Nixon|An all-star cast ...|\n",
            "| 14|    Cutthroat Island|Morgan Adams and ...|\n",
            "| 15|              Casino|The life of the g...|\n",
            "| 16|Sense and Sensibi...|Rich Mr. Dashwood...|\n",
            "| 17|          Four Rooms|It's Ted the Bell...|\n",
            "| 18|Ace Ventura: When...|Summoned from an ...|\n",
            "| 19|         Money Train|A vengeful New Yo...|\n",
            "+---+--------------------+--------------------+\n",
            "only showing top 20 rows\n",
            "\n"
          ],
          "name": "stdout"
        }
      ]
    },
    {
      "cell_type": "code",
      "metadata": {
        "id": "vhXK9-LN4Mt7"
      },
      "source": [
        "documents = df.withColumn(\"text_splitted\", split(lower(col(\"overview\")), \" \"))\n"
      ],
      "execution_count": 21,
      "outputs": []
    },
    {
      "cell_type": "code",
      "metadata": {
        "colab": {
          "base_uri": "https://localhost:8080/"
        },
        "id": "D5DszDqyHy-F",
        "outputId": "bad9fbdc-e473-4090-9a76-04b89ed9c19f"
      },
      "source": [
        "documents.show()\n"
      ],
      "execution_count": 22,
      "outputs": [
        {
          "output_type": "stream",
          "text": [
            "+---+--------------------+--------------------+--------------------+\n",
            "| id|               title|            overview|       text_splitted|\n",
            "+---+--------------------+--------------------+--------------------+\n",
            "|  0|           Toy Story|Led by Woody, And...|[led, by, woody,,...|\n",
            "|  1|             Jumanji|When siblings Jud...|[when, siblings, ...|\n",
            "|  2|    Grumpier Old Men|A family wedding ...|[a, family, weddi...|\n",
            "|  3|   Waiting to Exhale|Cheated on, mistr...|[cheated, on,, mi...|\n",
            "|  4|Father of the Bri...|Just when George ...|[just, when, geor...|\n",
            "|  5|                Heat|Obsessive master ...|[obsessive, maste...|\n",
            "|  6|             Sabrina|An ugly duckling ...|[an, ugly, duckli...|\n",
            "|  7|        Tom and Huck|A mischievous you...|[a, mischievous, ...|\n",
            "|  8|        Sudden Death|International act...|[international, a...|\n",
            "|  9|           GoldenEye|James Bond must u...|[james, bond, mus...|\n",
            "| 10|The American Pres...|Widowed U.S. pres...|[widowed, u.s., p...|\n",
            "| 11|Dracula: Dead and...|When a lawyer sho...|[when, a, lawyer,...|\n",
            "| 12|               Balto|An outcast half-w...|[an, outcast, hal...|\n",
            "| 13|               Nixon|An all-star cast ...|[an, all-star, ca...|\n",
            "| 14|    Cutthroat Island|Morgan Adams and ...|[morgan, adams, a...|\n",
            "| 15|              Casino|The life of the g...|[the, life, of, t...|\n",
            "| 16|Sense and Sensibi...|Rich Mr. Dashwood...|[rich, mr., dashw...|\n",
            "| 17|          Four Rooms|It's Ted the Bell...|[it's, ted, the, ...|\n",
            "| 18|Ace Ventura: When...|Summoned from an ...|[summoned, from, ...|\n",
            "| 19|         Money Train|A vengeful New Yo...|[a, vengeful, new...|\n",
            "+---+--------------------+--------------------+--------------------+\n",
            "only showing top 20 rows\n",
            "\n"
          ],
          "name": "stdout"
        }
      ]
    },
    {
      "cell_type": "code",
      "metadata": {
        "colab": {
          "base_uri": "https://localhost:8080/"
        },
        "id": "JdTEpXp_Hmw_",
        "outputId": "d7f92825-1c19-4e28-c521-3389eea8b184"
      },
      "source": [
        "from pyspark.ml.evaluation import ClusteringEvaluator\n",
        "from pyspark.sql import SQLContext, SparkSession\n",
        "from pyspark import SparkConf, SparkContext\n",
        "from pyspark.ml.clustering import KMeans\n",
        "from pyspark.ml.feature import Word2Vec\n",
        "from pyspark.sql.functions import *\n",
        "import nltk\n",
        "nltk.download('stopwords')\n",
        "from nltk.corpus import stopwords\n",
        "from pyspark.ml.feature import StopWordsRemover \n",
        "from pyspark.ml import Pipeline"
      ],
      "execution_count": 23,
      "outputs": [
        {
          "output_type": "stream",
          "text": [
            "[nltk_data] Downloading package stopwords to /root/nltk_data...\n",
            "[nltk_data]   Unzipping corpora/stopwords.zip.\n"
          ],
          "name": "stdout"
        }
      ]
    },
    {
      "cell_type": "code",
      "metadata": {
        "id": "906IokLoY6E9"
      },
      "source": [
        "#stopwords.words('english')"
      ],
      "execution_count": 24,
      "outputs": []
    },
    {
      "cell_type": "code",
      "metadata": {
        "colab": {
          "base_uri": "https://localhost:8080/"
        },
        "id": "-ImKziyJbHvP",
        "outputId": "eddcbdd6-cb3e-4ebb-a0b1-1c9ef0f7b36b"
      },
      "source": [
        "documents.count()"
      ],
      "execution_count": 25,
      "outputs": [
        {
          "output_type": "execute_result",
          "data": {
            "text/plain": [
              "1001"
            ]
          },
          "metadata": {
            "tags": []
          },
          "execution_count": 25
        }
      ]
    },
    {
      "cell_type": "code",
      "metadata": {
        "colab": {
          "base_uri": "https://localhost:8080/"
        },
        "id": "ZJOaIcKCfkW7",
        "outputId": "a4184b66-a70f-4347-fc58-99979ec48b79"
      },
      "source": [
        "documents"
      ],
      "execution_count": 26,
      "outputs": [
        {
          "output_type": "execute_result",
          "data": {
            "text/plain": [
              "DataFrame[id: string, title: string, overview: string, text_splitted: array<string>]"
            ]
          },
          "metadata": {
            "tags": []
          },
          "execution_count": 26
        }
      ]
    },
    {
      "cell_type": "code",
      "metadata": {
        "id": "Wap7gN67gi8U"
      },
      "source": [
        "# Remove stop words\n",
        "remover = StopWordsRemover(inputCol='text_splitted', outputCol='text_splitted_v2')\n",
        "df_words_no_stopw = remover.transform(documents).select(\"id\",\"title\",\"overview\",\"text_splitted\",'text_splitted_v2')"
      ],
      "execution_count": 27,
      "outputs": []
    },
    {
      "cell_type": "code",
      "metadata": {
        "colab": {
          "base_uri": "https://localhost:8080/"
        },
        "id": "DEOD-ALdg2fx",
        "outputId": "2c588b91-54de-44a0-96b2-c869f9987ab5"
      },
      "source": [
        "df_words_no_stopw.show()\n",
        "#documents.show()"
      ],
      "execution_count": 28,
      "outputs": [
        {
          "output_type": "stream",
          "text": [
            "+---+--------------------+--------------------+--------------------+--------------------+\n",
            "| id|               title|            overview|       text_splitted|    text_splitted_v2|\n",
            "+---+--------------------+--------------------+--------------------+--------------------+\n",
            "|  0|           Toy Story|Led by Woody, And...|[led, by, woody,,...|[led, woody,, and...|\n",
            "|  1|             Jumanji|When siblings Jud...|[when, siblings, ...|[siblings, judy, ...|\n",
            "|  2|    Grumpier Old Men|A family wedding ...|[a, family, weddi...|[family, wedding,...|\n",
            "|  3|   Waiting to Exhale|Cheated on, mistr...|[cheated, on,, mi...|[cheated, on,, mi...|\n",
            "|  4|Father of the Bri...|Just when George ...|[just, when, geor...|[george, banks, r...|\n",
            "|  5|                Heat|Obsessive master ...|[obsessive, maste...|[obsessive, maste...|\n",
            "|  6|             Sabrina|An ugly duckling ...|[an, ugly, duckli...|[ugly, duckling, ...|\n",
            "|  7|        Tom and Huck|A mischievous you...|[a, mischievous, ...|[mischievous, you...|\n",
            "|  8|        Sudden Death|International act...|[international, a...|[international, a...|\n",
            "|  9|           GoldenEye|James Bond must u...|[james, bond, mus...|[james, bond, mus...|\n",
            "| 10|The American Pres...|Widowed U.S. pres...|[widowed, u.s., p...|[widowed, u.s., p...|\n",
            "| 11|Dracula: Dead and...|When a lawyer sho...|[when, a, lawyer,...|[lawyer, shows, v...|\n",
            "| 12|               Balto|An outcast half-w...|[an, outcast, hal...|[outcast, half-wo...|\n",
            "| 13|               Nixon|An all-star cast ...|[an, all-star, ca...|[all-star, cast, ...|\n",
            "| 14|    Cutthroat Island|Morgan Adams and ...|[morgan, adams, a...|[morgan, adams, s...|\n",
            "| 15|              Casino|The life of the g...|[the, life, of, t...|[life, gambling, ...|\n",
            "| 16|Sense and Sensibi...|Rich Mr. Dashwood...|[rich, mr., dashw...|[rich, mr., dashw...|\n",
            "| 17|          Four Rooms|It's Ted the Bell...|[it's, ted, the, ...|[ted, bellhop's, ...|\n",
            "| 18|Ace Ventura: When...|Summoned from an ...|[summoned, from, ...|[summoned, ashram...|\n",
            "| 19|         Money Train|A vengeful New Yo...|[a, vengeful, new...|[vengeful, new, y...|\n",
            "+---+--------------------+--------------------+--------------------+--------------------+\n",
            "only showing top 20 rows\n",
            "\n"
          ],
          "name": "stdout"
        }
      ]
    },
    {
      "cell_type": "code",
      "metadata": {
        "id": "I5Iu00buHdmx"
      },
      "source": [
        "# Word2Vec\n",
        "word2Vec = Word2Vec(vectorSize=100, minCount=1, maxIter=100, inputCol=\"text_splitted_v2\", outputCol=\"features\")\n",
        "model = word2Vec.fit(df_words_no_stopw)"
      ],
      "execution_count": 29,
      "outputs": []
    },
    {
      "cell_type": "code",
      "metadata": {
        "id": "KIWhwYxOHdjo"
      },
      "source": [
        "result = model.transform(df_words_no_stopw)"
      ],
      "execution_count": 30,
      "outputs": []
    },
    {
      "cell_type": "code",
      "metadata": {
        "id": "EUW4vYm7fToT",
        "colab": {
          "base_uri": "https://localhost:8080/"
        },
        "outputId": "78e4cf83-00b1-4c30-c996-58d18a6b4e2d"
      },
      "source": [
        "%pip install mlflow\n",
        "import mlflow"
      ],
      "execution_count": 31,
      "outputs": [
        {
          "output_type": "stream",
          "text": [
            "Collecting mlflow\n",
            "  Downloading mlflow-1.19.0-py3-none-any.whl (14.4 MB)\n",
            "\u001b[K     |████████████████████████████████| 14.4 MB 64 kB/s \n",
            "\u001b[?25hRequirement already satisfied: numpy in /usr/local/lib/python3.7/dist-packages (from mlflow) (1.19.5)\n",
            "Collecting gitpython>=2.1.0\n",
            "  Downloading GitPython-3.1.18-py3-none-any.whl (170 kB)\n",
            "\u001b[K     |████████████████████████████████| 170 kB 55.4 MB/s \n",
            "\u001b[?25hCollecting prometheus-flask-exporter\n",
            "  Downloading prometheus_flask_exporter-0.18.2.tar.gz (22 kB)\n",
            "Requirement already satisfied: entrypoints in /usr/local/lib/python3.7/dist-packages (from mlflow) (0.3)\n",
            "Requirement already satisfied: Flask in /usr/local/lib/python3.7/dist-packages (from mlflow) (1.1.4)\n",
            "Requirement already satisfied: pytz in /usr/local/lib/python3.7/dist-packages (from mlflow) (2018.9)\n",
            "Requirement already satisfied: sqlparse>=0.3.1 in /usr/local/lib/python3.7/dist-packages (from mlflow) (0.4.1)\n",
            "Collecting databricks-cli>=0.8.7\n",
            "  Downloading databricks-cli-0.15.0.tar.gz (56 kB)\n",
            "\u001b[K     |████████████████████████████████| 56 kB 2.9 MB/s \n",
            "\u001b[?25hRequirement already satisfied: protobuf>=3.7.0 in /usr/local/lib/python3.7/dist-packages (from mlflow) (3.17.3)\n",
            "Requirement already satisfied: pandas in /usr/local/lib/python3.7/dist-packages (from mlflow) (1.1.5)\n",
            "Requirement already satisfied: requests>=2.17.3 in /usr/local/lib/python3.7/dist-packages (from mlflow) (2.23.0)\n",
            "Collecting docker>=4.0.0\n",
            "  Downloading docker-5.0.0-py2.py3-none-any.whl (146 kB)\n",
            "\u001b[K     |████████████████████████████████| 146 kB 44.8 MB/s \n",
            "\u001b[?25hRequirement already satisfied: click>=7.0 in /usr/local/lib/python3.7/dist-packages (from mlflow) (7.1.2)\n",
            "Requirement already satisfied: cloudpickle in /usr/local/lib/python3.7/dist-packages (from mlflow) (1.3.0)\n",
            "Collecting pyyaml>=5.1\n",
            "  Downloading PyYAML-5.4.1-cp37-cp37m-manylinux1_x86_64.whl (636 kB)\n",
            "\u001b[K     |████████████████████████████████| 636 kB 44.0 MB/s \n",
            "\u001b[?25hRequirement already satisfied: sqlalchemy in /usr/local/lib/python3.7/dist-packages (from mlflow) (1.4.22)\n",
            "Collecting querystring-parser\n",
            "  Downloading querystring_parser-1.2.4-py2.py3-none-any.whl (7.9 kB)\n",
            "Requirement already satisfied: packaging in /usr/local/lib/python3.7/dist-packages (from mlflow) (21.0)\n",
            "Collecting gunicorn\n",
            "  Downloading gunicorn-20.1.0-py3-none-any.whl (79 kB)\n",
            "\u001b[K     |████████████████████████████████| 79 kB 6.9 MB/s \n",
            "\u001b[?25hCollecting alembic<=1.4.1\n",
            "  Downloading alembic-1.4.1.tar.gz (1.1 MB)\n",
            "\u001b[K     |████████████████████████████████| 1.1 MB 43.4 MB/s \n",
            "\u001b[?25hCollecting Mako\n",
            "  Downloading Mako-1.1.4-py2.py3-none-any.whl (75 kB)\n",
            "\u001b[K     |████████████████████████████████| 75 kB 4.2 MB/s \n",
            "\u001b[?25hCollecting python-editor>=0.3\n",
            "  Downloading python_editor-1.0.4-py3-none-any.whl (4.9 kB)\n",
            "Requirement already satisfied: python-dateutil in /usr/local/lib/python3.7/dist-packages (from alembic<=1.4.1->mlflow) (2.8.2)\n",
            "Requirement already satisfied: tabulate>=0.7.7 in /usr/local/lib/python3.7/dist-packages (from databricks-cli>=0.8.7->mlflow) (0.8.9)\n",
            "Requirement already satisfied: six>=1.10.0 in /usr/local/lib/python3.7/dist-packages (from databricks-cli>=0.8.7->mlflow) (1.15.0)\n",
            "Collecting websocket-client>=0.32.0\n",
            "  Downloading websocket_client-1.2.1-py2.py3-none-any.whl (52 kB)\n",
            "\u001b[K     |████████████████████████████████| 52 kB 1.0 MB/s \n",
            "\u001b[?25hCollecting gitdb<5,>=4.0.1\n",
            "  Downloading gitdb-4.0.7-py3-none-any.whl (63 kB)\n",
            "\u001b[K     |████████████████████████████████| 63 kB 1.3 MB/s \n",
            "\u001b[?25hRequirement already satisfied: typing-extensions>=3.7.4.0 in /usr/local/lib/python3.7/dist-packages (from gitpython>=2.1.0->mlflow) (3.7.4.3)\n",
            "Collecting smmap<5,>=3.0.1\n",
            "  Downloading smmap-4.0.0-py2.py3-none-any.whl (24 kB)\n",
            "Requirement already satisfied: chardet<4,>=3.0.2 in /usr/local/lib/python3.7/dist-packages (from requests>=2.17.3->mlflow) (3.0.4)\n",
            "Requirement already satisfied: urllib3!=1.25.0,!=1.25.1,<1.26,>=1.21.1 in /usr/local/lib/python3.7/dist-packages (from requests>=2.17.3->mlflow) (1.24.3)\n",
            "Requirement already satisfied: certifi>=2017.4.17 in /usr/local/lib/python3.7/dist-packages (from requests>=2.17.3->mlflow) (2021.5.30)\n",
            "Requirement already satisfied: idna<3,>=2.5 in /usr/local/lib/python3.7/dist-packages (from requests>=2.17.3->mlflow) (2.10)\n",
            "Requirement already satisfied: importlib-metadata in /usr/local/lib/python3.7/dist-packages (from sqlalchemy->mlflow) (4.6.4)\n",
            "Requirement already satisfied: greenlet!=0.4.17 in /usr/local/lib/python3.7/dist-packages (from sqlalchemy->mlflow) (1.1.1)\n",
            "Requirement already satisfied: Jinja2<3.0,>=2.10.1 in /usr/local/lib/python3.7/dist-packages (from Flask->mlflow) (2.11.3)\n",
            "Requirement already satisfied: itsdangerous<2.0,>=0.24 in /usr/local/lib/python3.7/dist-packages (from Flask->mlflow) (1.1.0)\n",
            "Requirement already satisfied: Werkzeug<2.0,>=0.15 in /usr/local/lib/python3.7/dist-packages (from Flask->mlflow) (1.0.1)\n",
            "Requirement already satisfied: MarkupSafe>=0.23 in /usr/local/lib/python3.7/dist-packages (from Jinja2<3.0,>=2.10.1->Flask->mlflow) (2.0.1)\n",
            "Requirement already satisfied: setuptools>=3.0 in /usr/local/lib/python3.7/dist-packages (from gunicorn->mlflow) (57.4.0)\n",
            "Requirement already satisfied: zipp>=0.5 in /usr/local/lib/python3.7/dist-packages (from importlib-metadata->sqlalchemy->mlflow) (3.5.0)\n",
            "Requirement already satisfied: pyparsing>=2.0.2 in /usr/local/lib/python3.7/dist-packages (from packaging->mlflow) (2.4.7)\n",
            "Requirement already satisfied: prometheus_client in /usr/local/lib/python3.7/dist-packages (from prometheus-flask-exporter->mlflow) (0.11.0)\n",
            "Building wheels for collected packages: alembic, databricks-cli, prometheus-flask-exporter\n",
            "  Building wheel for alembic (setup.py) ... \u001b[?25l\u001b[?25hdone\n",
            "  Created wheel for alembic: filename=alembic-1.4.1-py2.py3-none-any.whl size=158172 sha256=ed1a0f538f9618a6d0019e1d4340509bd65c58074b068a20a07b70a886978432\n",
            "  Stored in directory: /root/.cache/pip/wheels/be/5d/0a/9e13f53f4f5dfb67cd8d245bb7cdffe12f135846f491a283e3\n",
            "  Building wheel for databricks-cli (setup.py) ... \u001b[?25l\u001b[?25hdone\n",
            "  Created wheel for databricks-cli: filename=databricks_cli-0.15.0-py3-none-any.whl size=105260 sha256=4cf7d87a736b44aac42d74cea3bbe0d9680a79dffef2f52e6e1967213eb8a28b\n",
            "  Stored in directory: /root/.cache/pip/wheels/e7/ba/75/284f9a90ff7a010bb23b9798f2e9a19dd9fe619379c917bff4\n",
            "  Building wheel for prometheus-flask-exporter (setup.py) ... \u001b[?25l\u001b[?25hdone\n",
            "  Created wheel for prometheus-flask-exporter: filename=prometheus_flask_exporter-0.18.2-py3-none-any.whl size=17415 sha256=eb0c726eb4c04b543f5651d6aead96ac6d8e05c2f5441c208fad26fd18f41d38\n",
            "  Stored in directory: /root/.cache/pip/wheels/6a/1e/1c/c765920cb92b2f0343d2dd8b481a407cee2823f9b4bbd2e52a\n",
            "Successfully built alembic databricks-cli prometheus-flask-exporter\n",
            "Installing collected packages: smmap, websocket-client, python-editor, Mako, gitdb, querystring-parser, pyyaml, prometheus-flask-exporter, gunicorn, gitpython, docker, databricks-cli, alembic, mlflow\n",
            "  Attempting uninstall: pyyaml\n",
            "    Found existing installation: PyYAML 3.13\n",
            "    Uninstalling PyYAML-3.13:\n",
            "      Successfully uninstalled PyYAML-3.13\n",
            "Successfully installed Mako-1.1.4 alembic-1.4.1 databricks-cli-0.15.0 docker-5.0.0 gitdb-4.0.7 gitpython-3.1.18 gunicorn-20.1.0 mlflow-1.19.0 prometheus-flask-exporter-0.18.2 python-editor-1.0.4 pyyaml-5.4.1 querystring-parser-1.2.4 smmap-4.0.0 websocket-client-1.2.1\n"
          ],
          "name": "stdout"
        }
      ]
    },
    {
      "cell_type": "code",
      "metadata": {
        "colab": {
          "base_uri": "https://localhost:8080/"
        },
        "id": "F0BHkga7ft-Y",
        "outputId": "f9df975a-8492-4f66-b637-d402f87a3a67"
      },
      "source": [
        "mlflow.start_run()"
      ],
      "execution_count": 32,
      "outputs": [
        {
          "output_type": "execute_result",
          "data": {
            "text/plain": [
              "<ActiveRun: >"
            ]
          },
          "metadata": {
            "tags": []
          },
          "execution_count": 32
        }
      ]
    },
    {
      "cell_type": "code",
      "metadata": {
        "id": "IqQn6Xn2HdbV"
      },
      "source": [
        "# result.select(\"features\").show()\n",
        "# #display(result)"
      ],
      "execution_count": 33,
      "outputs": []
    },
    {
      "cell_type": "code",
      "metadata": {
        "id": "OWN9R2Fef8jJ"
      },
      "source": [
        "result2 = result.toPandas()"
      ],
      "execution_count": 34,
      "outputs": []
    },
    {
      "cell_type": "code",
      "metadata": {
        "id": "ostGlwK7gQe4"
      },
      "source": [
        "# result2.to_csv('result2.csv',sep = ',',header=True, index=False)\n",
        "\n",
        "# #mlflow.log_artifact('FinalRerun.csv')"
      ],
      "execution_count": 35,
      "outputs": []
    },
    {
      "cell_type": "code",
      "metadata": {
        "id": "iDwtPtb07yWJ",
        "colab": {
          "base_uri": "https://localhost:8080/"
        },
        "outputId": "96bfa203-2002-43dc-fca1-d7a9c5c53c9b"
      },
      "source": [
        "result.show()"
      ],
      "execution_count": 36,
      "outputs": [
        {
          "output_type": "stream",
          "text": [
            "+---+--------------------+--------------------+--------------------+--------------------+--------------------+\n",
            "| id|               title|            overview|       text_splitted|    text_splitted_v2|            features|\n",
            "+---+--------------------+--------------------+--------------------+--------------------+--------------------+\n",
            "|  0|           Toy Story|Led by Woody, And...|[led, by, woody,,...|[led, woody,, and...|[-0.1197482127922...|\n",
            "|  1|             Jumanji|When siblings Jud...|[when, siblings, ...|[siblings, judy, ...|[0.27375483000942...|\n",
            "|  2|    Grumpier Old Men|A family wedding ...|[a, family, weddi...|[family, wedding,...|[-0.4301028016841...|\n",
            "|  3|   Waiting to Exhale|Cheated on, mistr...|[cheated, on,, mi...|[cheated, on,, mi...|[-0.4987655802276...|\n",
            "|  4|Father of the Bri...|Just when George ...|[just, when, geor...|[george, banks, r...|[0.18741645084487...|\n",
            "|  5|                Heat|Obsessive master ...|[obsessive, maste...|[obsessive, maste...|[-0.3956106736058...|\n",
            "|  6|             Sabrina|An ugly duckling ...|[an, ugly, duckli...|[ugly, duckling, ...|[-0.6163667181972...|\n",
            "|  7|        Tom and Huck|A mischievous you...|[a, mischievous, ...|[mischievous, you...|[-0.1139660024653...|\n",
            "|  8|        Sudden Death|International act...|[international, a...|[international, a...|[0.19645283325387...|\n",
            "|  9|           GoldenEye|James Bond must u...|[james, bond, mus...|[james, bond, mus...|[-0.0987293915823...|\n",
            "| 10|The American Pres...|Widowed U.S. pres...|[widowed, u.s., p...|[widowed, u.s., p...|[0.36204947147483...|\n",
            "| 11|Dracula: Dead and...|When a lawyer sho...|[when, a, lawyer,...|[lawyer, shows, v...|[-0.1078070867806...|\n",
            "| 12|               Balto|An outcast half-w...|[an, outcast, hal...|[outcast, half-wo...|[0.27620332464575...|\n",
            "| 13|               Nixon|An all-star cast ...|[an, all-star, ca...|[all-star, cast, ...|[0.04852956852742...|\n",
            "| 14|    Cutthroat Island|Morgan Adams and ...|[morgan, adams, a...|[morgan, adams, s...|[-0.4048826682070...|\n",
            "| 15|              Casino|The life of the g...|[the, life, of, t...|[life, gambling, ...|[-0.1125654958188...|\n",
            "| 16|Sense and Sensibi...|Rich Mr. Dashwood...|[rich, mr., dashw...|[rich, mr., dashw...|[0.36740352933605...|\n",
            "| 17|          Four Rooms|It's Ted the Bell...|[it's, ted, the, ...|[ted, bellhop's, ...|[0.34709482602775...|\n",
            "| 18|Ace Ventura: When...|Summoned from an ...|[summoned, from, ...|[summoned, ashram...|[-0.7526817582547...|\n",
            "| 19|         Money Train|A vengeful New Yo...|[a, vengeful, new...|[vengeful, new, y...|[0.24334731435074...|\n",
            "+---+--------------------+--------------------+--------------------+--------------------+--------------------+\n",
            "only showing top 20 rows\n",
            "\n"
          ],
          "name": "stdout"
        }
      ]
    },
    {
      "cell_type": "code",
      "metadata": {
        "id": "mdcY1KLCgCgZ",
        "colab": {
          "base_uri": "https://localhost:8080/",
          "height": 589
        },
        "outputId": "91603117-723d-439c-85e6-5ad7da8661df"
      },
      "source": [
        "result2"
      ],
      "execution_count": 37,
      "outputs": [
        {
          "output_type": "execute_result",
          "data": {
            "text/html": [
              "<div>\n",
              "<style scoped>\n",
              "    .dataframe tbody tr th:only-of-type {\n",
              "        vertical-align: middle;\n",
              "    }\n",
              "\n",
              "    .dataframe tbody tr th {\n",
              "        vertical-align: top;\n",
              "    }\n",
              "\n",
              "    .dataframe thead th {\n",
              "        text-align: right;\n",
              "    }\n",
              "</style>\n",
              "<table border=\"1\" class=\"dataframe\">\n",
              "  <thead>\n",
              "    <tr style=\"text-align: right;\">\n",
              "      <th></th>\n",
              "      <th>id</th>\n",
              "      <th>title</th>\n",
              "      <th>overview</th>\n",
              "      <th>text_splitted</th>\n",
              "      <th>text_splitted_v2</th>\n",
              "      <th>features</th>\n",
              "    </tr>\n",
              "  </thead>\n",
              "  <tbody>\n",
              "    <tr>\n",
              "      <th>0</th>\n",
              "      <td>0</td>\n",
              "      <td>Toy Story</td>\n",
              "      <td>Led by Woody, Andy's toys live happily in his ...</td>\n",
              "      <td>[led, by, woody,, andy's, toys, live, happily,...</td>\n",
              "      <td>[led, woody,, andy's, toys, live, happily, roo...</td>\n",
              "      <td>[-0.11974821279220509, 0.4802752844707081, -0....</td>\n",
              "    </tr>\n",
              "    <tr>\n",
              "      <th>1</th>\n",
              "      <td>1</td>\n",
              "      <td>Jumanji</td>\n",
              "      <td>When siblings Judy and Peter discover an encha...</td>\n",
              "      <td>[when, siblings, judy, and, peter, discover, a...</td>\n",
              "      <td>[siblings, judy, peter, discover, enchanted, b...</td>\n",
              "      <td>[0.2737548300094204, -0.36393830577144404, 0.2...</td>\n",
              "    </tr>\n",
              "    <tr>\n",
              "      <th>2</th>\n",
              "      <td>2</td>\n",
              "      <td>Grumpier Old Men</td>\n",
              "      <td>A family wedding reignites the ancient feud be...</td>\n",
              "      <td>[a, family, wedding, reignites, the, ancient, ...</td>\n",
              "      <td>[family, wedding, reignites, ancient, feud, ne...</td>\n",
              "      <td>[-0.4301028016841773, 0.11192082275043834, -0....</td>\n",
              "    </tr>\n",
              "    <tr>\n",
              "      <th>3</th>\n",
              "      <td>3</td>\n",
              "      <td>Waiting to Exhale</td>\n",
              "      <td>Cheated on, mistreated and stepped on, the wom...</td>\n",
              "      <td>[cheated, on,, mistreated, and, stepped, on,, ...</td>\n",
              "      <td>[cheated, on,, mistreated, stepped, on,, women...</td>\n",
              "      <td>[-0.49876558022766276, -0.40855454987493056, -...</td>\n",
              "    </tr>\n",
              "    <tr>\n",
              "      <th>4</th>\n",
              "      <td>4</td>\n",
              "      <td>Father of the Bride Part II</td>\n",
              "      <td>Just when George Banks has recovered from his ...</td>\n",
              "      <td>[just, when, george, banks, has, recovered, fr...</td>\n",
              "      <td>[george, banks, recovered, daughter's, wedding...</td>\n",
              "      <td>[0.18741645084487066, 0.10116111252594877, -0....</td>\n",
              "    </tr>\n",
              "    <tr>\n",
              "      <th>...</th>\n",
              "      <td>...</td>\n",
              "      <td>...</td>\n",
              "      <td>...</td>\n",
              "      <td>...</td>\n",
              "      <td>...</td>\n",
              "      <td>...</td>\n",
              "    </tr>\n",
              "    <tr>\n",
              "      <th>996</th>\n",
              "      <td>996</td>\n",
              "      <td>The Sword in the Stone</td>\n",
              "      <td>Wart is a young boy who aspires to be a knight...</td>\n",
              "      <td>[wart, is, a, young, boy, who, aspires, to, be...</td>\n",
              "      <td>[wart, young, boy, aspires, knight's, squire.,...</td>\n",
              "      <td>[0.06786159289185889, 0.12598968567908742, 0.2...</td>\n",
              "    </tr>\n",
              "    <tr>\n",
              "      <th>997</th>\n",
              "      <td>997</td>\n",
              "      <td>So Dear to My Heart</td>\n",
              "      <td>The tale of Jeremiah Kincaid and his quest to ...</td>\n",
              "      <td>[the, tale, of, jeremiah, kincaid, and, his, q...</td>\n",
              "      <td>[tale, jeremiah, kincaid, quest, raise, 'champ...</td>\n",
              "      <td>[-0.1057925263359662, -0.3332007431815709, -0....</td>\n",
              "    </tr>\n",
              "    <tr>\n",
              "      <th>998</th>\n",
              "      <td>998</td>\n",
              "      <td>Robin Hood: Prince of Thieves</td>\n",
              "      <td>When the dastardly Sheriff of Nottingham murde...</td>\n",
              "      <td>[when, the, dastardly, sheriff, of, nottingham...</td>\n",
              "      <td>[dastardly, sheriff, nottingham, murders, robi...</td>\n",
              "      <td>[-0.41394654378808776, -0.020709926326727045, ...</td>\n",
              "    </tr>\n",
              "    <tr>\n",
              "      <th>999</th>\n",
              "      <td>999</td>\n",
              "      <td>Mary Poppins</td>\n",
              "      <td>The movie combines a diverting story, songs, c...</td>\n",
              "      <td>[the, movie, combines, a, diverting, story,, s...</td>\n",
              "      <td>[movie, combines, diverting, story,, songs,, c...</td>\n",
              "      <td>[0.17948194097398834, 0.04134475924622487, -0....</td>\n",
              "    </tr>\n",
              "    <tr>\n",
              "      <th>1000</th>\n",
              "      <td>1000</td>\n",
              "      <td>Dumbo</td>\n",
              "      <td>Dumbo is a baby elephant born with oversized e...</td>\n",
              "      <td>[dumbo, is, a, baby, elephant, born, with, ove...</td>\n",
              "      <td>[dumbo, baby, elephant, born, oversized, ears,...</td>\n",
              "      <td>[-0.23639291050759229, -0.16569903602992947, 0...</td>\n",
              "    </tr>\n",
              "  </tbody>\n",
              "</table>\n",
              "<p>1001 rows × 6 columns</p>\n",
              "</div>"
            ],
            "text/plain": [
              "        id  ...                                           features\n",
              "0        0  ...  [-0.11974821279220509, 0.4802752844707081, -0....\n",
              "1        1  ...  [0.2737548300094204, -0.36393830577144404, 0.2...\n",
              "2        2  ...  [-0.4301028016841773, 0.11192082275043834, -0....\n",
              "3        3  ...  [-0.49876558022766276, -0.40855454987493056, -...\n",
              "4        4  ...  [0.18741645084487066, 0.10116111252594877, -0....\n",
              "...    ...  ...                                                ...\n",
              "996    996  ...  [0.06786159289185889, 0.12598968567908742, 0.2...\n",
              "997    997  ...  [-0.1057925263359662, -0.3332007431815709, -0....\n",
              "998    998  ...  [-0.41394654378808776, -0.020709926326727045, ...\n",
              "999    999  ...  [0.17948194097398834, 0.04134475924622487, -0....\n",
              "1000  1000  ...  [-0.23639291050759229, -0.16569903602992947, 0...\n",
              "\n",
              "[1001 rows x 6 columns]"
            ]
          },
          "metadata": {
            "tags": []
          },
          "execution_count": 37
        }
      ]
    },
    {
      "cell_type": "code",
      "metadata": {
        "id": "D_Mm-66Qq74d"
      },
      "source": [
        "#result.withColumn(\"features\", F.regexp_replace(F.regexp_replace(F.regexp_replace(\"features\", \"\\\\]\\\\[\", \"-\"), \"\\\\[\", \"\"), \"\\\\]\", \"\")).show()\n",
        "result1 = result.select('features')\n",
        "#result1 = result.withColumn(\"features\",col(\"features\").cast(StringType()))\n"
      ],
      "execution_count": 38,
      "outputs": []
    },
    {
      "cell_type": "code",
      "metadata": {
        "id": "U6nESx1CyxC8"
      },
      "source": [
        "column_names = ['col1','col2','col3','col4','col5','col6','col7','col8','col9','col10','col11','col12','col13','col14','col15','col16','col17','col18','col19','col20','col21','col22','col23','col24','col25','col26','col27','col28','col29','col30','col31','col32','col33','col34','col35','col36','col37','col38','col39','col40','col41','col42','col43','col44','col45','col46','col47','col48','col49','col50','col51','col52','col53','col54','col55','col56','col57','col58','col59','col60','col61','col62','col63','col64','col65','col66','col67','col68','col69','col70','col71','col72','col73','col74','col75','col76','col77','col78','col79','col80','col81','col82','col83','col84','col85','col86','col87','col88','col89','col90','col91','col92','col93','col94','col95','col96','col97','col98','col99','col100']"
      ],
      "execution_count": 39,
      "outputs": []
    },
    {
      "cell_type": "code",
      "metadata": {
        "id": "4vkwQEfHqUK8"
      },
      "source": [
        "#column_names\n",
        "temp1 = result1.rdd.map(lambda x:[float(y) for y in x['features']]).toDF(column_names)"
      ],
      "execution_count": 40,
      "outputs": []
    },
    {
      "cell_type": "code",
      "metadata": {
        "id": "PI9qdg0Zpb3j",
        "colab": {
          "base_uri": "https://localhost:8080/"
        },
        "outputId": "7ca2f7d6-2240-4b6f-d214-bcbdba89e742"
      },
      "source": [
        "import pyspark.sql.functions as F\n",
        "from pyspark.sql.types import *\n",
        "#import sparkObject.spark.implicits._\n",
        "#import org.apache.spark.sql.functions.split\n",
        "\n",
        "splits = [F.udf(lambda val: float(val[i].item()),FloatType()) for i in range(100)]\n",
        "temp = result1.select(*[s(F.col('features')).alias(c) for c,s in zip(column_names,splits)])\n",
        "temp.show()\n",
        "\n"
      ],
      "execution_count": 41,
      "outputs": [
        {
          "output_type": "stream",
          "text": [
            "+------------+------------+------------+------------+------------+------------+------------+------------+------------+------------+------------+------------+------------+------------+------------+------------+------------+------------+------------+------------+------------+------------+------------+------------+------------+------------+------------+------------+------------+------------+------------+------------+------------+------------+------------+------------+------------+------------+------------+------------+------------+------------+------------+------------+------------+------------+------------+------------+------------+------------+------------+------------+------------+------------+------------+------------+------------+------------+------------+------------+------------+------------+------------+------------+------------+------------+------------+------------+------------+------------+------------+------------+------------+------------+------------+------------+------------+------------+------------+------------+------------+------------+------------+------------+------------+------------+------------+------------+------------+------------+------------+------------+------------+------------+------------+------------+------------+------------+------------+------------+\n",
            "|        col1|        col2|        col3|        col4|        col5|        col6|        col7|        col8|        col9|       col10|       col11|       col12|       col13|       col14|       col15|       col16|       col17|       col18|       col19|       col20|       col21|       col22|       col23|       col24|       col25|       col26|       col27|       col28|       col29|       col30|       col31|       col32|       col33|       col34|       col35|       col36|       col37|       col38|       col39|       col40|       col41|       col42|       col43|       col44|       col45|       col46|       col47|       col48|       col49|       col50|       col51|       col52|       col53|       col54|       col55|       col56|       col57|       col58|       col59|       col60|       col61|       col62|       col63|       col64|       col65|       col66|       col67|       col68|       col69|       col70|       col71|       col72|       col73|       col74|       col75|       col76|       col77|       col78|       col79|       col80|       col81|       col82|       col83|       col84|       col85|       col86|       col87|       col88|       col89|       col90|       col91|       col92|       col93|       col94|       col95|       col96|       col97|       col98|       col99|      col100|\n",
            "+------------+------------+------------+------------+------------+------------+------------+------------+------------+------------+------------+------------+------------+------------+------------+------------+------------+------------+------------+------------+------------+------------+------------+------------+------------+------------+------------+------------+------------+------------+------------+------------+------------+------------+------------+------------+------------+------------+------------+------------+------------+------------+------------+------------+------------+------------+------------+------------+------------+------------+------------+------------+------------+------------+------------+------------+------------+------------+------------+------------+------------+------------+------------+------------+------------+------------+------------+------------+------------+------------+------------+------------+------------+------------+------------+------------+------------+------------+------------+------------+------------+------------+------------+------------+------------+------------+------------+------------+------------+------------+------------+------------+------------+------------+------------+------------+------------+------------+------------+------------+\n",
            "|  -0.2033635|  -0.2033635|  -0.2033635|  -0.2033635|  -0.2033635|  -0.2033635|  -0.2033635|  -0.2033635|  -0.2033635|  -0.2033635|  -0.2033635|  -0.2033635|  -0.2033635|  -0.2033635|  -0.2033635|  -0.2033635|  -0.2033635|  -0.2033635|  -0.2033635|  -0.2033635|  -0.2033635|  -0.2033635|  -0.2033635|  -0.2033635|  -0.2033635|  -0.2033635|  -0.2033635|  -0.2033635|  -0.2033635|  -0.2033635|  -0.2033635|  -0.2033635|  -0.2033635|  -0.2033635|  -0.2033635|  -0.2033635|  -0.2033635|  -0.2033635|  -0.2033635|  -0.2033635|  -0.2033635|  -0.2033635|  -0.2033635|  -0.2033635|  -0.2033635|  -0.2033635|  -0.2033635|  -0.2033635|  -0.2033635|  -0.2033635|  -0.2033635|  -0.2033635|  -0.2033635|  -0.2033635|  -0.2033635|  -0.2033635|  -0.2033635|  -0.2033635|  -0.2033635|  -0.2033635|  -0.2033635|  -0.2033635|  -0.2033635|  -0.2033635|  -0.2033635|  -0.2033635|  -0.2033635|  -0.2033635|  -0.2033635|  -0.2033635|  -0.2033635|  -0.2033635|  -0.2033635|  -0.2033635|  -0.2033635|  -0.2033635|  -0.2033635|  -0.2033635|  -0.2033635|  -0.2033635|  -0.2033635|  -0.2033635|  -0.2033635|  -0.2033635|  -0.2033635|  -0.2033635|  -0.2033635|  -0.2033635|  -0.2033635|  -0.2033635|  -0.2033635|  -0.2033635|  -0.2033635|  -0.2033635|  -0.2033635|  -0.2033635|  -0.2033635|  -0.2033635|  -0.2033635|  -0.2033635|\n",
            "|  0.06459787|  0.06459787|  0.06459787|  0.06459787|  0.06459787|  0.06459787|  0.06459787|  0.06459787|  0.06459787|  0.06459787|  0.06459787|  0.06459787|  0.06459787|  0.06459787|  0.06459787|  0.06459787|  0.06459787|  0.06459787|  0.06459787|  0.06459787|  0.06459787|  0.06459787|  0.06459787|  0.06459787|  0.06459787|  0.06459787|  0.06459787|  0.06459787|  0.06459787|  0.06459787|  0.06459787|  0.06459787|  0.06459787|  0.06459787|  0.06459787|  0.06459787|  0.06459787|  0.06459787|  0.06459787|  0.06459787|  0.06459787|  0.06459787|  0.06459787|  0.06459787|  0.06459787|  0.06459787|  0.06459787|  0.06459787|  0.06459787|  0.06459787|  0.06459787|  0.06459787|  0.06459787|  0.06459787|  0.06459787|  0.06459787|  0.06459787|  0.06459787|  0.06459787|  0.06459787|  0.06459787|  0.06459787|  0.06459787|  0.06459787|  0.06459787|  0.06459787|  0.06459787|  0.06459787|  0.06459787|  0.06459787|  0.06459787|  0.06459787|  0.06459787|  0.06459787|  0.06459787|  0.06459787|  0.06459787|  0.06459787|  0.06459787|  0.06459787|  0.06459787|  0.06459787|  0.06459787|  0.06459787|  0.06459787|  0.06459787|  0.06459787|  0.06459787|  0.06459787|  0.06459787|  0.06459787|  0.06459787|  0.06459787|  0.06459787|  0.06459787|  0.06459787|  0.06459787|  0.06459787|  0.06459787|  0.06459787|\n",
            "|  0.14568804|  0.14568804|  0.14568804|  0.14568804|  0.14568804|  0.14568804|  0.14568804|  0.14568804|  0.14568804|  0.14568804|  0.14568804|  0.14568804|  0.14568804|  0.14568804|  0.14568804|  0.14568804|  0.14568804|  0.14568804|  0.14568804|  0.14568804|  0.14568804|  0.14568804|  0.14568804|  0.14568804|  0.14568804|  0.14568804|  0.14568804|  0.14568804|  0.14568804|  0.14568804|  0.14568804|  0.14568804|  0.14568804|  0.14568804|  0.14568804|  0.14568804|  0.14568804|  0.14568804|  0.14568804|  0.14568804|  0.14568804|  0.14568804|  0.14568804|  0.14568804|  0.14568804|  0.14568804|  0.14568804|  0.14568804|  0.14568804|  0.14568804|  0.14568804|  0.14568804|  0.14568804|  0.14568804|  0.14568804|  0.14568804|  0.14568804|  0.14568804|  0.14568804|  0.14568804|  0.14568804|  0.14568804|  0.14568804|  0.14568804|  0.14568804|  0.14568804|  0.14568804|  0.14568804|  0.14568804|  0.14568804|  0.14568804|  0.14568804|  0.14568804|  0.14568804|  0.14568804|  0.14568804|  0.14568804|  0.14568804|  0.14568804|  0.14568804|  0.14568804|  0.14568804|  0.14568804|  0.14568804|  0.14568804|  0.14568804|  0.14568804|  0.14568804|  0.14568804|  0.14568804|  0.14568804|  0.14568804|  0.14568804|  0.14568804|  0.14568804|  0.14568804|  0.14568804|  0.14568804|  0.14568804|  0.14568804|\n",
            "|-0.068540834|-0.068540834|-0.068540834|-0.068540834|-0.068540834|-0.068540834|-0.068540834|-0.068540834|-0.068540834|-0.068540834|-0.068540834|-0.068540834|-0.068540834|-0.068540834|-0.068540834|-0.068540834|-0.068540834|-0.068540834|-0.068540834|-0.068540834|-0.068540834|-0.068540834|-0.068540834|-0.068540834|-0.068540834|-0.068540834|-0.068540834|-0.068540834|-0.068540834|-0.068540834|-0.068540834|-0.068540834|-0.068540834|-0.068540834|-0.068540834|-0.068540834|-0.068540834|-0.068540834|-0.068540834|-0.068540834|-0.068540834|-0.068540834|-0.068540834|-0.068540834|-0.068540834|-0.068540834|-0.068540834|-0.068540834|-0.068540834|-0.068540834|-0.068540834|-0.068540834|-0.068540834|-0.068540834|-0.068540834|-0.068540834|-0.068540834|-0.068540834|-0.068540834|-0.068540834|-0.068540834|-0.068540834|-0.068540834|-0.068540834|-0.068540834|-0.068540834|-0.068540834|-0.068540834|-0.068540834|-0.068540834|-0.068540834|-0.068540834|-0.068540834|-0.068540834|-0.068540834|-0.068540834|-0.068540834|-0.068540834|-0.068540834|-0.068540834|-0.068540834|-0.068540834|-0.068540834|-0.068540834|-0.068540834|-0.068540834|-0.068540834|-0.068540834|-0.068540834|-0.068540834|-0.068540834|-0.068540834|-0.068540834|-0.068540834|-0.068540834|-0.068540834|-0.068540834|-0.068540834|-0.068540834|-0.068540834|\n",
            "|-0.069492064|-0.069492064|-0.069492064|-0.069492064|-0.069492064|-0.069492064|-0.069492064|-0.069492064|-0.069492064|-0.069492064|-0.069492064|-0.069492064|-0.069492064|-0.069492064|-0.069492064|-0.069492064|-0.069492064|-0.069492064|-0.069492064|-0.069492064|-0.069492064|-0.069492064|-0.069492064|-0.069492064|-0.069492064|-0.069492064|-0.069492064|-0.069492064|-0.069492064|-0.069492064|-0.069492064|-0.069492064|-0.069492064|-0.069492064|-0.069492064|-0.069492064|-0.069492064|-0.069492064|-0.069492064|-0.069492064|-0.069492064|-0.069492064|-0.069492064|-0.069492064|-0.069492064|-0.069492064|-0.069492064|-0.069492064|-0.069492064|-0.069492064|-0.069492064|-0.069492064|-0.069492064|-0.069492064|-0.069492064|-0.069492064|-0.069492064|-0.069492064|-0.069492064|-0.069492064|-0.069492064|-0.069492064|-0.069492064|-0.069492064|-0.069492064|-0.069492064|-0.069492064|-0.069492064|-0.069492064|-0.069492064|-0.069492064|-0.069492064|-0.069492064|-0.069492064|-0.069492064|-0.069492064|-0.069492064|-0.069492064|-0.069492064|-0.069492064|-0.069492064|-0.069492064|-0.069492064|-0.069492064|-0.069492064|-0.069492064|-0.069492064|-0.069492064|-0.069492064|-0.069492064|-0.069492064|-0.069492064|-0.069492064|-0.069492064|-0.069492064|-0.069492064|-0.069492064|-0.069492064|-0.069492064|-0.069492064|\n",
            "| 0.058980256| 0.058980256| 0.058980256| 0.058980256| 0.058980256| 0.058980256| 0.058980256| 0.058980256| 0.058980256| 0.058980256| 0.058980256| 0.058980256| 0.058980256| 0.058980256| 0.058980256| 0.058980256| 0.058980256| 0.058980256| 0.058980256| 0.058980256| 0.058980256| 0.058980256| 0.058980256| 0.058980256| 0.058980256| 0.058980256| 0.058980256| 0.058980256| 0.058980256| 0.058980256| 0.058980256| 0.058980256| 0.058980256| 0.058980256| 0.058980256| 0.058980256| 0.058980256| 0.058980256| 0.058980256| 0.058980256| 0.058980256| 0.058980256| 0.058980256| 0.058980256| 0.058980256| 0.058980256| 0.058980256| 0.058980256| 0.058980256| 0.058980256| 0.058980256| 0.058980256| 0.058980256| 0.058980256| 0.058980256| 0.058980256| 0.058980256| 0.058980256| 0.058980256| 0.058980256| 0.058980256| 0.058980256| 0.058980256| 0.058980256| 0.058980256| 0.058980256| 0.058980256| 0.058980256| 0.058980256| 0.058980256| 0.058980256| 0.058980256| 0.058980256| 0.058980256| 0.058980256| 0.058980256| 0.058980256| 0.058980256| 0.058980256| 0.058980256| 0.058980256| 0.058980256| 0.058980256| 0.058980256| 0.058980256| 0.058980256| 0.058980256| 0.058980256| 0.058980256| 0.058980256| 0.058980256| 0.058980256| 0.058980256| 0.058980256| 0.058980256| 0.058980256| 0.058980256| 0.058980256| 0.058980256| 0.058980256|\n",
            "| -0.12883668| -0.12883668| -0.12883668| -0.12883668| -0.12883668| -0.12883668| -0.12883668| -0.12883668| -0.12883668| -0.12883668| -0.12883668| -0.12883668| -0.12883668| -0.12883668| -0.12883668| -0.12883668| -0.12883668| -0.12883668| -0.12883668| -0.12883668| -0.12883668| -0.12883668| -0.12883668| -0.12883668| -0.12883668| -0.12883668| -0.12883668| -0.12883668| -0.12883668| -0.12883668| -0.12883668| -0.12883668| -0.12883668| -0.12883668| -0.12883668| -0.12883668| -0.12883668| -0.12883668| -0.12883668| -0.12883668| -0.12883668| -0.12883668| -0.12883668| -0.12883668| -0.12883668| -0.12883668| -0.12883668| -0.12883668| -0.12883668| -0.12883668| -0.12883668| -0.12883668| -0.12883668| -0.12883668| -0.12883668| -0.12883668| -0.12883668| -0.12883668| -0.12883668| -0.12883668| -0.12883668| -0.12883668| -0.12883668| -0.12883668| -0.12883668| -0.12883668| -0.12883668| -0.12883668| -0.12883668| -0.12883668| -0.12883668| -0.12883668| -0.12883668| -0.12883668| -0.12883668| -0.12883668| -0.12883668| -0.12883668| -0.12883668| -0.12883668| -0.12883668| -0.12883668| -0.12883668| -0.12883668| -0.12883668| -0.12883668| -0.12883668| -0.12883668| -0.12883668| -0.12883668| -0.12883668| -0.12883668| -0.12883668| -0.12883668| -0.12883668| -0.12883668| -0.12883668| -0.12883668| -0.12883668| -0.12883668|\n",
            "| -0.08512621| -0.08512621| -0.08512621| -0.08512621| -0.08512621| -0.08512621| -0.08512621| -0.08512621| -0.08512621| -0.08512621| -0.08512621| -0.08512621| -0.08512621| -0.08512621| -0.08512621| -0.08512621| -0.08512621| -0.08512621| -0.08512621| -0.08512621| -0.08512621| -0.08512621| -0.08512621| -0.08512621| -0.08512621| -0.08512621| -0.08512621| -0.08512621| -0.08512621| -0.08512621| -0.08512621| -0.08512621| -0.08512621| -0.08512621| -0.08512621| -0.08512621| -0.08512621| -0.08512621| -0.08512621| -0.08512621| -0.08512621| -0.08512621| -0.08512621| -0.08512621| -0.08512621| -0.08512621| -0.08512621| -0.08512621| -0.08512621| -0.08512621| -0.08512621| -0.08512621| -0.08512621| -0.08512621| -0.08512621| -0.08512621| -0.08512621| -0.08512621| -0.08512621| -0.08512621| -0.08512621| -0.08512621| -0.08512621| -0.08512621| -0.08512621| -0.08512621| -0.08512621| -0.08512621| -0.08512621| -0.08512621| -0.08512621| -0.08512621| -0.08512621| -0.08512621| -0.08512621| -0.08512621| -0.08512621| -0.08512621| -0.08512621| -0.08512621| -0.08512621| -0.08512621| -0.08512621| -0.08512621| -0.08512621| -0.08512621| -0.08512621| -0.08512621| -0.08512621| -0.08512621| -0.08512621| -0.08512621| -0.08512621| -0.08512621| -0.08512621| -0.08512621| -0.08512621| -0.08512621| -0.08512621| -0.08512621|\n",
            "|  0.24005175|  0.24005175|  0.24005175|  0.24005175|  0.24005175|  0.24005175|  0.24005175|  0.24005175|  0.24005175|  0.24005175|  0.24005175|  0.24005175|  0.24005175|  0.24005175|  0.24005175|  0.24005175|  0.24005175|  0.24005175|  0.24005175|  0.24005175|  0.24005175|  0.24005175|  0.24005175|  0.24005175|  0.24005175|  0.24005175|  0.24005175|  0.24005175|  0.24005175|  0.24005175|  0.24005175|  0.24005175|  0.24005175|  0.24005175|  0.24005175|  0.24005175|  0.24005175|  0.24005175|  0.24005175|  0.24005175|  0.24005175|  0.24005175|  0.24005175|  0.24005175|  0.24005175|  0.24005175|  0.24005175|  0.24005175|  0.24005175|  0.24005175|  0.24005175|  0.24005175|  0.24005175|  0.24005175|  0.24005175|  0.24005175|  0.24005175|  0.24005175|  0.24005175|  0.24005175|  0.24005175|  0.24005175|  0.24005175|  0.24005175|  0.24005175|  0.24005175|  0.24005175|  0.24005175|  0.24005175|  0.24005175|  0.24005175|  0.24005175|  0.24005175|  0.24005175|  0.24005175|  0.24005175|  0.24005175|  0.24005175|  0.24005175|  0.24005175|  0.24005175|  0.24005175|  0.24005175|  0.24005175|  0.24005175|  0.24005175|  0.24005175|  0.24005175|  0.24005175|  0.24005175|  0.24005175|  0.24005175|  0.24005175|  0.24005175|  0.24005175|  0.24005175|  0.24005175|  0.24005175|  0.24005175|  0.24005175|\n",
            "|  0.04989039|  0.04989039|  0.04989039|  0.04989039|  0.04989039|  0.04989039|  0.04989039|  0.04989039|  0.04989039|  0.04989039|  0.04989039|  0.04989039|  0.04989039|  0.04989039|  0.04989039|  0.04989039|  0.04989039|  0.04989039|  0.04989039|  0.04989039|  0.04989039|  0.04989039|  0.04989039|  0.04989039|  0.04989039|  0.04989039|  0.04989039|  0.04989039|  0.04989039|  0.04989039|  0.04989039|  0.04989039|  0.04989039|  0.04989039|  0.04989039|  0.04989039|  0.04989039|  0.04989039|  0.04989039|  0.04989039|  0.04989039|  0.04989039|  0.04989039|  0.04989039|  0.04989039|  0.04989039|  0.04989039|  0.04989039|  0.04989039|  0.04989039|  0.04989039|  0.04989039|  0.04989039|  0.04989039|  0.04989039|  0.04989039|  0.04989039|  0.04989039|  0.04989039|  0.04989039|  0.04989039|  0.04989039|  0.04989039|  0.04989039|  0.04989039|  0.04989039|  0.04989039|  0.04989039|  0.04989039|  0.04989039|  0.04989039|  0.04989039|  0.04989039|  0.04989039|  0.04989039|  0.04989039|  0.04989039|  0.04989039|  0.04989039|  0.04989039|  0.04989039|  0.04989039|  0.04989039|  0.04989039|  0.04989039|  0.04989039|  0.04989039|  0.04989039|  0.04989039|  0.04989039|  0.04989039|  0.04989039|  0.04989039|  0.04989039|  0.04989039|  0.04989039|  0.04989039|  0.04989039|  0.04989039|  0.04989039|\n",
            "| -0.20258066| -0.20258066| -0.20258066| -0.20258066| -0.20258066| -0.20258066| -0.20258066| -0.20258066| -0.20258066| -0.20258066| -0.20258066| -0.20258066| -0.20258066| -0.20258066| -0.20258066| -0.20258066| -0.20258066| -0.20258066| -0.20258066| -0.20258066| -0.20258066| -0.20258066| -0.20258066| -0.20258066| -0.20258066| -0.20258066| -0.20258066| -0.20258066| -0.20258066| -0.20258066| -0.20258066| -0.20258066| -0.20258066| -0.20258066| -0.20258066| -0.20258066| -0.20258066| -0.20258066| -0.20258066| -0.20258066| -0.20258066| -0.20258066| -0.20258066| -0.20258066| -0.20258066| -0.20258066| -0.20258066| -0.20258066| -0.20258066| -0.20258066| -0.20258066| -0.20258066| -0.20258066| -0.20258066| -0.20258066| -0.20258066| -0.20258066| -0.20258066| -0.20258066| -0.20258066| -0.20258066| -0.20258066| -0.20258066| -0.20258066| -0.20258066| -0.20258066| -0.20258066| -0.20258066| -0.20258066| -0.20258066| -0.20258066| -0.20258066| -0.20258066| -0.20258066| -0.20258066| -0.20258066| -0.20258066| -0.20258066| -0.20258066| -0.20258066| -0.20258066| -0.20258066| -0.20258066| -0.20258066| -0.20258066| -0.20258066| -0.20258066| -0.20258066| -0.20258066| -0.20258066| -0.20258066| -0.20258066| -0.20258066| -0.20258066| -0.20258066| -0.20258066| -0.20258066| -0.20258066| -0.20258066| -0.20258066|\n",
            "|  0.09156512|  0.09156512|  0.09156512|  0.09156512|  0.09156512|  0.09156512|  0.09156512|  0.09156512|  0.09156512|  0.09156512|  0.09156512|  0.09156512|  0.09156512|  0.09156512|  0.09156512|  0.09156512|  0.09156512|  0.09156512|  0.09156512|  0.09156512|  0.09156512|  0.09156512|  0.09156512|  0.09156512|  0.09156512|  0.09156512|  0.09156512|  0.09156512|  0.09156512|  0.09156512|  0.09156512|  0.09156512|  0.09156512|  0.09156512|  0.09156512|  0.09156512|  0.09156512|  0.09156512|  0.09156512|  0.09156512|  0.09156512|  0.09156512|  0.09156512|  0.09156512|  0.09156512|  0.09156512|  0.09156512|  0.09156512|  0.09156512|  0.09156512|  0.09156512|  0.09156512|  0.09156512|  0.09156512|  0.09156512|  0.09156512|  0.09156512|  0.09156512|  0.09156512|  0.09156512|  0.09156512|  0.09156512|  0.09156512|  0.09156512|  0.09156512|  0.09156512|  0.09156512|  0.09156512|  0.09156512|  0.09156512|  0.09156512|  0.09156512|  0.09156512|  0.09156512|  0.09156512|  0.09156512|  0.09156512|  0.09156512|  0.09156512|  0.09156512|  0.09156512|  0.09156512|  0.09156512|  0.09156512|  0.09156512|  0.09156512|  0.09156512|  0.09156512|  0.09156512|  0.09156512|  0.09156512|  0.09156512|  0.09156512|  0.09156512|  0.09156512|  0.09156512|  0.09156512|  0.09156512|  0.09156512|  0.09156512|\n",
            "|-0.101691775|-0.101691775|-0.101691775|-0.101691775|-0.101691775|-0.101691775|-0.101691775|-0.101691775|-0.101691775|-0.101691775|-0.101691775|-0.101691775|-0.101691775|-0.101691775|-0.101691775|-0.101691775|-0.101691775|-0.101691775|-0.101691775|-0.101691775|-0.101691775|-0.101691775|-0.101691775|-0.101691775|-0.101691775|-0.101691775|-0.101691775|-0.101691775|-0.101691775|-0.101691775|-0.101691775|-0.101691775|-0.101691775|-0.101691775|-0.101691775|-0.101691775|-0.101691775|-0.101691775|-0.101691775|-0.101691775|-0.101691775|-0.101691775|-0.101691775|-0.101691775|-0.101691775|-0.101691775|-0.101691775|-0.101691775|-0.101691775|-0.101691775|-0.101691775|-0.101691775|-0.101691775|-0.101691775|-0.101691775|-0.101691775|-0.101691775|-0.101691775|-0.101691775|-0.101691775|-0.101691775|-0.101691775|-0.101691775|-0.101691775|-0.101691775|-0.101691775|-0.101691775|-0.101691775|-0.101691775|-0.101691775|-0.101691775|-0.101691775|-0.101691775|-0.101691775|-0.101691775|-0.101691775|-0.101691775|-0.101691775|-0.101691775|-0.101691775|-0.101691775|-0.101691775|-0.101691775|-0.101691775|-0.101691775|-0.101691775|-0.101691775|-0.101691775|-0.101691775|-0.101691775|-0.101691775|-0.101691775|-0.101691775|-0.101691775|-0.101691775|-0.101691775|-0.101691775|-0.101691775|-0.101691775|-0.101691775|\n",
            "|  0.13712755|  0.13712755|  0.13712755|  0.13712755|  0.13712755|  0.13712755|  0.13712755|  0.13712755|  0.13712755|  0.13712755|  0.13712755|  0.13712755|  0.13712755|  0.13712755|  0.13712755|  0.13712755|  0.13712755|  0.13712755|  0.13712755|  0.13712755|  0.13712755|  0.13712755|  0.13712755|  0.13712755|  0.13712755|  0.13712755|  0.13712755|  0.13712755|  0.13712755|  0.13712755|  0.13712755|  0.13712755|  0.13712755|  0.13712755|  0.13712755|  0.13712755|  0.13712755|  0.13712755|  0.13712755|  0.13712755|  0.13712755|  0.13712755|  0.13712755|  0.13712755|  0.13712755|  0.13712755|  0.13712755|  0.13712755|  0.13712755|  0.13712755|  0.13712755|  0.13712755|  0.13712755|  0.13712755|  0.13712755|  0.13712755|  0.13712755|  0.13712755|  0.13712755|  0.13712755|  0.13712755|  0.13712755|  0.13712755|  0.13712755|  0.13712755|  0.13712755|  0.13712755|  0.13712755|  0.13712755|  0.13712755|  0.13712755|  0.13712755|  0.13712755|  0.13712755|  0.13712755|  0.13712755|  0.13712755|  0.13712755|  0.13712755|  0.13712755|  0.13712755|  0.13712755|  0.13712755|  0.13712755|  0.13712755|  0.13712755|  0.13712755|  0.13712755|  0.13712755|  0.13712755|  0.13712755|  0.13712755|  0.13712755|  0.13712755|  0.13712755|  0.13712755|  0.13712755|  0.13712755|  0.13712755|  0.13712755|\n",
            "|   0.4669671|   0.4669671|   0.4669671|   0.4669671|   0.4669671|   0.4669671|   0.4669671|   0.4669671|   0.4669671|   0.4669671|   0.4669671|   0.4669671|   0.4669671|   0.4669671|   0.4669671|   0.4669671|   0.4669671|   0.4669671|   0.4669671|   0.4669671|   0.4669671|   0.4669671|   0.4669671|   0.4669671|   0.4669671|   0.4669671|   0.4669671|   0.4669671|   0.4669671|   0.4669671|   0.4669671|   0.4669671|   0.4669671|   0.4669671|   0.4669671|   0.4669671|   0.4669671|   0.4669671|   0.4669671|   0.4669671|   0.4669671|   0.4669671|   0.4669671|   0.4669671|   0.4669671|   0.4669671|   0.4669671|   0.4669671|   0.4669671|   0.4669671|   0.4669671|   0.4669671|   0.4669671|   0.4669671|   0.4669671|   0.4669671|   0.4669671|   0.4669671|   0.4669671|   0.4669671|   0.4669671|   0.4669671|   0.4669671|   0.4669671|   0.4669671|   0.4669671|   0.4669671|   0.4669671|   0.4669671|   0.4669671|   0.4669671|   0.4669671|   0.4669671|   0.4669671|   0.4669671|   0.4669671|   0.4669671|   0.4669671|   0.4669671|   0.4669671|   0.4669671|   0.4669671|   0.4669671|   0.4669671|   0.4669671|   0.4669671|   0.4669671|   0.4669671|   0.4669671|   0.4669671|   0.4669671|   0.4669671|   0.4669671|   0.4669671|   0.4669671|   0.4669671|   0.4669671|   0.4669671|   0.4669671|   0.4669671|\n",
            "|  0.18567373|  0.18567373|  0.18567373|  0.18567373|  0.18567373|  0.18567373|  0.18567373|  0.18567373|  0.18567373|  0.18567373|  0.18567373|  0.18567373|  0.18567373|  0.18567373|  0.18567373|  0.18567373|  0.18567373|  0.18567373|  0.18567373|  0.18567373|  0.18567373|  0.18567373|  0.18567373|  0.18567373|  0.18567373|  0.18567373|  0.18567373|  0.18567373|  0.18567373|  0.18567373|  0.18567373|  0.18567373|  0.18567373|  0.18567373|  0.18567373|  0.18567373|  0.18567373|  0.18567373|  0.18567373|  0.18567373|  0.18567373|  0.18567373|  0.18567373|  0.18567373|  0.18567373|  0.18567373|  0.18567373|  0.18567373|  0.18567373|  0.18567373|  0.18567373|  0.18567373|  0.18567373|  0.18567373|  0.18567373|  0.18567373|  0.18567373|  0.18567373|  0.18567373|  0.18567373|  0.18567373|  0.18567373|  0.18567373|  0.18567373|  0.18567373|  0.18567373|  0.18567373|  0.18567373|  0.18567373|  0.18567373|  0.18567373|  0.18567373|  0.18567373|  0.18567373|  0.18567373|  0.18567373|  0.18567373|  0.18567373|  0.18567373|  0.18567373|  0.18567373|  0.18567373|  0.18567373|  0.18567373|  0.18567373|  0.18567373|  0.18567373|  0.18567373|  0.18567373|  0.18567373|  0.18567373|  0.18567373|  0.18567373|  0.18567373|  0.18567373|  0.18567373|  0.18567373|  0.18567373|  0.18567373|  0.18567373|\n",
            "| -0.08467513| -0.08467513| -0.08467513| -0.08467513| -0.08467513| -0.08467513| -0.08467513| -0.08467513| -0.08467513| -0.08467513| -0.08467513| -0.08467513| -0.08467513| -0.08467513| -0.08467513| -0.08467513| -0.08467513| -0.08467513| -0.08467513| -0.08467513| -0.08467513| -0.08467513| -0.08467513| -0.08467513| -0.08467513| -0.08467513| -0.08467513| -0.08467513| -0.08467513| -0.08467513| -0.08467513| -0.08467513| -0.08467513| -0.08467513| -0.08467513| -0.08467513| -0.08467513| -0.08467513| -0.08467513| -0.08467513| -0.08467513| -0.08467513| -0.08467513| -0.08467513| -0.08467513| -0.08467513| -0.08467513| -0.08467513| -0.08467513| -0.08467513| -0.08467513| -0.08467513| -0.08467513| -0.08467513| -0.08467513| -0.08467513| -0.08467513| -0.08467513| -0.08467513| -0.08467513| -0.08467513| -0.08467513| -0.08467513| -0.08467513| -0.08467513| -0.08467513| -0.08467513| -0.08467513| -0.08467513| -0.08467513| -0.08467513| -0.08467513| -0.08467513| -0.08467513| -0.08467513| -0.08467513| -0.08467513| -0.08467513| -0.08467513| -0.08467513| -0.08467513| -0.08467513| -0.08467513| -0.08467513| -0.08467513| -0.08467513| -0.08467513| -0.08467513| -0.08467513| -0.08467513| -0.08467513| -0.08467513| -0.08467513| -0.08467513| -0.08467513| -0.08467513| -0.08467513| -0.08467513| -0.08467513| -0.08467513|\n",
            "| -0.10978272| -0.10978272| -0.10978272| -0.10978272| -0.10978272| -0.10978272| -0.10978272| -0.10978272| -0.10978272| -0.10978272| -0.10978272| -0.10978272| -0.10978272| -0.10978272| -0.10978272| -0.10978272| -0.10978272| -0.10978272| -0.10978272| -0.10978272| -0.10978272| -0.10978272| -0.10978272| -0.10978272| -0.10978272| -0.10978272| -0.10978272| -0.10978272| -0.10978272| -0.10978272| -0.10978272| -0.10978272| -0.10978272| -0.10978272| -0.10978272| -0.10978272| -0.10978272| -0.10978272| -0.10978272| -0.10978272| -0.10978272| -0.10978272| -0.10978272| -0.10978272| -0.10978272| -0.10978272| -0.10978272| -0.10978272| -0.10978272| -0.10978272| -0.10978272| -0.10978272| -0.10978272| -0.10978272| -0.10978272| -0.10978272| -0.10978272| -0.10978272| -0.10978272| -0.10978272| -0.10978272| -0.10978272| -0.10978272| -0.10978272| -0.10978272| -0.10978272| -0.10978272| -0.10978272| -0.10978272| -0.10978272| -0.10978272| -0.10978272| -0.10978272| -0.10978272| -0.10978272| -0.10978272| -0.10978272| -0.10978272| -0.10978272| -0.10978272| -0.10978272| -0.10978272| -0.10978272| -0.10978272| -0.10978272| -0.10978272| -0.10978272| -0.10978272| -0.10978272| -0.10978272| -0.10978272| -0.10978272| -0.10978272| -0.10978272| -0.10978272| -0.10978272| -0.10978272| -0.10978272| -0.10978272| -0.10978272|\n",
            "|   0.2135476|   0.2135476|   0.2135476|   0.2135476|   0.2135476|   0.2135476|   0.2135476|   0.2135476|   0.2135476|   0.2135476|   0.2135476|   0.2135476|   0.2135476|   0.2135476|   0.2135476|   0.2135476|   0.2135476|   0.2135476|   0.2135476|   0.2135476|   0.2135476|   0.2135476|   0.2135476|   0.2135476|   0.2135476|   0.2135476|   0.2135476|   0.2135476|   0.2135476|   0.2135476|   0.2135476|   0.2135476|   0.2135476|   0.2135476|   0.2135476|   0.2135476|   0.2135476|   0.2135476|   0.2135476|   0.2135476|   0.2135476|   0.2135476|   0.2135476|   0.2135476|   0.2135476|   0.2135476|   0.2135476|   0.2135476|   0.2135476|   0.2135476|   0.2135476|   0.2135476|   0.2135476|   0.2135476|   0.2135476|   0.2135476|   0.2135476|   0.2135476|   0.2135476|   0.2135476|   0.2135476|   0.2135476|   0.2135476|   0.2135476|   0.2135476|   0.2135476|   0.2135476|   0.2135476|   0.2135476|   0.2135476|   0.2135476|   0.2135476|   0.2135476|   0.2135476|   0.2135476|   0.2135476|   0.2135476|   0.2135476|   0.2135476|   0.2135476|   0.2135476|   0.2135476|   0.2135476|   0.2135476|   0.2135476|   0.2135476|   0.2135476|   0.2135476|   0.2135476|   0.2135476|   0.2135476|   0.2135476|   0.2135476|   0.2135476|   0.2135476|   0.2135476|   0.2135476|   0.2135476|   0.2135476|   0.2135476|\n",
            "| -0.15074407| -0.15074407| -0.15074407| -0.15074407| -0.15074407| -0.15074407| -0.15074407| -0.15074407| -0.15074407| -0.15074407| -0.15074407| -0.15074407| -0.15074407| -0.15074407| -0.15074407| -0.15074407| -0.15074407| -0.15074407| -0.15074407| -0.15074407| -0.15074407| -0.15074407| -0.15074407| -0.15074407| -0.15074407| -0.15074407| -0.15074407| -0.15074407| -0.15074407| -0.15074407| -0.15074407| -0.15074407| -0.15074407| -0.15074407| -0.15074407| -0.15074407| -0.15074407| -0.15074407| -0.15074407| -0.15074407| -0.15074407| -0.15074407| -0.15074407| -0.15074407| -0.15074407| -0.15074407| -0.15074407| -0.15074407| -0.15074407| -0.15074407| -0.15074407| -0.15074407| -0.15074407| -0.15074407| -0.15074407| -0.15074407| -0.15074407| -0.15074407| -0.15074407| -0.15074407| -0.15074407| -0.15074407| -0.15074407| -0.15074407| -0.15074407| -0.15074407| -0.15074407| -0.15074407| -0.15074407| -0.15074407| -0.15074407| -0.15074407| -0.15074407| -0.15074407| -0.15074407| -0.15074407| -0.15074407| -0.15074407| -0.15074407| -0.15074407| -0.15074407| -0.15074407| -0.15074407| -0.15074407| -0.15074407| -0.15074407| -0.15074407| -0.15074407| -0.15074407| -0.15074407| -0.15074407| -0.15074407| -0.15074407| -0.15074407| -0.15074407| -0.15074407| -0.15074407| -0.15074407| -0.15074407| -0.15074407|\n",
            "+------------+------------+------------+------------+------------+------------+------------+------------+------------+------------+------------+------------+------------+------------+------------+------------+------------+------------+------------+------------+------------+------------+------------+------------+------------+------------+------------+------------+------------+------------+------------+------------+------------+------------+------------+------------+------------+------------+------------+------------+------------+------------+------------+------------+------------+------------+------------+------------+------------+------------+------------+------------+------------+------------+------------+------------+------------+------------+------------+------------+------------+------------+------------+------------+------------+------------+------------+------------+------------+------------+------------+------------+------------+------------+------------+------------+------------+------------+------------+------------+------------+------------+------------+------------+------------+------------+------------+------------+------------+------------+------------+------------+------------+------------+------------+------------+------------+------------+------------+------------+\n",
            "only showing top 20 rows\n",
            "\n"
          ],
          "name": "stdout"
        }
      ]
    },
    {
      "cell_type": "code",
      "metadata": {
        "colab": {
          "base_uri": "https://localhost:8080/"
        },
        "id": "TLhxuEME8PXZ",
        "outputId": "2bf9a30d-6b8f-4f95-b88b-586442b298a9"
      },
      "source": [
        "result1.show()"
      ],
      "execution_count": 42,
      "outputs": [
        {
          "output_type": "stream",
          "text": [
            "+--------------------+\n",
            "|            features|\n",
            "+--------------------+\n",
            "|[-0.1197482127922...|\n",
            "|[0.27375483000942...|\n",
            "|[-0.4301028016841...|\n",
            "|[-0.4987655802276...|\n",
            "|[0.18741645084487...|\n",
            "|[-0.3956106736058...|\n",
            "|[-0.6163667181972...|\n",
            "|[-0.1139660024653...|\n",
            "|[0.19645283325387...|\n",
            "|[-0.0987293915823...|\n",
            "|[0.36204947147483...|\n",
            "|[-0.1078070867806...|\n",
            "|[0.27620332464575...|\n",
            "|[0.04852956852742...|\n",
            "|[-0.4048826682070...|\n",
            "|[-0.1125654958188...|\n",
            "|[0.36740352933605...|\n",
            "|[0.34709482602775...|\n",
            "|[-0.7526817582547...|\n",
            "|[0.24334731435074...|\n",
            "+--------------------+\n",
            "only showing top 20 rows\n",
            "\n"
          ],
          "name": "stdout"
        }
      ]
    },
    {
      "cell_type": "code",
      "metadata": {
        "id": "CbIyixDFsv48"
      },
      "source": [
        "## Topic Modeling "
      ],
      "execution_count": null,
      "outputs": []
    },
    {
      "cell_type": "code",
      "metadata": {
        "id": "ckJ1HDOYWfo6"
      },
      "source": [
        "from pyspark.ml.linalg import Vectors\n",
        "from pyspark.ml.feature import VectorAssembler\n",
        "from pyspark.mllib.linalg.distributed import RowMatrix\n",
        "#projected.numCols()"
      ],
      "execution_count": 43,
      "outputs": []
    },
    {
      "cell_type": "code",
      "metadata": {
        "id": "XI7cVabVHdZH"
      },
      "source": [
        "# KMeans Clustering\n",
        "numIterations = 200\n",
        "numberClusters = 10\n",
        "kmeans = KMeans().setMaxIter(numIterations).setK(numberClusters).setSeed(1)\n",
        "kmeans_model = kmeans.fit(result1)"
      ],
      "execution_count": 44,
      "outputs": []
    },
    {
      "cell_type": "code",
      "metadata": {
        "id": "sIqK5rTBHdWq"
      },
      "source": [
        "# Make predictions\n",
        "predictions = kmeans_model.transform(result)"
      ],
      "execution_count": 45,
      "outputs": []
    },
    {
      "cell_type": "code",
      "metadata": {
        "colab": {
          "base_uri": "https://localhost:8080/"
        },
        "id": "vYCbUl1gHdUR",
        "outputId": "a784fc40-4862-4794-84ba-a5d6299f3a3f"
      },
      "source": [
        "predictions.show()"
      ],
      "execution_count": 46,
      "outputs": [
        {
          "output_type": "stream",
          "text": [
            "+---+--------------------+--------------------+--------------------+--------------------+--------------------+----------+\n",
            "| id|               title|            overview|       text_splitted|    text_splitted_v2|            features|prediction|\n",
            "+---+--------------------+--------------------+--------------------+--------------------+--------------------+----------+\n",
            "|  0|           Toy Story|Led by Woody, And...|[led, by, woody,,...|[led, woody,, and...|[-0.1197482127922...|         3|\n",
            "|  1|             Jumanji|When siblings Jud...|[when, siblings, ...|[siblings, judy, ...|[0.27375483000942...|         3|\n",
            "|  2|    Grumpier Old Men|A family wedding ...|[a, family, weddi...|[family, wedding,...|[-0.4301028016841...|         0|\n",
            "|  3|   Waiting to Exhale|Cheated on, mistr...|[cheated, on,, mi...|[cheated, on,, mi...|[-0.4987655802276...|         0|\n",
            "|  4|Father of the Bri...|Just when George ...|[just, when, geor...|[george, banks, r...|[0.18741645084487...|         3|\n",
            "|  5|                Heat|Obsessive master ...|[obsessive, maste...|[obsessive, maste...|[-0.3956106736058...|         5|\n",
            "|  6|             Sabrina|An ugly duckling ...|[an, ugly, duckli...|[ugly, duckling, ...|[-0.6163667181972...|         3|\n",
            "|  7|        Tom and Huck|A mischievous you...|[a, mischievous, ...|[mischievous, you...|[-0.1139660024653...|         3|\n",
            "|  8|        Sudden Death|International act...|[international, a...|[international, a...|[0.19645283325387...|         0|\n",
            "|  9|           GoldenEye|James Bond must u...|[james, bond, mus...|[james, bond, mus...|[-0.0987293915823...|         5|\n",
            "| 10|The American Pres...|Widowed U.S. pres...|[widowed, u.s., p...|[widowed, u.s., p...|[0.36204947147483...|         0|\n",
            "| 11|Dracula: Dead and...|When a lawyer sho...|[when, a, lawyer,...|[lawyer, shows, v...|[-0.1078070867806...|         6|\n",
            "| 12|               Balto|An outcast half-w...|[an, outcast, hal...|[outcast, half-wo...|[0.27620332464575...|         7|\n",
            "| 13|               Nixon|An all-star cast ...|[an, all-star, ca...|[all-star, cast, ...|[0.04852956852742...|         2|\n",
            "| 14|    Cutthroat Island|Morgan Adams and ...|[morgan, adams, a...|[morgan, adams, s...|[-0.4048826682070...|         3|\n",
            "| 15|              Casino|The life of the g...|[the, life, of, t...|[life, gambling, ...|[-0.1125654958188...|         7|\n",
            "| 16|Sense and Sensibi...|Rich Mr. Dashwood...|[rich, mr., dashw...|[rich, mr., dashw...|[0.36740352933605...|         3|\n",
            "| 17|          Four Rooms|It's Ted the Bell...|[it's, ted, the, ...|[ted, bellhop's, ...|[0.34709482602775...|         2|\n",
            "| 18|Ace Ventura: When...|Summoned from an ...|[summoned, from, ...|[summoned, ashram...|[-0.7526817582547...|         5|\n",
            "| 19|         Money Train|A vengeful New Yo...|[a, vengeful, new...|[vengeful, new, y...|[0.24334731435074...|         5|\n",
            "+---+--------------------+--------------------+--------------------+--------------------+--------------------+----------+\n",
            "only showing top 20 rows\n",
            "\n"
          ],
          "name": "stdout"
        }
      ]
    },
    {
      "cell_type": "code",
      "metadata": {
        "colab": {
          "base_uri": "https://localhost:8080/"
        },
        "id": "WyFYWEOe_u2O",
        "outputId": "0187daae-5894-45a9-8405-973a25950722"
      },
      "source": [
        "from pyspark.ml.feature import PCA\n",
        "from pyspark.ml.linalg import Vectors\n",
        "\n",
        "pca = PCA(k=3, inputCol = \"features\" , outputCol=\"pcaFeatures\")\n",
        "\n",
        "model = pca.fit(predictions)\n",
        "transformed_feature = model.transform(predictions)\n",
        "transformed_feature.select(\"pcaFeatures\").show(truncate=False)"
      ],
      "execution_count": 47,
      "outputs": [
        {
          "output_type": "stream",
          "text": [
            "+-----------------------------------------------------------------+\n",
            "|pcaFeatures                                                      |\n",
            "+-----------------------------------------------------------------+\n",
            "|[-0.3673403624632407,-0.32492388773110115,-0.16419603512309744]  |\n",
            "|[0.1580177370485637,-0.2420259315590702,0.16980499077408387]     |\n",
            "|[-0.07719928109287677,0.4127977509537516,0.24746039798353414]    |\n",
            "|[0.23133063487712838,0.11334796447094203,0.24215915816789657]    |\n",
            "|[-0.12407686987135523,-0.33907482588380383,-0.051776538618981086]|\n",
            "|[0.21630206347899059,0.22870875565705892,-0.01598417724213524]   |\n",
            "|[-0.31526620340092215,0.07838106519351624,-0.16743945183494247]  |\n",
            "|[0.08753678854905456,-0.1451976330688229,-0.6163454820814511]    |\n",
            "|[0.10154195968597823,0.26260444906144204,0.5528761444392722]     |\n",
            "|[0.027353117874153864,-0.22085873491485644,0.039955872711085146] |\n",
            "|[-0.003971286253310848,0.2312315369589749,-0.026233752659198733] |\n",
            "|[-0.6796353916465383,-0.28725832326664064,-0.0901664743091072]   |\n",
            "|[-0.27483824852980127,0.29752192600423666,-0.6265618460868837]   |\n",
            "|[-0.08687067738425765,0.41671045478524515,-0.44521888126655773]  |\n",
            "|[0.11539128912950074,0.048577457583170267,0.16325178319088446]   |\n",
            "|[0.4782028733033056,0.39734345310939295,-0.22222870800324573]    |\n",
            "|[-0.02804357154716999,0.192857684404184,-0.5604944549034275]     |\n",
            "|[0.020054601858462716,0.2412539912355828,-0.5228074323188954]    |\n",
            "|[0.1817761014869128,-0.47373774017284914,0.14211565373942725]    |\n",
            "|[0.006313391391993397,-0.7026554885416442,0.07690701217185288]   |\n",
            "+-----------------------------------------------------------------+\n",
            "only showing top 20 rows\n",
            "\n"
          ],
          "name": "stdout"
        }
      ]
    },
    {
      "cell_type": "code",
      "metadata": {
        "colab": {
          "base_uri": "https://localhost:8080/"
        },
        "id": "iatH__Yv_MuE",
        "outputId": "cfdb5169-c218-4aa8-d678-843a4a385c83"
      },
      "source": [
        "import pyspark.sql.functions as F\n",
        "from pyspark.sql.types import *\n",
        "\n",
        "TF = transformed_feature.select(\"pcaFeatures\")\n",
        "splits = [F.udf(lambda val: float(val[i].item()),FloatType()) for i in range(1)]\n",
        "TF1 = TF.select(*[s(F.col('pcaFeatures')).alias(c) for c,s in zip(['col1'],splits)])\n",
        "TF1.show()\n",
        "splits = [F.udf(lambda val: float(val[i].item()),FloatType()) for i in range(2)]\n",
        "TF2 = TF.select(*[s(F.col('pcaFeatures')).alias(c) for c,s in zip(['col1','col2'],splits)])\n",
        "#TF2.show()\n",
        "splits = [F.udf(lambda val: float(val[i].item()),FloatType()) for i in range(3)]\n",
        "TF3 = TF.select(*[s(F.col('pcaFeatures')).alias(c) for c,s in zip(['col1','col2','col3'],splits)])\n",
        "#TF3.show()"
      ],
      "execution_count": 48,
      "outputs": [
        {
          "output_type": "stream",
          "text": [
            "+------------+\n",
            "|        col1|\n",
            "+------------+\n",
            "| -0.36734036|\n",
            "|  0.15801774|\n",
            "| -0.07719928|\n",
            "|  0.23133063|\n",
            "| -0.12407687|\n",
            "|  0.21630207|\n",
            "|  -0.3152662|\n",
            "|  0.08753679|\n",
            "|  0.10154196|\n",
            "| 0.027353117|\n",
            "|-0.003971286|\n",
            "|  -0.6796354|\n",
            "| -0.27483824|\n",
            "| -0.08687068|\n",
            "|  0.11539129|\n",
            "|  0.47820288|\n",
            "|-0.028043572|\n",
            "| 0.020054601|\n",
            "|   0.1817761|\n",
            "|0.0063133915|\n",
            "+------------+\n",
            "only showing top 20 rows\n",
            "\n"
          ],
          "name": "stdout"
        }
      ]
    },
    {
      "cell_type": "code",
      "metadata": {
        "colab": {
          "base_uri": "https://localhost:8080/"
        },
        "id": "UpJtie7JCW66",
        "outputId": "aa7ed6ec-ecf9-49b2-f871-81bc4dd078e5"
      },
      "source": [
        "#TF1 = TF1.withColumn(\"id\", monotonically_increasing_id())\n",
        "#TF2 = TF2.withColumn(\"id\", monotonically_increasing_id())\n",
        "TF1a = TF1.select(monotonically_increasing_id().alias(\"id\"),\"col1\")\n",
        "TF2a = TF2.select(monotonically_increasing_id().alias(\"id\"),\"col2\")\n",
        "TF3a = TF3.select(monotonically_increasing_id().alias(\"id\"),\"col3\")\n",
        "#TF2a.show()\n",
        "TF12a = TF1a.join(TF2a, \"id\", \"outer\")\n",
        "TF123a = TF12a.join(TF3a, \"id\" ,\"outer\")\n",
        "Pred = transformed_feature.select(\"prediction\")\n",
        "Pred = Pred.select(monotonically_increasing_id().alias(\"id\"),\"prediction\")\n",
        "TF123a = TF123a.join(Pred, \"id\" ,\"outer\")\n",
        "TF123a.sort(\"id\").show()"
      ],
      "execution_count": 49,
      "outputs": [
        {
          "output_type": "stream",
          "text": [
            "+---+------------+-----------+------------+----------+\n",
            "| id|        col1|       col2|        col3|prediction|\n",
            "+---+------------+-----------+------------+----------+\n",
            "|  0| -0.36734036|-0.32492387| -0.16419603|         3|\n",
            "|  1|  0.15801774|-0.24202593|  0.16980499|         3|\n",
            "|  2| -0.07719928| 0.41279775|   0.2474604|         0|\n",
            "|  3|  0.23133063| 0.11334796|  0.24215916|         0|\n",
            "|  4| -0.12407687|-0.33907482| -0.05177654|         3|\n",
            "|  5|  0.21630207| 0.22870876|-0.015984178|         5|\n",
            "|  6|  -0.3152662| 0.07838106| -0.16743945|         3|\n",
            "|  7|  0.08753679|-0.14519763| -0.61634547|         3|\n",
            "|  8|  0.10154196| 0.26260445|   0.5528761|         0|\n",
            "|  9| 0.027353117|-0.22085874| 0.039955873|         5|\n",
            "| 10|-0.003971286| 0.23123154|-0.026233753|         0|\n",
            "| 11|  -0.6796354|-0.28725833| -0.09016647|         6|\n",
            "| 12| -0.27483824| 0.29752192|  -0.6265618|         7|\n",
            "| 13| -0.08687068| 0.41671047|  -0.4452189|         2|\n",
            "| 14|  0.11539129|0.048577458|  0.16325179|         3|\n",
            "| 15|  0.47820288| 0.39734346|  -0.2222287|         7|\n",
            "| 16|-0.028043572| 0.19285768|  -0.5604945|         3|\n",
            "| 17| 0.020054601| 0.24125399|  -0.5228074|         2|\n",
            "| 18|   0.1817761|-0.47373775|  0.14211565|         5|\n",
            "| 19|0.0063133915| -0.7026555|  0.07690701|         5|\n",
            "+---+------------+-----------+------------+----------+\n",
            "only showing top 20 rows\n",
            "\n"
          ],
          "name": "stdout"
        }
      ]
    },
    {
      "cell_type": "code",
      "metadata": {
        "id": "OGP3Of0oJv0L"
      },
      "source": [
        "TF123a_pandas = TF123a.toPandas()"
      ],
      "execution_count": 50,
      "outputs": []
    },
    {
      "cell_type": "code",
      "metadata": {
        "colab": {
          "base_uri": "https://localhost:8080/",
          "height": 419
        },
        "id": "dB8RAPFtKC2N",
        "outputId": "79dbd0ed-1f11-47fa-9464-86db2a686e22"
      },
      "source": [
        "TF123a_pandas"
      ],
      "execution_count": 53,
      "outputs": [
        {
          "output_type": "execute_result",
          "data": {
            "text/html": [
              "<div>\n",
              "<style scoped>\n",
              "    .dataframe tbody tr th:only-of-type {\n",
              "        vertical-align: middle;\n",
              "    }\n",
              "\n",
              "    .dataframe tbody tr th {\n",
              "        vertical-align: top;\n",
              "    }\n",
              "\n",
              "    .dataframe thead th {\n",
              "        text-align: right;\n",
              "    }\n",
              "</style>\n",
              "<table border=\"1\" class=\"dataframe\">\n",
              "  <thead>\n",
              "    <tr style=\"text-align: right;\">\n",
              "      <th></th>\n",
              "      <th>id</th>\n",
              "      <th>col1</th>\n",
              "      <th>col2</th>\n",
              "      <th>col3</th>\n",
              "      <th>prediction</th>\n",
              "    </tr>\n",
              "  </thead>\n",
              "  <tbody>\n",
              "    <tr>\n",
              "      <th>0</th>\n",
              "      <td>26</td>\n",
              "      <td>-0.567331</td>\n",
              "      <td>0.475293</td>\n",
              "      <td>-0.261791</td>\n",
              "      <td>2</td>\n",
              "    </tr>\n",
              "    <tr>\n",
              "      <th>1</th>\n",
              "      <td>29</td>\n",
              "      <td>-0.159361</td>\n",
              "      <td>-0.250403</td>\n",
              "      <td>-0.556250</td>\n",
              "      <td>2</td>\n",
              "    </tr>\n",
              "    <tr>\n",
              "      <th>2</th>\n",
              "      <td>474</td>\n",
              "      <td>-0.352012</td>\n",
              "      <td>-0.103519</td>\n",
              "      <td>0.007673</td>\n",
              "      <td>7</td>\n",
              "    </tr>\n",
              "    <tr>\n",
              "      <th>3</th>\n",
              "      <td>964</td>\n",
              "      <td>-0.101836</td>\n",
              "      <td>-0.229032</td>\n",
              "      <td>-0.591126</td>\n",
              "      <td>3</td>\n",
              "    </tr>\n",
              "    <tr>\n",
              "      <th>4</th>\n",
              "      <td>65</td>\n",
              "      <td>0.131189</td>\n",
              "      <td>-0.082385</td>\n",
              "      <td>0.039840</td>\n",
              "      <td>5</td>\n",
              "    </tr>\n",
              "    <tr>\n",
              "      <th>...</th>\n",
              "      <td>...</td>\n",
              "      <td>...</td>\n",
              "      <td>...</td>\n",
              "      <td>...</td>\n",
              "      <td>...</td>\n",
              "    </tr>\n",
              "    <tr>\n",
              "      <th>996</th>\n",
              "      <td>458</td>\n",
              "      <td>-0.224682</td>\n",
              "      <td>-0.516053</td>\n",
              "      <td>-0.454258</td>\n",
              "      <td>5</td>\n",
              "    </tr>\n",
              "    <tr>\n",
              "      <th>997</th>\n",
              "      <td>739</td>\n",
              "      <td>0.121402</td>\n",
              "      <td>0.033828</td>\n",
              "      <td>-0.392838</td>\n",
              "      <td>3</td>\n",
              "    </tr>\n",
              "    <tr>\n",
              "      <th>998</th>\n",
              "      <td>211</td>\n",
              "      <td>-0.131985</td>\n",
              "      <td>0.080272</td>\n",
              "      <td>-0.261989</td>\n",
              "      <td>7</td>\n",
              "    </tr>\n",
              "    <tr>\n",
              "      <th>999</th>\n",
              "      <td>469</td>\n",
              "      <td>0.461927</td>\n",
              "      <td>0.138267</td>\n",
              "      <td>-0.233390</td>\n",
              "      <td>3</td>\n",
              "    </tr>\n",
              "    <tr>\n",
              "      <th>1000</th>\n",
              "      <td>526</td>\n",
              "      <td>0.210857</td>\n",
              "      <td>-0.277331</td>\n",
              "      <td>-0.198071</td>\n",
              "      <td>3</td>\n",
              "    </tr>\n",
              "  </tbody>\n",
              "</table>\n",
              "<p>1001 rows × 5 columns</p>\n",
              "</div>"
            ],
            "text/plain": [
              "       id      col1      col2      col3  prediction\n",
              "0      26 -0.567331  0.475293 -0.261791           2\n",
              "1      29 -0.159361 -0.250403 -0.556250           2\n",
              "2     474 -0.352012 -0.103519  0.007673           7\n",
              "3     964 -0.101836 -0.229032 -0.591126           3\n",
              "4      65  0.131189 -0.082385  0.039840           5\n",
              "...   ...       ...       ...       ...         ...\n",
              "996   458 -0.224682 -0.516053 -0.454258           5\n",
              "997   739  0.121402  0.033828 -0.392838           3\n",
              "998   211 -0.131985  0.080272 -0.261989           7\n",
              "999   469  0.461927  0.138267 -0.233390           3\n",
              "1000  526  0.210857 -0.277331 -0.198071           3\n",
              "\n",
              "[1001 rows x 5 columns]"
            ]
          },
          "metadata": {
            "tags": []
          },
          "execution_count": 53
        }
      ]
    },
    {
      "cell_type": "code",
      "metadata": {
        "id": "JzjuXiglBJt1",
        "colab": {
          "base_uri": "https://localhost:8080/",
          "height": 542
        },
        "outputId": "cb350242-c52f-4bb7-9fad-2524d48a50ff"
      },
      "source": [
        "import plotly.express as px\n",
        "df = TF123a_pandas\n",
        "#fig = px.scatter_3d(TF123a_pandas, x='col1', y='col2', z='col3',color='prediction')\n",
        "fig = px.scatter_3d(df, x='col1', y='col2', z='col3', size='prediction', color='prediction')\n",
        "                   # hover_data=  )\n",
        "fig.update_layout(scene_zaxis_type=\"log\")\n",
        "fig.show()\n"
      ],
      "execution_count": 56,
      "outputs": [
        {
          "output_type": "display_data",
          "data": {
            "text/html": [
              "<html>\n",
              "<head><meta charset=\"utf-8\" /></head>\n",
              "<body>\n",
              "    <div>\n",
              "            <script src=\"https://cdnjs.cloudflare.com/ajax/libs/mathjax/2.7.5/MathJax.js?config=TeX-AMS-MML_SVG\"></script><script type=\"text/javascript\">if (window.MathJax) {MathJax.Hub.Config({SVG: {font: \"STIX-Web\"}});}</script>\n",
              "                <script type=\"text/javascript\">window.PlotlyConfig = {MathJaxConfig: 'local'};</script>\n",
              "        <script src=\"https://cdn.plot.ly/plotly-latest.min.js\"></script>    \n",
              "            <div id=\"0d79fefa-15c0-43f2-8477-25cdc5e437d0\" class=\"plotly-graph-div\" style=\"height:525px; width:100%;\"></div>\n",
              "            <script type=\"text/javascript\">\n",
              "                \n",
              "                    window.PLOTLYENV=window.PLOTLYENV || {};\n",
              "                    \n",
              "                if (document.getElementById(\"0d79fefa-15c0-43f2-8477-25cdc5e437d0\")) {\n",
              "                    Plotly.newPlot(\n",
              "                        '0d79fefa-15c0-43f2-8477-25cdc5e437d0',\n",
              "                        [{\"hoverlabel\": {\"namelength\": 0}, \"hovertemplate\": \"col1=%{x}<br>col2=%{y}<br>col3=%{z}<br>prediction=%{marker.color}\", \"legendgroup\": \"\", \"marker\": {\"color\": [4, 8, 0, 0, 2, 0, 0, 2, 0, 0, 0, 4, 8, 0, 3, 0, 2, 0, 0, 4, 2, 3, 3, 2, 3, 2, 7, 0, 0, 2, 4, 7, 3, 0, 3, 7, 0, 0, 0, 0, 0, 7, 0, 3, 2, 0, 3, 0, 7, 2, 0, 2, 3, 0, 4, 8, 0, 2, 7, 0, 0, 0, 2, 0, 3, 2, 4, 5, 3, 4, 4, 2, 7, 2, 4, 0, 7, 4, 2, 3, 0, 3, 2, 2, 3, 3, 7, 7, 8, 2, 4, 4, 4, 2, 2, 2, 3, 0, 8, 3, 3, 2, 8, 2, 2, 4, 0, 4, 0, 4, 2, 4, 8, 7, 2, 2, 2, 3, 9, 8, 7, 4, 0, 5, 4, 2, 0, 0, 3, 8, 8, 3, 7, 0, 4, 7, 7, 0, 0, 0, 3, 0, 0, 2, 3, 3, 2, 4, 8, 4, 7, 2, 4, 0, 7, 2, 4, 3, 4, 2, 2, 0, 0, 4, 0, 3, 4, 3, 8, 3, 0, 3, 0, 2, 3, 2, 4, 4, 0, 0, 4, 0, 6, 2, 2, 4, 3, 2, 3, 2, 4, 4, 4, 0, 0, 0, 2, 0, 4, 4, 2, 7, 0, 0, 8, 0, 0, 3, 0, 0, 8, 3, 0, 0, 0, 0, 2, 8, 2, 8, 8, 7, 2, 4, 2, 3, 2, 2, 2, 7, 7, 0, 4, 2, 4, 4, 2, 0, 0, 0, 7, 2, 4, 2, 2, 4, 3, 0, 0, 0, 0, 7, 4, 3, 2, 0, 4, 3, 7, 7, 4, 4, 0, 4, 7, 2, 2, 0, 0, 0, 7, 4, 4, 0, 3, 2, 4, 3, 2, 2, 2, 4, 7, 0, 0, 4, 4, 0, 2, 2, 0, 2, 2, 7, 2, 4, 4, 2, 7, 7, 4, 2, 0, 8, 0, 7, 2, 0, 2, 0, 0, 2, 4, 1, 2, 7, 4, 1, 3, 2, 2, 2, 3, 4, 8, 2, 0, 0, 4, 3, 3, 0, 2, 2, 3, 8, 2, 8, 7, 2, 3, 0, 0, 2, 7, 7, 2, 2, 4, 7, 2, 7, 0, 8, 2, 0, 3, 2, 4, 7, 0, 8, 4, 0, 2, 4, 2, 0, 2, 0, 7, 0, 0, 2, 8, 0, 2, 2, 0, 0, 4, 4, 0, 3, 0, 2, 1, 0, 2, 7, 2, 4, 2, 7, 5, 3, 0, 3, 0, 2, 3, 4, 3, 4, 0, 0, 0, 0, 0, 2, 7, 7, 2, 2, 4, 4, 4, 4, 7, 0, 0, 2, 7, 0, 4, 2, 8, 4, 3, 2, 7, 0, 3, 8, 4, 2, 0, 8, 2, 0, 2, 2, 8, 0, 4, 0, 0, 0, 2, 0, 0, 3, 3, 4, 0, 4, 4, 4, 2, 0, 2, 3, 0, 0, 3, 0, 7, 8, 4, 8, 3, 4, 0, 2, 4, 4, 8, 7, 3, 8, 2, 2, 4, 0, 3, 4, 0, 5, 2, 0, 4, 0, 0, 7, 2, 4, 1, 0, 3, 4, 3, 3, 0, 3, 2, 0, 0, 4, 4, 3, 0, 8, 0, 4, 7, 0, 3, 2, 2, 2, 0, 4, 2, 4, 4, 0, 2, 0, 2, 2, 8, 0, 2, 0, 4, 0, 4, 3, 4, 4, 3, 4, 8, 0, 1, 5, 4, 3, 0, 0, 3, 2, 4, 0, 0, 3, 2, 1, 2, 0, 0, 7, 4, 7, 2, 7, 7, 4, 0, 4, 7, 4, 3, 7, 2, 4, 0, 4, 3, 4, 0, 4, 0, 2, 4, 7, 4, 2, 4, 3, 0, 4, 2, 0, 0, 2, 2, 3, 0, 8, 3, 0, 4, 0, 2, 0, 2, 5, 4, 0, 4, 4, 2, 2, 2, 4, 0, 0, 4, 0, 3, 4, 4, 0, 2, 2, 2, 2, 2, 1, 7, 0, 0, 2, 4, 2, 2, 4, 3, 8, 2, 0, 3, 2, 8, 3, 4, 2, 2, 3, 3, 2, 2, 0, 2, 0, 7, 2, 0, 0, 0, 3, 2, 0, 8, 0, 3, 3, 0, 0, 8, 3, 5, 4, 2, 2, 4, 8, 4, 4, 1, 4, 2, 7, 4, 4, 0, 7, 0, 5, 4, 7, 3, 2, 4, 4, 9, 0, 3, 2, 3, 2, 3, 3, 2, 0, 7, 0, 2, 0, 3, 8, 8, 7, 0, 2, 0, 7, 0, 2, 2, 2, 2, 9, 0, 0, 2, 2, 2, 0, 0, 2, 4, 3, 4, 1, 0, 7, 0, 0, 7, 7, 2, 3, 2, 0, 8, 7, 3, 8, 7, 3, 4, 7, 3, 5, 4, 2, 2, 2, 8, 2, 8, 8, 2, 2, 0, 3, 4, 7, 0, 3, 0, 4, 0, 0, 2, 0, 0, 4, 2, 4, 0, 3, 4, 0, 2, 2, 4, 1, 4, 2, 0, 7, 0, 2, 3, 3, 4, 2, 0, 3, 3, 0, 1, 2, 0, 4, 3, 0, 3, 7, 7, 3, 3, 8, 3, 2, 8, 3, 4, 7, 2, 2, 0, 2, 8, 3, 2, 3, 2, 0, 4, 3, 4, 0, 4, 2, 7, 3, 0, 0, 3, 4, 8, 4, 0, 4, 8, 0, 3, 0, 0, 8, 3, 2, 2, 7, 2, 0, 3, 0, 2, 8, 2, 0, 7, 0, 2, 0, 0, 2, 4, 2, 0, 1, 2, 0, 2, 3, 4, 2, 2, 5, 3, 7, 8, 4, 0, 0, 1, 2, 0, 8, 8, 1, 2, 3, 2, 8, 2, 1, 3, 0, 4, 5, 0, 4, 3, 5, 4, 7, 4, 0, 0, 3, 2, 4, 3, 4, 0, 3, 7, 0, 7, 0, 0, 8, 0, 0, 3, 8, 4, 0, 0, 3, 0, 4, 0, 2, 7, 0, 3, 2, 3, 0, 0, 0, 8, 4, 0, 7, 2, 2, 4, 0, 4, 0, 4, 2, 3, 0, 3, 2, 3, 0, 0, 0, 3, 2, 2, 7, 7, 3, 4, 2, 3, 2, 0, 2, 2, 2, 0, 2, 0, 0, 7, 8, 0, 0, 3, 0, 0, 7, 2, 0, 0, 3, 0, 7, 2], \"coloraxis\": \"coloraxis\", \"size\": [4, 8, 0, 0, 2, 0, 0, 2, 0, 0, 0, 4, 8, 0, 3, 0, 2, 0, 0, 4, 2, 3, 3, 2, 3, 2, 7, 0, 0, 2, 4, 7, 3, 0, 3, 7, 0, 0, 0, 0, 0, 7, 0, 3, 2, 0, 3, 0, 7, 2, 0, 2, 3, 0, 4, 8, 0, 2, 7, 0, 0, 0, 2, 0, 3, 2, 4, 5, 3, 4, 4, 2, 7, 2, 4, 0, 7, 4, 2, 3, 0, 3, 2, 2, 3, 3, 7, 7, 8, 2, 4, 4, 4, 2, 2, 2, 3, 0, 8, 3, 3, 2, 8, 2, 2, 4, 0, 4, 0, 4, 2, 4, 8, 7, 2, 2, 2, 3, 9, 8, 7, 4, 0, 5, 4, 2, 0, 0, 3, 8, 8, 3, 7, 0, 4, 7, 7, 0, 0, 0, 3, 0, 0, 2, 3, 3, 2, 4, 8, 4, 7, 2, 4, 0, 7, 2, 4, 3, 4, 2, 2, 0, 0, 4, 0, 3, 4, 3, 8, 3, 0, 3, 0, 2, 3, 2, 4, 4, 0, 0, 4, 0, 6, 2, 2, 4, 3, 2, 3, 2, 4, 4, 4, 0, 0, 0, 2, 0, 4, 4, 2, 7, 0, 0, 8, 0, 0, 3, 0, 0, 8, 3, 0, 0, 0, 0, 2, 8, 2, 8, 8, 7, 2, 4, 2, 3, 2, 2, 2, 7, 7, 0, 4, 2, 4, 4, 2, 0, 0, 0, 7, 2, 4, 2, 2, 4, 3, 0, 0, 0, 0, 7, 4, 3, 2, 0, 4, 3, 7, 7, 4, 4, 0, 4, 7, 2, 2, 0, 0, 0, 7, 4, 4, 0, 3, 2, 4, 3, 2, 2, 2, 4, 7, 0, 0, 4, 4, 0, 2, 2, 0, 2, 2, 7, 2, 4, 4, 2, 7, 7, 4, 2, 0, 8, 0, 7, 2, 0, 2, 0, 0, 2, 4, 1, 2, 7, 4, 1, 3, 2, 2, 2, 3, 4, 8, 2, 0, 0, 4, 3, 3, 0, 2, 2, 3, 8, 2, 8, 7, 2, 3, 0, 0, 2, 7, 7, 2, 2, 4, 7, 2, 7, 0, 8, 2, 0, 3, 2, 4, 7, 0, 8, 4, 0, 2, 4, 2, 0, 2, 0, 7, 0, 0, 2, 8, 0, 2, 2, 0, 0, 4, 4, 0, 3, 0, 2, 1, 0, 2, 7, 2, 4, 2, 7, 5, 3, 0, 3, 0, 2, 3, 4, 3, 4, 0, 0, 0, 0, 0, 2, 7, 7, 2, 2, 4, 4, 4, 4, 7, 0, 0, 2, 7, 0, 4, 2, 8, 4, 3, 2, 7, 0, 3, 8, 4, 2, 0, 8, 2, 0, 2, 2, 8, 0, 4, 0, 0, 0, 2, 0, 0, 3, 3, 4, 0, 4, 4, 4, 2, 0, 2, 3, 0, 0, 3, 0, 7, 8, 4, 8, 3, 4, 0, 2, 4, 4, 8, 7, 3, 8, 2, 2, 4, 0, 3, 4, 0, 5, 2, 0, 4, 0, 0, 7, 2, 4, 1, 0, 3, 4, 3, 3, 0, 3, 2, 0, 0, 4, 4, 3, 0, 8, 0, 4, 7, 0, 3, 2, 2, 2, 0, 4, 2, 4, 4, 0, 2, 0, 2, 2, 8, 0, 2, 0, 4, 0, 4, 3, 4, 4, 3, 4, 8, 0, 1, 5, 4, 3, 0, 0, 3, 2, 4, 0, 0, 3, 2, 1, 2, 0, 0, 7, 4, 7, 2, 7, 7, 4, 0, 4, 7, 4, 3, 7, 2, 4, 0, 4, 3, 4, 0, 4, 0, 2, 4, 7, 4, 2, 4, 3, 0, 4, 2, 0, 0, 2, 2, 3, 0, 8, 3, 0, 4, 0, 2, 0, 2, 5, 4, 0, 4, 4, 2, 2, 2, 4, 0, 0, 4, 0, 3, 4, 4, 0, 2, 2, 2, 2, 2, 1, 7, 0, 0, 2, 4, 2, 2, 4, 3, 8, 2, 0, 3, 2, 8, 3, 4, 2, 2, 3, 3, 2, 2, 0, 2, 0, 7, 2, 0, 0, 0, 3, 2, 0, 8, 0, 3, 3, 0, 0, 8, 3, 5, 4, 2, 2, 4, 8, 4, 4, 1, 4, 2, 7, 4, 4, 0, 7, 0, 5, 4, 7, 3, 2, 4, 4, 9, 0, 3, 2, 3, 2, 3, 3, 2, 0, 7, 0, 2, 0, 3, 8, 8, 7, 0, 2, 0, 7, 0, 2, 2, 2, 2, 9, 0, 0, 2, 2, 2, 0, 0, 2, 4, 3, 4, 1, 0, 7, 0, 0, 7, 7, 2, 3, 2, 0, 8, 7, 3, 8, 7, 3, 4, 7, 3, 5, 4, 2, 2, 2, 8, 2, 8, 8, 2, 2, 0, 3, 4, 7, 0, 3, 0, 4, 0, 0, 2, 0, 0, 4, 2, 4, 0, 3, 4, 0, 2, 2, 4, 1, 4, 2, 0, 7, 0, 2, 3, 3, 4, 2, 0, 3, 3, 0, 1, 2, 0, 4, 3, 0, 3, 7, 7, 3, 3, 8, 3, 2, 8, 3, 4, 7, 2, 2, 0, 2, 8, 3, 2, 3, 2, 0, 4, 3, 4, 0, 4, 2, 7, 3, 0, 0, 3, 4, 8, 4, 0, 4, 8, 0, 3, 0, 0, 8, 3, 2, 2, 7, 2, 0, 3, 0, 2, 8, 2, 0, 7, 0, 2, 0, 0, 2, 4, 2, 0, 1, 2, 0, 2, 3, 4, 2, 2, 5, 3, 7, 8, 4, 0, 0, 1, 2, 0, 8, 8, 1, 2, 3, 2, 8, 2, 1, 3, 0, 4, 5, 0, 4, 3, 5, 4, 7, 4, 0, 0, 3, 2, 4, 3, 4, 0, 3, 7, 0, 7, 0, 0, 8, 0, 0, 3, 8, 4, 0, 0, 3, 0, 4, 0, 2, 7, 0, 3, 2, 3, 0, 0, 0, 8, 4, 0, 7, 2, 2, 4, 0, 4, 0, 4, 2, 3, 0, 3, 2, 3, 0, 0, 0, 3, 2, 2, 7, 7, 3, 4, 2, 3, 2, 0, 2, 2, 2, 0, 2, 0, 0, 7, 8, 0, 0, 3, 0, 0, 7, 2, 0, 0, 3, 0, 7, 2], \"sizemode\": \"area\", \"sizeref\": 0.0225, \"symbol\": \"circle\"}, \"mode\": \"markers\", \"name\": \"\", \"scene\": \"scene\", \"showlegend\": false, \"type\": \"scatter3d\", \"x\": [-0.5270609855651855, -0.056968219578266144, -0.4134645164012909, -0.07123282551765442, 0.19971764087677002, -0.24898159503936768, -0.3967268466949463, 0.2608380913734436, 0.04548196867108345, -0.12488168478012085, -0.21467337012290955, -0.4310322701931, 0.29947012662887573, 0.3067503869533539, -0.36571672558784485, 0.2118985801935196, 0.4551166594028473, -0.19140616059303284, -0.19381964206695557, 0.1318654716014862, -0.07344105839729309, -0.12498952448368073, -0.23032964766025543, 0.04071088880300522, -0.21745584905147552, -0.12737205624580383, 0.022916151210665703, -0.2932755947113037, 0.08279730379581451, 0.02956238016486168, 0.09691601991653442, 0.5195994973182678, -0.16737934947013855, -0.24441878497600555, 0.14610952138900757, 0.45310547947883606, 0.33859097957611084, 0.14427302777767181, 0.1295202523469925, 0.19645462930202484, -0.035803016275167465, -0.1969243884086609, 0.06383750587701797, -0.4162620007991791, 0.10884133726358414, 0.05464806780219078, -0.3657224476337433, -0.14568962156772614, -0.09612254053354263, -0.018474387004971504, -0.05797051638364792, 0.31786978244781494, -0.40443649888038635, -0.08525953441858292, -0.10148539394140244, 0.1872568577528, 0.3063684105873108, -0.04516865313053131, 0.035498034209012985, -0.07232612371444702, 0.2699907720088959, 0.17038677632808685, -0.002202675910666585, -0.17086969316005707, -0.9809888601303101, 0.21778960525989532, -0.31559672951698303, -4.941553115844727, 0.16851696372032166, -0.07445678859949112, -0.004861357156187296, 0.08233605325222015, 0.09593252092599869, -0.02554433047771454, 0.2841038703918457, -0.05725912004709244, -0.056088123470544815, -0.11577295511960983, 0.1622374951839447, -0.33738112449645996, -0.06890919804573059, 0.11376484483480453, 0.06642960011959076, -0.06999921798706055, 0.17345817387104034, -0.15640945732593536, -0.2654171586036682, -0.07431988418102264, 0.026227999478578568, -0.025932427495718002, 0.23413006961345673, 0.056684710085392, -0.14441873133182526, -0.17857865989208221, 0.1544085144996643, 0.27735817432403564, -0.21216121315956116, -0.01749357394874096, 0.25452709197998047, -0.4991548955440521, -0.05370978266000748, -0.1503075659275055, 0.07214722037315369, 0.15031708776950836, 0.5144174695014954, 0.04056286811828613, 0.05491291731595993, 0.09622999280691147, 0.05766478180885315, -0.09911810606718063, -0.07012172788381577, 0.07335472851991653, 0.2988571524620056, -0.262503057718277, 0.02386622689664364, -0.07952830195426941, -0.02359415590763092, -0.46013128757476807, -0.03013550117611885, 0.1700490415096283, -0.048165466636419296, 0.45453307032585144, 0.03475755825638771, -4.941553115844727, -0.026990121230483055, -0.08357765525579453, 0.1785617619752884, 0.1264575868844986, -0.18692418932914734, 0.3360753655433655, 0.4408400356769562, -0.19631792604923248, 0.25985458493232727, 0.0067049250937998295, -0.009427879936993122, 0.047666821628808975, 0.03989851474761963, 0.08916117995977402, 0.23819242417812347, 0.18186281621456146, 0.14669093489646912, -0.13967469334602356, -0.14168119430541992, 0.27364906668663025, -0.44340890645980835, -0.1365397870540619, 0.11814534664154053, 0.14483529329299927, 0.22780923545360565, 0.19655095040798187, -0.3892174959182739, 0.03554346039891243, 0.030857503414154053, -0.06924626231193542, 0.04458837956190109, 0.24766522645950317, -0.1600310504436493, 0.057525742799043655, -0.15967006981372833, 0.28016969561576843, -0.06308097392320633, 0.23701748251914978, -0.2687658667564392, -0.2541356682777405, 0.23723194003105164, -0.37789711356163025, -0.07683704048395157, 0.16220976412296295, -0.056144919246435165, -0.40100058913230896, -0.5647581219673157, -0.16510576009750366, 0.12657766044139862, 0.20028555393218994, -0.049830421805381775, 0.11011338979005814, -0.1371142417192459, -0.14931418001651764, -0.1785932034254074, 0.20120690762996674, -0.15631496906280518, -0.10197274386882782, 0.27900776267051697, -0.07075610756874084, 0.3741488456726074, -0.15862679481506348, 0.12837930023670197, 0.17172378301620483, 0.02870975248515606, 0.13352982699871063, 0.04963869974017143, -0.08039208501577377, 0.15384402871131897, -0.37902846932411194, -0.008529390208423138, 0.025541003793478012, 0.18436916172504425, -0.10531914979219437, -0.3075386583805084, -0.13955295085906982, 0.18735869228839874, -0.25413253903388977, 0.15264183282852173, 0.009575511328876019, 0.13499978184700012, -0.05154595896601677, -0.2001115083694458, 0.32602789998054504, -0.20770147442817688, 0.11028733104467392, 0.09468523412942886, -0.060896921902894974, 0.2003333419561386, 0.29647475481033325, -0.19695575535297394, -0.17279015481472015, -0.05587188899517059, 0.016214389353990555, 0.31774914264678955, -0.20559169352054596, 0.2592546343803406, 0.010768882930278778, 0.9464629292488098, -0.1808214783668518, 0.21233326196670532, -0.14069901406764984, 0.33529508113861084, -0.051513705402612686, -0.11876248568296432, 0.03181808814406395, 0.03381454572081566, -0.1802271604537964, -0.23717831075191498, 0.17325490713119507, -0.4048120975494385, 0.006104029715061188, 0.14835086464881897, -0.04626098647713661, 0.2570786774158478, 0.07867448031902313, 0.4022393226623535, 0.19732502102851868, -0.13403944671154022, 0.24510832130908966, -0.01605936512351036, -0.1529443860054016, 0.0052759479731321335, -0.16491970419883728, -0.07397058606147766, -0.40004807710647583, 0.2773106098175049, -0.3879181146621704, 0.11793127655982971, 0.17176875472068787, 0.5733955502510071, 0.032441411167383194, -0.2763114273548126, 0.01997336931526661, -0.15397490561008453, 0.4017679691314697, -0.001079906476661563, 0.03390052914619446, 0.25802746415138245, -0.10688421875238419, -0.13908085227012634, -0.22795014083385468, -0.016373245045542717, -0.1932990849018097, 0.12635454535484314, 0.002899360843002796, 0.08430984616279602, -0.03553853556513786, -0.07416167855262756, 0.2539646625518799, -0.287790983915329, 0.3244975209236145, -0.18548671901226044, 0.08760485798120499, 0.16188648343086243, 0.23765122890472412, 0.10956449061632156, -0.1590861678123474, -0.07466735690832138, -0.050129618495702744, 0.20000414550304413, 0.09569451957941055, -0.013231192715466022, -0.18837402760982513, 0.1907278597354889, -0.10886085033416748, 0.5680304169654846, 0.40731918811798096, -0.3701941668987274, 0.2962207496166229, 0.09376306086778641, 0.33852940797805786, 0.12988848984241486, 0.08357932418584824, -0.06493301689624786, 0.09218743443489075, 0.16536538302898407, 0.4269064962863922, 0.1823468804359436, 0.4306924343109131, 0.28807225823402405, 0.17634139955043793, 0.48607051372528076, 0.027891021221876144, 0.05097174644470215, -0.12047312408685684, 0.2972715198993683, 0.5036317110061646, -0.24826058745384216, 0.23465053737163544, 0.14025001227855682, 0.37807077169418335, -0.21337158977985382, 0.0025359331630170345, 0.07063102722167969, 0.3160346448421478, 0.23797698318958282, -0.008673155680298805, 0.2011750042438507, 0.06132998690009117, -0.11410079151391983, 0.37117671966552734, 0.09284834563732147, 0.3164873421192169, -0.2537379562854767, -0.06151570752263069, -0.2593957185745239, -0.11286787688732147, 0.2252400815486908, -0.22031645476818085, 0.08010225743055344, -0.12283427268266678, 0.16410671174526215, 0.13218003511428833, 0.07346781343221664, 0.25297850370407104, -0.09590879827737808, 0.2538341283798218, -0.14244094491004944, 0.27850985527038574, -0.1053437665104866, -0.01386423222720623, 0.15961265563964844, -0.02716062217950821, -0.34907636046409607, -0.04406074807047844, 0.18104718625545502, 0.46078813076019287, -0.2292746752500534, -0.006186147686094046, -0.005696988198906183, 0.22720979154109955, 0.001766930683515966, 0.32238101959228516, -0.18574286997318268, 0.22426500916481018, 0.17435890436172485, 0.2579580247402191, -0.15854427218437195, 0.1861947774887085, 0.1272716522216797, -0.12591977417469025, 0.3231271803379059, -0.030060160905122757, 0.2581072747707367, -0.2803591787815094, 0.11185821145772934, 0.2965678870677948, 0.2914156913757324, 0.12920688092708588, 0.6372613906860352, -0.2916896641254425, 0.2791816294193268, 0.04916396737098694, 0.0295092836022377, -0.012229697778820992, -0.21739833056926727, 0.09755370020866394, 0.3331504166126251, -0.1627553403377533, 0.05288665369153023, 0.3040008246898651, -0.3397236466407776, -0.05958443135023117, -0.17151178419589996, -0.17834720015525818, 0.045612890273332596, 0.017475631088018417, -0.13240225613117218, -0.17881514132022858, -4.941553115844727, 0.03134086728096008, -0.015394797548651695, 0.13413824141025543, 0.047435909509658813, 0.16897428035736084, -0.29563844203948975, 0.038857001811265945, -0.2932032644748688, 0.07848864048719406, 0.20747797191143036, -0.03581002354621887, -0.0931192934513092, -0.032995495945215225, 0.06718140840530396, 0.3240114152431488, 0.38743913173675537, 0.09175638109445572, 0.09571486711502075, -0.11100742965936661, 0.28011927008628845, -0.22886644303798676, -0.15898290276527405, 0.45536258816719055, 0.07318250089883804, -0.17438064515590668, 0.001992895733565092, 0.028987610712647438, 0.053129151463508606, 0.3136017322540283, -0.10228163748979568, 0.31510838866233826, -0.00035354748251847923, 0.11595643311738968, 0.1028301864862442, -0.149332657456398, -0.07590612024068832, 0.3557812571525574, 0.1822788268327713, 0.6721561551094055, 0.06806868314743042, -0.034518904983997345, -0.10142268985509872, 0.07079224288463593, -0.18569155037403107, -0.24353235960006714, 0.4759851396083832, 0.36354753375053406, 0.1831817626953125, -0.31569984555244446, -0.1713726669549942, 0.24852539598941803, -0.3632642328739166, 0.021729931235313416, 0.12244439125061035, 0.18199561536312103, 0.08354970067739487, -0.48638492822647095, 0.07429618388414383, 0.03704235702753067, 0.3313992917537689, 0.10606846958398819, -0.04492514953017235, 0.05612695962190628, 0.13694055378437042, 0.12043309211730957, 0.22261127829551697, 0.3791763186454773, -0.11104969680309296, 0.2031666338443756, 0.06345740705728531, -0.21424996852874756, -0.0411803238093853, 0.2579580247402191, -0.027014873921871185, -0.45651280879974365, -1.5905735492706299, -0.28166964650154114, -0.004444675520062447, 0.2597099542617798, 0.045379895716905594, 0.08693581819534302, 0.4104900360107422, 0.21658608317375183, 0.32055628299713135, 0.36083418130874634, -0.033199459314346313, 0.14984391629695892, 0.27377936244010925, -0.15306781232357025, -0.3837418258190155, -0.02881886623799801, 0.05328832566738129, -4.941553115844727, -0.312204509973526, -0.10250209271907806, -0.008807905949652195, -0.034138113260269165, 0.1712561547756195, 0.0559803731739521, 0.15868787467479706, 0.5604181885719299, 0.07121109217405319, 0.06290104985237122, -0.19974446296691895, 0.1449327915906906, 0.06092337518930435, -0.34647202491760254, -0.20202408730983734, -0.5633256435394287, -0.004979503806680441, -0.081450454890728, -0.18831002712249756, 0.18921346962451935, -0.23088498413562775, -0.265257865190506, -0.029408864676952362, 0.31803593039512634, 0.18932177126407623, 0.3834742605686188, 0.22003225982189178, -0.3867644667625427, 0.016668403521180153, -0.09877137094736099, 0.2682690918445587, -0.3879828453063965, 0.06768038868904114, -0.13632887601852417, -0.38648709654808044, -0.1949148029088974, 0.1825661063194275, -0.11737090349197388, 0.03692767396569252, 0.10951066017150879, 0.41710346937179565, -0.17634475231170654, -0.13066180050373077, 0.07673033326864243, 0.14639273285865784, 0.24787814915180206, -0.023159394040703773, -0.1791466474533081, -0.11652442812919617, -0.08374667167663574, -0.3034929037094116, 0.3905375599861145, -0.33633503317832947, 0.1838114708662033, 0.25062862038612366, 0.18278437852859497, -0.133048415184021, -4.941553115844727, 0.11040665954351425, -0.18759271502494812, 0.17089727520942688, -0.3108971416950226, 0.006368651986122131, -0.09476958960294724, -0.04762723296880722, -0.18504542112350464, -0.28926968574523926, -0.18077069520950317, 0.02659997157752514, -0.1847212314605713, 0.045466963201761246, -0.1694638729095459, -0.19746427237987518, 0.043954622000455856, -0.27259597182273865, -0.05816105008125305, 0.011916620656847954, 0.2914166748523712, -0.06362506002187729, -0.20293070375919342, 0.2522410750389099, 0.14596182107925415, 0.45769891142845154, -0.014874003827571869, 0.11733926832675934, 0.17596079409122467, 0.1625840812921524, 0.4850230813026428, -0.02298613078892231, 0.24926893413066864, -0.2182575911283493, -0.18074415624141693, 0.18502217531204224, -0.011193916201591492, -0.4066477417945862, -0.15471605956554413, -0.4347989559173584, 0.3327620029449463, -0.2335350215435028, 0.16537651419639587, -0.2522847354412079, -0.07687418162822723, 0.3122490346431732, 0.3097818195819855, 0.18525756895542145, 0.07513413578271866, -0.09842468798160553, -0.05417101830244064, 0.05665159970521927, 0.3348192572593689, 0.04325007647275925, -0.10686565190553665, 0.1367388367652893, -0.0367458313703537, -0.23101992905139923, 0.15654809772968292, -0.008640648797154427, -0.019935904070734978, 0.47323739528656006, -4.941553115844727, -0.04237742722034454, -0.5366879105567932, -0.1173541322350502, -0.24126310646533966, 0.4294276833534241, 0.23727047443389893, -0.02652568928897381, -0.16410435736179352, -0.0548577755689621, 0.2963358759880066, -0.5896795392036438, -0.19130803644657135, 0.11424003541469574, 0.001107773743569851, 0.3008720278739929, 0.2584318518638611, -0.32896682620048523, 0.14420939981937408, -0.1449451744556427, -0.13317301869392395, 0.08531056344509125, 0.045384664088487625, 0.263266921043396, 0.1589706391096115, 0.14363926649093628, 0.2464812695980072, 0.2738424241542816, 0.23289769887924194, 0.017055727541446686, -0.12544575333595276, -0.014223283156752586, 0.36582136154174805, 0.2516827881336212, 0.014765976928174496, -0.5797035694122314, 0.04150356352329254, -0.11555197834968567, 0.00010527803533477709, -0.2013886570930481, -0.10552340000867844, 0.13327303528785706, 0.07205715030431747, -0.2463368922472, 0.061105988919734955, 0.05474244803190231, 0.15835751593112946, -0.12920086085796356, 0.21465890109539032, -0.19406184554100037, 0.11252528429031372, 0.10860336571931839, -0.12228250503540039, 0.16240321099758148, 0.028231268748641014, 0.09172089397907257, -0.1644117832183838, 0.15728960931301117, -0.2832818925380707, -0.35504746437072754, 0.017113491892814636, -0.39013949036598206, 0.029265442863106728, 0.43019965291023254, -0.2381962388753891, -4.941553115844727, -0.3723413646221161, 0.4443744122982025, 0.2313011735677719, -0.010390657000243664, -0.13164998590946198, -0.49074697494506836, -0.11088954657316208, -0.0060416623018682, -0.2108345329761505, 0.41121095418930054, 0.39543408155441284, 0.017167342826724052, 0.29814961552619934, 0.39016321301460266, 0.04507489874958992, 0.11252539604902267, -4.941553115844727, -0.0752645879983902, -0.07242104411125183, 0.021055065095424652, -0.07857409119606018, -0.35162219405174255, -0.40507614612579346, 0.1071515902876854, -0.10886753350496292, -0.24747957289218903, -0.016659248620271683, 0.11565721780061722, -0.05256964638829231, -0.13450954854488373, 0.009397893212735653, 0.36679258942604065, 0.14964981377124786, 0.5376667380332947, -0.0026659690774977207, 0.4077887535095215, -0.22988788783550262, 0.11828486621379852, -0.13604924082756042, -0.2786189019680023, -0.025303540751338005, -0.3241444230079651, -0.22767439484596252, 0.07827252894639969, -0.47887012362480164, -0.22502167522907257, 0.20172765851020813, 0.30753254890441895, 0.13960041105747223, -0.009450150653719902, 0.1062341257929802, -0.06357589364051819, -0.16145648062229156, 0.032451290637254715, -0.09269557893276215, 0.24289482831954956, -0.3341085612773895, -0.14019379019737244, 0.15806742012500763, 0.4531593918800354, -0.4345921277999878, -0.2151383012533188, -0.08254823088645935, -0.6506721377372742, -0.07096931338310242, 0.1605093628168106, 0.2652338147163391, 0.09557704627513885, 0.23861658573150635, 0.34281548857688904, -0.09695892781019211, -0.2981506884098053, 0.27646201848983765, 0.30698731541633606, -0.04314544051885605, -0.0190053042024374, 0.2471541166305542, -0.30660563707351685, -0.04744512215256691, -0.1417730450630188, -0.037151288241147995, -0.01649467647075653, -4.941553115844727, -0.2761717140674591, 0.156633198261261, 0.09063597023487091, 0.05843855440616608, 0.012385076843202114, 0.23755080997943878, -0.0020471522584557533, 0.2456136792898178, 0.18268348276615143, -0.013762281276285648, 0.18492929637432098, -0.04817613214254379, -0.10761858522891998, -8.739190525375307e-05, 0.04567001014947891, -0.18850554525852203, 0.3712930381298065, 0.0835718885064125, -0.15521016716957092, 0.11887863278388977, 0.20443673431873322, -0.5225100517272949, 0.037469372153282166, -0.04497842863202095, -0.06823322176933289, 0.15982568264007568, 0.30452579259872437, 0.14144015312194824, -0.017857331782579422, 0.0034491908736526966, 0.3571750521659851, 0.13777482509613037, -0.0010409748647361994, 0.10280831158161163, -0.11707471311092377, 0.33648204803466797, -0.20079733431339264, -0.14646552503108978, -0.0014555129455402493, 0.13758020102977753, -0.17571595311164856, -0.4778554141521454, -0.17686934769153595, 0.20768208801746368, 0.08060064166784286, -0.34534385800361633, -0.11649371683597565, 0.005253329407423735, -0.1612640619277954, 0.4711388945579529, -0.2789955139160156, -0.0011765306117013097, -0.6182501316070557, -0.2188839465379715, -0.4728791415691376, 0.01924731582403183, 0.44765913486480713, -0.03824096918106079, -0.2699883282184601, 0.03158359229564667, 0.1240965873003006, 0.02896375022828579, 0.04292921721935272, -0.17534729838371277, -0.10114838927984238, 0.3113707900047302, -0.00724426843225956, 0.07719897478818893, -0.35808131098747253, 0.1790480613708496, -0.08604156225919724, 0.11537179350852966, 0.16953104734420776, -0.371625691652298, 0.2252950668334961, 0.1371374875307083, 0.1891086846590042, -0.12650172412395477, -0.0012426621979102492, 0.02042435109615326, 0.14278221130371094, -0.045287951827049255, -0.21414242684841156, -0.3185567855834961, -0.12101293355226517, 0.26035577058792114, 0.13660746812820435, 0.15801388025283813, 0.23608775436878204, 0.16962389647960663, -0.4416281580924988, -0.17621223628520966, -0.0008100992417894304, 0.04389554262161255, -0.2145410180091858, 0.24923720955848694, -1.3601278624264523e-05, 0.43531256914138794, -0.05928506329655647, 0.0829242542386055, 0.16259649395942688, 0.017578262835741043, 0.360451877117157, -0.16943606734275818, -0.08089194446802139, 0.3284236490726471, -0.05629446357488632, -0.2695394456386566, 0.10062304884195328, 0.23189450800418854, 0.032294418662786484, -0.0753030925989151, -0.07466539740562439, 0.4570939838886261, -0.040380049496889114, 0.22010289132595062, -0.0933825820684433, 0.4691038429737091, 0.26363605260849, -0.13258804380893707, -0.006685231812298298, -0.42189833521842957, 0.17407703399658203, 0.07392989099025726, -0.3991413712501526, -0.15303276479244232, 0.10124260932207108, -4.941553115844727, -0.145649716258049, -0.035466376692056656, 0.14147180318832397, -0.455368310213089, -0.41733434796333313, 0.11423367261886597, -0.12496455013751984, 0.19964368641376495, -0.10787107050418854, -0.2077728509902954, 0.2419690638780594, -0.05628284439444542, 0.39122167229652405, -0.05327059328556061, 0.12878578901290894, 0.22972933948040009, 0.10618684440851212, 0.08191040903329849, -0.01943635568022728, -0.06373275816440582, 0.25390028953552246, -4.941553115844727, -0.03411046415567398, -0.061836935579776764, -0.25362932682037354, -4.941553115844727, -0.04556296393275261, -0.09308288246393204, -0.0012758012162521482, -0.3980158269405365, -0.34130215644836426, 0.11049991101026535, 0.05881030112504959, -0.05139965936541557, 0.11077257245779037, -0.1761467605829239, -0.24079658091068268, -0.4025767743587494, -0.05358292907476425, 0.08813842386007309, -0.5452409982681274, -0.07848510146141052, 0.32709577679634094, 0.33115339279174805, -0.39415478706359863, -0.0025327778421342373, -0.11122418940067291, 0.1518927663564682, -0.06950940191745758, -0.13669945299625397, 0.20108012855052948, -0.4545834958553314, -0.02806820720434189, 0.03147125616669655, -0.013568896800279617, 0.08606787025928497, -0.11923777312040329, 0.08533895760774612, -0.1290358155965805, 0.3181532025337219, 0.18799860775470734, 0.13980922102928162, 0.09356510639190674, 0.06330004334449768, 0.3298155665397644, -0.2987311780452728, -0.0721534714102745, -0.014399528503417969, 0.19206595420837402, 0.2609604001045227, -0.24810343980789185, -0.10696787387132645, -0.29553714394569397, -0.03399849310517311, -0.05074034631252289, 0.01914849318563938, 0.11041631549596786, -0.03650957718491554, 0.08285078406333923, 0.08124952763319016, 0.2887704372406006, 0.36403176188468933, 0.19244422018527985, -0.050480734556913376, -0.023456623777747154, 0.042201701551675797, 0.026257826015353203, -0.3354431688785553, -0.26789239048957825, 0.23086006939411163, 0.23117373883724213, 0.034677375108003616, -0.3336980938911438, -0.08438368141651154, 0.16027455031871796, -0.34253358840942383, 0.053191255778074265, -0.12640529870986938, 0.4812038242816925, 0.22542691230773926, 0.10651786625385284, 0.08627597242593765, 0.2910403311252594, 0.2579580247402191, -0.1114530861377716, 0.01199042797088623, -0.3732128143310547, -0.12232084572315216, -0.08906569331884384, -0.030000224709510803, -0.0750146433711052, 0.1892247349023819, -0.2532874643802643, 0.1198272854089737, -0.09796560555696487, 0.3874618411064148, 0.19443826377391815], \"y\": [-0.5260248780250549, 0.19524511694908142, 0.07255831360816956, 0.14875078201293945, 0.03156990930438042, 0.11827361583709717, 0.05077388882637024, 0.7532115578651428, 0.37181898951530457, 0.22154971957206726, 0.39378124475479126, -0.9293757081031799, 0.040134742856025696, 0.2911399006843567, 0.01634376309812069, 0.1059800535440445, 0.21238410472869873, 0.43209534883499146, 0.31998398900032043, -0.08451610058546066, 0.7000210285186768, -0.2332957237958908, -1.0839407444000244, 0.19941285252571106, -0.46282505989074707, 0.21016418933868408, 0.268991619348526, 0.16397006809711456, 0.48903846740722656, 0.02776489406824112, -0.15661320090293884, 0.19118161499500275, -0.31859347224235535, 0.16005249321460724, 0.03677714616060257, 0.011846081353724003, 0.32415032386779785, 0.7612708806991577, 0.09225161373615265, 0.41122063994407654, 0.16580292582511902, 0.4074743986129761, 0.16488640010356903, -0.5764008164405823, 0.5003687739372253, 0.26816558837890625, -0.8097515106201172, 0.2593851685523987, 0.07361593842506409, 0.22068798542022705, 0.34280043840408325, 0.1705528348684311, -0.38841748237609863, 0.45058542490005493, -0.23584283888339996, 0.1950898915529251, 0.5082442760467529, -0.02831769920885563, 0.6036747097969055, 0.35147470235824585, 0.3284790515899658, 0.03927357494831085, 0.21565139293670654, 0.21645525097846985, -0.170762836933136, 0.4407259523868561, -0.2309001088142395, 0.27472034096717834, -0.346785306930542, -0.4721141755580902, -0.693801760673523, 0.020023979246616364, 0.10354936867952347, -0.11496910452842712, -0.26726284623146057, 0.06472250819206238, -0.026743795722723007, -0.21415527164936066, 0.39440426230430603, -0.5915343761444092, 0.22828790545463562, -0.2196534425020218, 1.0041224956512451, 0.058691222220659256, -0.3578578531742096, -0.6793897151947021, -0.17648853361606598, 0.0570085346698761, -0.054171331226825714, 0.23329401016235352, -0.3094020485877991, -0.5126088857650757, -0.6142869591712952, 0.24326100945472717, 0.23347914218902588, 0.12342270463705063, -0.5602479577064514, 0.4979797303676605, 0.2985660135746002, -0.3840205669403076, -0.6141639947891235, 0.2862609922885895, -0.12074330449104309, 0.44677650928497314, 0.5491074919700623, -0.2419264018535614, -0.10613809525966644, -0.1739659309387207, 0.37684351205825806, -0.6768035888671875, -0.01206147950142622, -0.3258836567401886, -0.059851810336112976, -0.3692520558834076, 0.7755842804908752, 0.3110688030719757, -0.13331303000450134, -0.559258222579956, -0.9524203538894653, 0.07918298989534378, 0.054799679666757584, -0.14584457874298096, 0.21077120304107666, 0.27472034096717834, -0.1794241964817047, -0.0032290120143443346, 0.13365164399147034, 0.0815303847193718, -0.02093147300183773, 0.34818872809410095, -0.07616286724805832, -0.6282915472984314, 0.16030383110046387, 0.19425606727600098, -0.1726558357477188, 0.04615549370646477, 0.3555510938167572, 0.5962545871734619, -0.16356563568115234, 0.3457496166229248, -0.5566419363021851, 0.1359253078699112, 0.0326978825032711, 0.2602842152118683, -0.3927377164363861, -0.09623321890830994, 0.455793172121048, -0.16566655039787292, 0.18982626497745514, -0.6331780552864075, 0.2106325626373291, 0.27173951268196106, -0.3469514548778534, 0.037857819348573685, 0.12061358988285065, -0.06899327784776688, 0.02231208235025406, -0.03712238371372223, -0.17360919713974, -0.11723895370960236, 0.006854052655398846, 0.30502015352249146, 0.10122498124837875, -0.9152055382728577, 0.0256118793040514, 0.13864745199680328, -0.806494414806366, -0.3556648790836334, -0.10932216048240662, -0.0740518569946289, 0.39494606852531433, -0.09827443957328796, 0.44128984212875366, -0.14515505731105804, -0.08990750461816788, 0.26903897523880005, 0.08060148358345032, -0.4454416334629059, -0.02310173213481903, 0.21514727175235748, -0.3338906764984131, 0.15651758015155792, -0.7807452082633972, 0.4175265431404114, 0.03455821052193642, -0.4027321934700012, -0.7181298732757568, 0.24806857109069824, -0.2972332537174225, 0.5943222045898438, -0.2927202880382538, -0.29580989480018616, -0.5597565770149231, 0.24155893921852112, 0.1326954960823059, 0.6259487271308899, 0.09974339604377747, 0.09336694329977036, -0.0019397411961108446, -0.43897774815559387, 0.002797643654048443, 0.13088427484035492, -0.06436432898044586, -0.261739581823349, 0.16148453950881958, 0.20983073115348816, -0.03471141308546066, -0.7399834990501404, -0.20139513909816742, 0.2890298664569855, 0.06587884575128555, -0.7461230158805847, 0.6289395093917847, 0.16981826722621918, 0.2999218702316284, 0.3447762131690979, 0.5564213991165161, 0.38303548097610474, 0.0016129337018355727, 0.25934576988220215, 0.17211344838142395, 0.3438144624233246, 0.2859210968017578, -0.16375721991062164, -0.02159370854496956, 0.12057703733444214, 0.43911880254745483, 0.35505321621894836, -0.15039558708667755, 0.12037886679172516, 0.26739025115966797, 0.09417907148599625, -0.009040391072630882, 0.32151827216148376, -0.1791650801897049, -0.13310319185256958, 0.7777227163314819, 0.7228206396102905, -0.04289110749959946, 0.30009788274765015, -0.1585947871208191, 0.5809339284896851, -0.2857203185558319, -0.04214254766702652, 0.14473122358322144, -0.8115097284317017, -0.25149810314178467, 0.3801526427268982, 0.04457293450832367, 0.08774732798337936, 0.5241721868515015, -0.005172912497073412, -0.32129186391830444, 0.005039016250520945, 0.3685424327850342, 0.4988325834274292, -0.8239243626594543, 0.13089729845523834, -0.1947050839662552, 0.2688000798225403, -0.39730304479599, -0.7750662565231323, 0.043385185301303864, -0.6734132766723633, 0.028637709096074104, 0.5088996291160583, 0.29791828989982605, 0.08184465765953064, -0.0283009372651577, 0.1653776466846466, -0.0195191390812397, -0.3584878146648407, -0.5498718023300171, -0.3223927915096283, 0.002562840236350894, -0.023396046832203865, -0.6712329983711243, -0.24936650693416595, 0.41312316060066223, 0.4563849866390228, 0.6474108099937439, -0.1852686107158661, -0.44124919176101685, 0.16717587411403656, 0.16369807720184326, -0.10520793497562408, -0.792402982711792, 0.4684971868991852, -0.17912356555461884, 0.47569552063941956, -0.15851187705993652, -0.09761936217546463, 0.5871841907501221, -0.0886598452925682, -0.08799093961715698, -0.14415685832500458, -0.1380857229232788, 0.2734200656414032, 0.2701263129711151, -0.06235748529434204, -0.6378251314163208, 0.2507677972316742, 0.13771729171276093, 0.3355869650840759, 0.5647194981575012, 0.0013992510503157973, 0.2903185486793518, 0.12964196503162384, 0.3054582476615906, 0.1594637930393219, 0.45960161089897156, 0.19694408774375916, -0.34067729115486145, -0.9691685438156128, 0.34852853417396545, -0.080741286277771, -0.3452252745628357, -1.418853998184204, -0.25924527645111084, 0.3929927349090576, 0.2494209259748459, 0.476102352142334, -0.5569850206375122, -0.13814549148082733, 0.07653255760669708, 0.2693171203136444, 0.3137457072734833, 0.033505409955978394, -0.7015013694763184, -0.3018098473548889, -0.34411105513572693, 0.24545812606811523, -0.22086381912231445, 0.5537115335464478, -0.33640509843826294, -0.02433253824710846, -0.1186751201748848, 0.13866540789604187, -0.27271634340286255, 0.1695443093776703, -0.10716849565505981, 0.03429030999541283, 0.07715753465890884, 0.17488734424114227, 0.08672361075878143, -0.29081714153289795, 0.040205273777246475, 0.19866439700126648, -0.29013311862945557, -0.041689980775117874, -0.1415657252073288, 0.14180511236190796, 0.39654698967933655, -0.09841948747634888, 0.468546986579895, 0.2970389425754547, -0.09031231701374054, 0.19672955572605133, -0.5787239074707031, 0.09712912142276764, 0.1273101419210434, 0.9033107757568359, -0.32498282194137573, 0.22694894671440125, 0.4848852753639221, -0.5406371355056763, 0.05042552575469017, -0.043635185807943344, 0.43516841530799866, 0.3959577977657318, 0.31559517979621887, 0.4018003046512604, 0.6381604075431824, 0.07909998297691345, 0.37774792313575745, 0.5429629683494568, 0.20264172554016113, 0.6236202120780945, 0.29273125529289246, 0.19518563151359558, -0.28097325563430786, -0.2296690046787262, 0.05537673458456993, -0.310270220041275, 0.09233768284320831, 0.47840413451194763, -0.8743500113487244, -0.008233042433857918, 0.030322063714265823, 0.0851711556315422, 0.542022168636322, -0.10413007438182831, 0.7685566544532776, 0.19097557663917542, 0.27472034096717834, -0.4575936496257782, 0.3739939033985138, -0.16227425634860992, 0.20327775180339813, 0.27205702662467957, -0.0880972370505333, -1.015021562576294, -0.18614719808101654, -0.6449093818664551, -0.03667450696229935, 0.14807787537574768, 0.2823465168476105, 0.15324929356575012, 0.23043230175971985, 0.08113940805196762, 0.458872526884079, 0.2311619222164154, 0.19746547937393188, 0.4455162584781647, -0.16824190318584442, -0.41887176036834717, -0.046928517520427704, -0.49645277857780457, 0.34983009099960327, 0.3419089615345001, 0.08365238457918167, -0.12981931865215302, -0.21167734265327454, -0.22454650700092316, -0.5395718812942505, 0.4136444330215454, 0.12537452578544617, -1.011435627937317, -0.2197428196668625, 0.13937175273895264, -0.005269478540867567, 0.059709154069423676, -0.30225613713264465, -0.2035735845565796, -0.22649598121643066, 0.6120797991752625, 0.08233434706926346, 0.37331297993659973, 0.005892863497138023, -0.2528681457042694, 0.44940730929374695, 0.24569489061832428, -0.23926086723804474, 0.14093130826950073, -0.8572221398353577, 0.08626427501440048, 0.35002371668815613, 0.12387490272521973, 0.6838394999504089, 0.374453067779541, 0.17787206172943115, -0.6720127463340759, -0.25761479139328003, -0.22177594900131226, 0.14655755460262299, -0.7238522171974182, -0.0813867449760437, -0.154341459274292, 0.5197421312332153, 0.4018450975418091, 0.16837762296199799, -0.24612954258918762, 0.07056422531604767, 0.2654181718826294, -0.41256052255630493, 0.1522306650876999, 0.11989285051822662, 0.9033107757568359, -0.04637609422206879, -0.01085217297077179, 0.058544207364320755, -0.3132575452327728, 0.12178077548742294, 0.24044348299503326, -0.48312777280807495, -0.647299587726593, -0.25517982244491577, 0.2918442189693451, -0.2526324987411499, 0.2828914523124695, 0.4057919681072235, -0.04146957024931908, -0.2526005804538727, 0.0781388133764267, -0.6452990174293518, -0.28820371627807617, -0.17317906022071838, 0.27472034096717834, 0.19830840826034546, -0.13666634261608124, -0.7217593193054199, 0.00028928229585289955, 0.15205739438533783, -0.1052853912115097, -0.006778175476938486, -0.38228750228881836, -0.6248278617858887, 0.06387942284345627, -0.21262359619140625, 0.006641782354563475, -0.053569067269563675, -0.3268851935863495, 0.2766284644603729, -1.2787450551986694, 0.5762220621109009, -0.00822294969111681, 0.283475399017334, -0.10190786421298981, -0.014385519549250603, -0.1654091328382492, 0.307684063911438, -0.3386870324611664, 0.18931284546852112, -0.2611088752746582, -0.08739809691905975, 0.257209837436676, -0.16724631190299988, -0.1538018137216568, 0.11066346615552902, 0.2751571834087372, 0.3073119819164276, -0.5338310599327087, 0.1410883069038391, -0.8529413938522339, -0.5582042336463928, 0.5854339003562927, 0.049024712294340134, 0.024084385484457016, 0.5608443021774292, 0.3862481713294983, 0.265872985124588, 0.41054853796958923, 0.06631529331207275, 0.05146554112434387, -0.5531513094902039, 0.09212230145931244, -0.09499621391296387, 0.001795113319531083, -0.40792739391326904, 0.09815812110900879, -0.49441635608673096, -0.2478833645582199, -0.14368705451488495, 0.0778488889336586, -0.8831576704978943, 0.27472034096717834, -0.34470126032829285, -0.06711778044700623, -0.2188246101140976, 0.1184845119714737, -0.722502589225769, 0.7064102292060852, -0.45646074414253235, 0.08944200724363327, 0.2959684431552887, -0.31912410259246826, 0.10014659911394119, -1.217230200767517, -0.04122278466820717, 0.10572272539138794, 0.3346678912639618, 0.11384718865156174, -0.8291053175926208, -0.25639036297798157, 0.08499158173799515, 0.004425420891493559, -0.04793049767613411, -0.32679417729377747, 0.03599194064736366, -0.40612277388572693, 0.24260716140270233, 0.09343409538269043, -0.3963961899280548, 0.14152057468891144, 0.0008113563526421785, -0.45216405391693115, 0.23151759803295135, -0.2860821485519409, -0.29001349210739136, -0.4449172616004944, 0.1657876819372177, -0.24984365701675415, 0.3868328332901001, 0.3085200786590576, -1.1330015659332275, 0.13303999602794647, 0.10535507649183273, 0.0041329097002744675, -0.35968154668807983, -0.3982600271701813, 0.5559373497962952, -0.27243945002555847, 0.009296745993196964, 0.5750621557235718, 0.357223242521286, -0.15423128008842468, -0.060570355504751205, -0.17350973188877106, 0.0785636380314827, 0.37133267521858215, -0.08546909689903259, 0.22106648981571198, -0.0706818476319313, 0.10848860442638397, -0.28691503405570984, 0.2315210998058319, 0.4884433150291443, 0.27472034096717834, -0.42397069931030273, 0.27188801765441895, -0.30251577496528625, 0.09864150732755661, 0.23289568722248077, 0.21177099645137787, -0.1403525471687317, -0.4732069969177246, 0.14583659172058105, -0.15396474301815033, -0.5563282370567322, 0.24565480649471283, -0.1986565738916397, -0.21834029257297516, -0.5905002355575562, 0.40573909878730774, 0.21607190370559692, 0.40135398507118225, 0.48616498708724976, 0.5040789842605591, 0.00683149928227067, -1.2751808166503906, 0.3047352433204651, 0.3665122091770172, 0.25426629185676575, 0.2557448148727417, -0.34741470217704773, -0.003492543939501047, -0.06539643555879593, -0.01243964210152626, -0.1091911643743515, 0.4073261022567749, 0.13419224321842194, 0.038750942796468735, -0.24239946901798248, 0.354061096906662, -0.4052649438381195, -0.2570437490940094, -0.022486962378025055, 0.06749223172664642, 0.04448976740241051, -0.6876616477966309, -0.12890130281448364, 0.3104657828807831, 0.12731438875198364, -0.059399280697107315, 0.13496550917625427, -0.08079053461551666, 0.2487112283706665, -0.02322196029126644, 0.09977040439844131, 0.52188640832901, 0.25075188279151917, -0.4108082056045532, 0.11909149587154388, 0.00480609992519021, -0.08342170715332031, 0.6594225168228149, -0.0011090276530012488, -0.14497588574886322, 0.0983218178153038, 0.14764055609703064, 0.2532014846801758, -0.10644765943288803, 0.27472034096717834, -0.042095039039850235, 0.5024853944778442, 0.6790094971656799, -1.4111802577972412, 0.4138984680175781, -0.2514277994632721, -1.0752274990081787, -0.2876307964324951, -0.054198816418647766, -0.05720755085349083, -0.07988405972719193, -0.005740359425544739, -0.1524624228477478, -0.12732233107089996, 0.1456768661737442, 0.5542082786560059, 0.27472034096717834, -0.8940622806549072, 0.33213353157043457, -0.6407856941223145, 0.35586369037628174, 0.014701558277010918, -0.3579774498939514, 0.02572316862642765, 0.8097864985466003, -0.32100799679756165, 0.3323449194431305, -0.6196468472480774, 0.166975200176239, -0.32764384150505066, -0.3807344138622284, 0.3475004732608795, 0.25879669189453125, 0.15315108001232147, 0.19657684862613678, 0.33567163348197937, 0.6145458221435547, -0.22874851524829865, -0.17596934735774994, -0.06434076279401779, -0.19799809157848358, 0.2884480357170105, 0.6962233185768127, 0.6806145310401917, 0.025901200249791145, -0.015833908692002296, 0.5575874447822571, -0.06312002241611481, 0.18037310242652893, 0.445311963558197, -0.5322272181510925, 0.6895381212234497, 0.12476038187742233, 0.11177083104848862, 0.22834426164627075, 0.01579325459897518, 0.05803387239575386, 0.33704984188079834, 0.10224325209856033, -0.088459312915802, -1.2763229608535767, -0.5758665204048157, -1.6060993671417236, 0.15952160954475403, -0.09423104673624039, 0.12503133714199066, 0.20224614441394806, 0.3912092447280884, 0.2783966362476349, 0.40171030163764954, -0.13222287595272064, 0.27307766675949097, 0.2142888456583023, 0.36916762590408325, 0.26137444376945496, -0.29173389077186584, 0.4825686514377594, -0.14147311449050903, -0.5384889245033264, -0.4828259348869324, -0.003844589227810502, -0.10579534620046616, 0.27472034096717834, -0.08157411217689514, 0.058950964361429214, 0.4732649326324463, -0.2428101897239685, 0.47670355439186096, 0.35742494463920593, -0.09635885059833527, -0.07490554451942444, 0.3875117301940918, 0.30486777424812317, 0.2855581045150757, -0.4636153280735016, -0.29569172859191895, -0.26192089915275574, 0.37256723642349243, -0.4853379428386688, 0.4764203429222107, -1.1269198656082153, 0.3900185823440552, 0.13030537962913513, 0.04958599805831909, 0.27392083406448364, 0.3232208788394928, -0.2387487292289734, -0.21248193085193634, -0.5709376335144043, 0.07248632609844208, -0.193339005112648, -0.3639908730983734, 0.1085859015583992, 0.10443801432847977, 0.516379177570343, -0.31007567048072815, -0.9737637639045715, -0.32882317900657654, 0.20369909703731537, 0.11100206524133682, -0.28535622358322144, 0.40169385075569153, 0.37050899863243103, -0.6150951981544495, -0.10290870070457458, 0.17532724142074585, 0.41552793979644775, 0.037585966289043427, 0.1011015921831131, -0.25562939047813416, -0.12248598039150238, -0.5063910484313965, 0.17713500559329987, 0.5110819935798645, -0.1975647211074829, -0.1994803249835968, -0.14820511639118195, -0.42383524775505066, 0.06416568160057068, -0.47687554359436035, 0.09980255365371704, 0.06647104024887085, 0.4508150517940521, 0.06439013034105301, 0.12848970293998718, -0.18406236171722412, -0.5299389958381653, -0.0542789101600647, 0.04147784784436226, -0.16624502837657928, 0.15185804665088654, 0.36660221219062805, -0.2186751663684845, 0.0620436854660511, -0.9116944670677185, 0.030045904219150543, -0.2562391757965088, 0.27253416180610657, 0.00996097270399332, -0.018444910645484924, -0.10456016659736633, -0.20973922312259674, 0.25469836592674255, -0.2866035997867584, 0.9608005881309509, 0.37950268387794495, 0.01173582673072815, 0.28249993920326233, 0.054136451333761215, -0.0754317119717598, -0.08055203408002853, 0.35163629055023193, -0.19626601040363312, 0.24121005833148956, -0.6577188968658447, 0.23583586513996124, 0.3464828133583069, -0.5399350523948669, 0.2885695695877075, 0.01602139137685299, 0.2920581102371216, -0.1845243275165558, 0.07832883298397064, 0.24721388518810272, 0.3809717297554016, 0.2566662132740021, 0.12446829676628113, -0.8085871934890747, -0.05137676000595093, 0.03148077800869942, 0.23505569994449615, 0.30058586597442627, -0.3277260661125183, 0.014763429760932922, 0.3971042335033417, 0.2559523582458496, -0.07458243519067764, 0.4307669401168823, 0.477951318025589, -0.3958846926689148, 0.5361440777778625, 0.6465939283370972, -1.1317951679229736, 0.3521758019924164, -0.20602980256080627, 0.300852507352829, -0.2962080240249634, 0.15888682007789612, 0.3771854639053345, 0.2275007963180542, 0.27472034096717834, -0.10734881460666656, -0.3041369616985321, -0.03634534776210785, -0.5690189599990845, -0.05090360715985298, 0.18840467929840088, -1.2268950939178467, 0.21830803155899048, -0.13395513594150543, -0.07993164658546448, 0.05594627931714058, -0.646185576915741, 0.22617293894290924, -0.4661056697368622, 0.13452871143817902, -0.2722840905189514, 0.8949684500694275, -0.3929312229156494, -0.1288929283618927, 0.4183850884437561, -0.03643590584397316, 0.27472034096717834, -0.226181298494339, -0.3852407932281494, -0.09309318661689758, 0.27472034096717834, -0.39413219690322876, -0.003277767915278673, -0.746589183807373, -0.052181221544742584, 0.2025672346353531, -0.08550364524126053, 0.2923072874546051, -0.5735180377960205, -0.30270087718963623, -0.0004605627909768373, 0.22690294682979584, -0.03096829727292061, -0.024285415187478065, 0.01161189191043377, -0.06003023311495781, 0.23525868356227875, 0.15670795738697052, 0.19013740122318268, 0.08261042833328247, -0.0033933166414499283, -0.16037710011005402, -0.031379975378513336, -0.15878784656524658, 0.04049980640411377, 0.0820624902844429, 0.06417252123355865, -0.01748645305633545, -0.1974964439868927, 0.7024958729743958, 0.41605401039123535, -0.14157289266586304, 0.11028169840574265, -0.6129864454269409, -0.024805355817079544, -0.24395246803760529, -0.005032576620578766, 0.3968365490436554, 0.7372273802757263, -0.18040227890014648, -0.5349997878074646, 0.3100420832633972, -0.1945515275001526, 0.24506117403507233, -0.227412149310112, -0.10238050669431686, 0.07432989776134491, -0.5445793867111206, 0.16610470414161682, -0.7717175483703613, 0.18115639686584473, -0.2888316810131073, 0.27940043807029724, -0.48074308037757874, 0.14175963401794434, -0.16591456532478333, 0.4749562442302704, -0.22811053693294525, 0.45049574971199036, -0.16898959875106812, 0.4586448073387146, 0.11207972466945648, 0.060650210827589035, 0.13800768554210663, -0.23579491674900055, 0.14632882177829742, 0.2559434771537781, -0.34544292092323303, 0.21225273609161377, -0.0018549163360148668, 0.36718836426734924, 0.5999795794487, 0.5610366463661194, 0.11218801885843277, 0.3231567442417145, -0.11483615636825562, 0.02102733962237835, -0.14052477478981018, 0.9033107757568359, 0.13463182747364044, 0.18335182964801788, -0.018950877711176872, 0.06803498417139053, 0.5687825083732605, -0.038132306188344955, 0.14312125742435455, -0.03168658912181854, 0.6053076982498169, -0.09677643328905106, -0.07106432318687439, -0.08575481176376343, 0.2956291437149048], \"z\": [0.31496891379356384, 0.48073557019233704, 0.007100170943886042, 0.675002932548523, 0.04369164630770683, 0.24404454231262207, 0.33936119079589844, 0.09945470839738846, -0.04097164794802666, 0.004022963345050812, 0.3457699120044708, -0.3140881061553955, -0.7148400545120239, -0.17780974507331848, 0.5531185269355774, 0.655988335609436, 0.3205474317073822, 0.42035043239593506, 0.14705348014831543, -0.16675226390361786, -0.03401869535446167, 0.3829297423362732, 1.0675487518310547, 0.07566666603088379, 0.8173330426216125, 0.08203175663948059, 0.70843505859375, 0.4944879412651062, -0.07829686999320984, 0.021741779521107674, 0.006078443489968777, 0.04890332370996475, 0.5886607766151428, 0.06952475011348724, 0.5173834562301636, 0.08449359983205795, -0.12414579838514328, 0.05826893821358681, 0.5569595098495483, 0.42319077253341675, -0.015006976202130318, 0.6699985861778259, 0.018874824047088623, 0.8395897746086121, 0.46223312616348267, 0.10621955245733261, 1.0878208875656128, 0.37007611989974976, 0.1448483020067215, 0.1370905488729477, 0.36826279759407043, 0.20571322739124298, 0.18572159111499786, 0.42427578568458557, -0.19204802811145782, -0.02492458187043667, 0.10711221396923065, 0.20432645082473755, 0.2563171982765198, 0.056542109698057175, 0.504738450050354, 0.6393554210662842, 0.023400241509079933, 0.08618852496147156, -0.04882819578051567, 0.14044184982776642, -0.28468629717826843, 0.041541919112205505, 0.896950364112854, 0.26595279574394226, -0.22410650551319122, 0.5997967720031738, -0.07300955057144165, 0.1166263073682785, 0.09922391921281815, 0.02525913529098034, 0.4098939299583435, 0.02534444071352482, 0.7130552530288696, 0.5163600444793701, 0.45179641246795654, 0.2809341251850128, 0.042823269963264465, 0.2361060380935669, 0.7769773006439209, 0.7122970819473267, 0.333834171295166, 0.14756281673908234, -0.11491694301366806, 0.37446752190589905, -0.1717485636472702, -0.4640592038631439, -0.42130371928215027, 0.06436774134635925, 0.13014233112335205, 0.26061832904815674, 0.10830946266651154, -0.27990207076072693, -0.2323659062385559, 0.19075149297714233, 0.200338214635849, -0.05669388547539711, 0.032766636461019516, 0.559724748134613, 0.5423555374145508, -0.03731265291571617, 0.35788068175315857, -0.15940290689468384, 0.44574567675590515, 0.08750753849744797, 0.4739069938659668, 0.11499156802892685, 0.0470692440867424, 0.6385681629180908, 0.45749133825302124, -0.07554805278778076, -0.0476229265332222, 0.29165300726890564, 0.3990270793437958, -0.020708834752440453, 0.28599798679351807, -0.10875454545021057, 0.37787458300590515, 0.041541919112205505, -0.2848571538925171, -0.11625595390796661, 0.1474737673997879, -0.14730536937713623, 0.4072571396827698, -0.0009526240173727274, -0.2775627374649048, 0.8848338723182678, 0.12021423131227493, 0.22154657542705536, 0.18327000737190247, -0.1980075240135193, 0.4715077579021454, 0.07056187838315964, -0.02797165885567665, 0.22787025570869446, 0.5405162572860718, -0.14019833505153656, -0.3136751353740692, 0.07558697462081909, 0.4754101037979126, 0.6648355722427368, 0.1312279850244522, 0.07736802846193314, -0.1468546986579895, -0.03319593146443367, 0.7020779848098755, 0.040888313204050064, -0.09288378804922104, 0.28392449021339417, 0.11867250502109528, 0.6061490178108215, -0.44983401894569397, 0.4139299690723419, -0.2772425711154938, -0.01106963586062193, 0.12349411845207214, 0.051056019961833954, 0.10695473104715347, -0.5858151912689209, 0.4142257571220398, 1.1934127807617188, 0.34792062640190125, 0.383937269449234, 0.10399843007326126, 0.6149430274963379, 0.0062228781171143055, 0.6074876189231873, 0.16433148086071014, 0.3356702923774719, 0.31786367297172546, -0.0025782734155654907, -0.886273980140686, -0.06623446196317673, -0.015636302530765533, 0.5325297713279724, -0.11871832609176636, 0.4912433326244354, -0.47934824228286743, 0.5657873749732971, 0.15986697375774384, 0.3110866844654083, 0.4922967553138733, 0.20676490664482117, 0.5301896929740906, 0.14634937047958374, -0.3762858808040619, 0.21654656529426575, 0.03392725810408592, 0.2603442072868347, 0.3450804352760315, 0.45391395688056946, 0.6156139969825745, 0.3768700659275055, -0.08384019136428833, 0.2062959223985672, 0.12449299544095993, 0.32792404294013977, 0.42043566703796387, -0.05923250690102577, -0.2971205413341522, -0.019252190366387367, 0.0789404883980751, 0.3389158844947815, 0.30204564332962036, 0.27672213315963745, -0.08156591653823853, 0.279172420501709, -0.5977548956871033, 0.10591685026884079, 0.264544814825058, 0.24879658222198486, -0.019328206777572632, 0.31316283345222473, 0.1848822832107544, -0.06374407559633255, 0.15834775567054749, 0.12810736894607544, 0.663773238658905, -0.5418035984039307, 0.32191675901412964, 0.4472832679748535, 0.01539529487490654, -0.043273452669382095, 0.09884602576494217, 0.017323844134807587, 0.2524884343147278, 0.6619614362716675, -0.09287626296281815, 0.0698857307434082, -0.8301715850830078, -0.5042383074760437, 0.1052672266960144, 0.5091133713722229, 0.29970112442970276, 0.2927679419517517, 0.08673367649316788, 0.35707175731658936, -0.8998374938964844, 0.04732907563447952, 0.1596049815416336, -1.2143410444259644, 0.5809917449951172, -0.01733120158314705, 0.4633287787437439, 0.18960726261138916, 0.4510439336299896, -0.277228981256485, 0.0376906543970108, 0.7240045070648193, 0.6090524792671204, 0.8273893594741821, -0.06292348355054855, 0.5611904263496399, 0.3929818868637085, -0.05487332493066788, -0.19016872346401215, 0.17361211776733398, -0.07986937463283539, 0.03835614025592804, 0.43822619318962097, -0.043133337050676346, -0.07372380048036575, 0.6453635096549988, 0.057889554649591446, 0.3833615481853485, 0.4491724967956543, -0.17671045660972595, -0.20535017549991608, -0.35338273644447327, 0.376996248960495, 0.0780409500002861, 0.16783499717712402, 0.4421561062335968, 0.2705554664134979, -0.7031228542327881, -0.3364453613758087, -0.08824953436851501, 0.4344229996204376, -0.05539000779390335, 0.17055247724056244, 0.001782357576303184, 0.17947906255722046, 0.3986475467681885, 0.2807178497314453, 0.22739411890506744, -0.13150277733802795, 0.48577240109443665, -0.03179474547505379, 0.14448268711566925, 0.31742629408836365, -0.6076258420944214, -0.3191046416759491, 0.3009966015815735, -0.3493666648864746, 0.3394950330257416, -0.11329355090856552, 0.03681127354502678, 0.1682356595993042, -0.376142293214798, 0.13242577016353607, 0.341968834400177, 0.35197505354881287, 0.6295980215072632, 0.5858427882194519, -0.16193535923957825, 0.31499117612838745, -0.07614955306053162, -0.6712177991867065, -0.3508395254611969, 0.3586020767688751, 0.11794240027666092, -0.35372477769851685, 0.03612764552235603, 0.44391965866088867, 0.07031422108411789, 0.25931069254875183, 0.7826953530311584, 0.47035884857177734, -0.04467381164431572, -0.4199152886867523, 0.11031616479158401, 0.012708163820207119, 0.6144300699234009, -0.030441075563430786, 0.2519788444042206, 1.296805500984192, 0.1356189250946045, 0.08472725003957748, 0.14556699991226196, 0.12554500997066498, -0.05072980746626854, 0.04755976051092148, -0.3811035752296448, 0.2783474326133728, -0.1133083626627922, 0.9689497947692871, 0.10025347024202347, 0.3368552029132843, 0.28151294589042664, 0.31978464126586914, 0.1548072099685669, 0.17613589763641357, 0.4129678010940552, 0.014600886031985283, 0.0730140432715416, 0.5158520340919495, 0.04076249897480011, -0.1760723888874054, -0.3011239469051361, 0.3918834626674652, 0.12491650134325027, 0.3061455190181732, 0.19278818368911743, -0.2302032858133316, -0.11235512793064117, 0.26348716020584106, -1.3318933248519897, -0.3242746591567993, 0.06802728772163391, 0.22034026682376862, 0.1254688948392868, 0.16738693416118622, 0.3253922760486603, -0.026866266503930092, 0.05498885363340378, 0.3964710533618927, 0.053360793739557266, 0.15307599306106567, -0.03800017759203911, -0.050415534526109695, 0.15899355709552765, 0.3587242066860199, -0.026566892862319946, 0.4998575448989868, -0.12258771061897278, 0.3168826997280121, -0.010677728801965714, 0.2082342952489853, 0.47227707505226135, 0.3370812237262726, 0.41450855135917664, 0.0806036964058876, 0.114471435546875, -0.08355744183063507, 0.2722799777984619, 0.38875266909599304, -0.020531857386231422, -0.20683638751506805, 0.2674312889575958, 0.041541919112205505, 0.6462397575378418, -0.23979584872722626, 0.44888558983802795, 0.5023931860923767, 0.03661258518695831, 0.2552935779094696, -0.18792185187339783, 0.3246251940727234, -0.0813998281955719, 0.17955347895622253, 0.03885648027062416, 0.2186313271522522, -0.15193137526512146, 0.24378541111946106, 0.19465479254722595, 0.49379777908325195, 0.784261167049408, 0.2077954262495041, 0.3769139051437378, 0.19757619500160217, 0.1911199986934662, -0.4514259994029999, -0.012496880255639553, 0.4150351285934448, 0.352570503950119, 0.33668267726898193, 0.23893015086650848, 0.4043062627315521, 0.24398483335971832, -0.014425033703446388, 0.41261494159698486, -0.4423636794090271, 0.0581919327378273, 0.4053524136543274, 0.3215027153491974, 0.23850782215595245, -0.024625733494758606, 0.6361655592918396, -0.4074806869029999, 0.09753083437681198, 0.16394174098968506, 0.5144643187522888, -0.5513153672218323, 0.46526312828063965, 0.30989331007003784, 0.3213914930820465, 0.19628512859344482, -0.19272638857364655, 0.3437451124191284, 0.14411549270153046, 0.4412393271923065, 0.0356905460357666, 0.613484799861908, 0.2530910074710846, 0.024442380294203758, 0.17972081899642944, 0.7835226655006409, 0.8772032856941223, -0.0595032200217247, -0.07104680687189102, -0.0991562232375145, 0.1432960033416748, -0.07743057608604431, -0.08013322204351425, 0.13122500479221344, 0.29909059405326843, 0.37863612174987793, 0.1213672012090683, -0.23252007365226746, 0.674028754234314, 0.4137010872364044, 0.4476572573184967, -1.3318933248519897, -0.24692398309707642, -0.017120301723480225, 0.6248654127120972, -0.4725359380245209, 0.24892078340053558, 0.43546274304389954, 0.10301391035318375, -0.4333883225917816, -0.16683432459831238, 0.19614440202713013, 1.0250300168991089, 0.42883017659187317, -0.21294371783733368, 0.2441517859697342, -0.3977963924407959, 0.260911226272583, 0.9411754608154297, -0.39967676997184753, 0.1472437083721161, 0.041541919112205505, 0.24309222400188446, 0.5885927677154541, -0.08345238119363785, 0.23461951315402985, 0.14764612913131714, 0.08213615417480469, 0.3047407567501068, -0.024155188351869583, 0.21479080617427826, -0.0728590115904808, 0.6026552319526672, -0.18934470415115356, 0.35058632493019104, 0.33177703619003296, -0.7150448560714722, 0.9852908253669739, -0.004605390597134829, 0.5059994459152222, 0.16856421530246735, -0.29273462295532227, -0.33006852865219116, 0.5976217985153198, 0.1603282243013382, 0.285886287689209, 0.46324536204338074, -1.0620940923690796, 0.12027959525585175, 0.06722786277532578, 0.5232323408126831, 0.3363754153251648, -0.02306152507662773, -0.23472657799720764, 0.45277804136276245, 0.16209937632083893, 0.3227798640727997, 0.07783085107803345, 0.2292381376028061, 0.08506182581186295, 0.08927429467439651, 0.1958959847688675, 0.04094000533223152, 0.8026503920555115, 0.03051677905023098, 0.21745383739471436, 0.12251701205968857, 0.3629029095172882, -0.15511095523834229, 0.3462296724319458, -0.10476238280534744, 0.1709509789943695, -0.2091790735721588, -0.24464617669582367, 0.6724100708961487, -0.4394061267375946, -0.23539763689041138, 0.05004322901368141, 0.16854749619960785, 0.041541919112205505, 0.36157748103141785, 0.5186678171157837, 0.18191975355148315, 0.2631871700286865, 0.4035245180130005, -0.11388299614191055, -0.24557091295719147, 0.29804906249046326, 0.3119353950023651, 0.3141855299472809, 0.1704893410205841, -0.5480324029922485, 0.08675869554281235, -0.2162928730249405, 0.04837346449494362, 0.16337324678897858, 0.1203601136803627, 0.7551382184028625, 0.2535756230354309, 0.32724735140800476, 0.09102030843496323, 0.1074112057685852, -0.07673060148954391, 0.22959491610527039, 0.5804986953735352, -0.7787830233573914, 0.5884166359901428, -0.08100247383117676, 0.0732414647936821, 0.09238280355930328, 0.7692520618438721, -0.5210237503051758, 0.6208925843238831, 0.15194237232208252, 0.2627161145210266, 0.06954041868448257, 0.5758424401283264, 0.2620199918746948, -0.33673128485679626, -0.017750639468431473, -0.2791876792907715, 0.6325854063034058, 0.009309488348662853, 0.5974622368812561, 0.15427376329898834, -0.5161499977111816, 0.21708792448043823, 0.17385444045066833, 0.2714399993419647, 0.13278301060199738, 0.36528292298316956, 0.43969714641571045, -0.10265840590000153, 0.05361571162939072, 0.5914702415466309, 0.15478990972042084, -0.20463092625141144, -0.08040100336074829, 0.24066868424415588, -0.025101086124777794, 0.00577594805508852, 0.041541919112205505, 0.12857918441295624, 0.029979392886161804, -0.0927436575293541, -0.2348424196243286, 0.032871950417757034, -0.0910559818148613, 0.04476011544466019, -0.18244336545467377, 0.3017369508743286, 0.13899773359298706, 0.13981646299362183, 0.3313237428665161, 0.42189639806747437, -0.07147740572690964, -0.21647146344184875, 0.21989570558071136, -0.020265571773052216, 0.053104303777217865, -0.1262311190366745, 0.48945343494415283, 0.1706041842699051, -0.2114831805229187, 0.65232914686203, 0.4661090672016144, -0.06555388867855072, 0.19110943377017975, -0.37715861201286316, 0.19620350003242493, -0.10773612558841705, 0.023840729147195816, 0.7194799780845642, -0.6335817575454712, 0.34513458609580994, -0.09299080818891525, 0.05639898031949997, 0.5445879101753235, -0.24747011065483093, 0.5006609559059143, 0.11075825244188309, 0.22779101133346558, 0.10804195702075958, 0.4831577241420746, 0.4121588468551636, -0.007547684479504824, 0.19052867591381073, 0.00664878124371171, 0.3461969792842865, -0.015856601297855377, 0.4435672461986542, 0.5509915947914124, -0.37063106894493103, 0.6649137139320374, 0.24678471684455872, 0.48914188146591187, 0.3062003552913666, 0.02894607000052929, -0.4509553909301758, 0.3652803599834442, 0.4329133927822113, 0.7033337354660034, 0.6095523238182068, -0.11037815362215042, 0.305292010307312, 0.4749901294708252, 0.041541919112205505, -0.08655291795730591, 0.20952194929122925, 0.14818444848060608, -0.2759266793727875, -0.2253531515598297, -0.006249434780329466, -0.038885947316884995, 0.17256204783916473, -0.4150235950946808, 0.3536137044429779, 0.34835755825042725, -0.20134994387626648, -0.4331689178943634, 0.27149084210395813, 0.45201170444488525, 0.12963061034679413, 0.041541919112205505, 0.043284349143505096, 0.09595174342393875, 0.6374793648719788, 0.32618141174316406, -0.2859649360179901, -0.05249463766813278, 0.37895554304122925, 0.07516366243362427, 0.5732919573783875, 0.46927163004875183, 0.3312746584415436, 0.25137442350387573, 0.3212668001651764, 0.6299746632575989, 0.40008804202079773, 0.09262144565582275, 0.26702630519866943, 0.14878617227077484, 0.2535582482814789, 0.2788010537624359, 0.6783416271209717, -0.04617556184530258, -0.11167890578508377, -0.21520130336284637, 0.20823407173156738, 0.12046017497777939, 0.4390600323677063, 0.1692984253168106, 0.14719992876052856, -0.1851326823234558, -0.054088886827230453, -0.1998041868209839, 0.24558903276920319, 0.4070923924446106, 0.21485809981822968, 0.28935879468917847, -0.25131675601005554, 0.11226598918437958, 0.5980760455131531, 0.2660495340824127, 0.5017979145050049, 0.5214224457740784, -0.3043516278266907, 0.6082812547683716, -0.2983149588108063, 0.4386352598667145, 0.19895367324352264, 0.42696455121040344, 0.1865590512752533, 0.0764913484454155, 0.3679400086402893, -0.3024367392063141, 0.10908548533916473, 0.307682603597641, 0.36941441893577576, 0.4304307997226715, -0.6089597940444946, -0.13049042224884033, 0.2375161051750183, -0.07517872750759125, -0.2588713467121124, 0.2598627805709839, -0.12580084800720215, 0.13897110521793365, 0.661443829536438, 0.041541919112205505, -0.03307786583900452, 0.3497941792011261, 0.6987538933753967, 0.2776654362678528, -0.09687794744968414, -0.1945541948080063, -0.3270486295223236, 0.01710711605846882, 0.2860257923603058, 0.051380470395088196, 0.47269758582115173, 0.4752167761325836, 0.059799838811159134, 0.15993507206439972, 0.5761839151382446, 0.9473595023155212, 0.12409926950931549, -0.49537795782089233, -0.38543325662612915, -0.24152256548404694, -0.0646418109536171, -0.007200144696980715, 0.21312262117862701, -0.15703211724758148, -0.228766068816185, 0.1023634597659111, 0.2204146534204483, 0.45449426770210266, -0.1773945689201355, 0.1761721670627594, 0.039337847381830215, -0.2683122158050537, -0.08984293043613434, -0.07769018411636353, -0.08773727715015411, -0.15320372581481934, 0.3941037356853485, 0.23589713871479034, 0.463432252407074, 0.928605318069458, 0.5396948456764221, 0.9463541507720947, -0.3390907347202301, 0.2259620577096939, -0.11098871380090714, 0.21780891716480255, 0.22556857764720917, 0.5478543043136597, -0.08002545684576035, 0.43555307388305664, 0.700786292552948, -0.052008405327796936, 0.356062650680542, -0.03394114971160889, 0.8212246894836426, 0.4091850221157074, 0.25827932357788086, 0.3245844841003418, 0.6355839371681213, -0.9548233151435852, 0.9466755986213684, 0.3731306791305542, -0.08177197724580765, 0.3972611129283905, 0.09183406084775925, 0.651623010635376, 0.19075758755207062, 0.4644200801849365, 0.1690637618303299, 0.5573930740356445, 0.2748858630657196, 0.19134193658828735, -0.239401176571846, 0.25185123085975647, -0.020325740799307823, 0.22609804570674896, -0.2955094575881958, 0.48328399658203125, 0.05988973751664162, 0.2576918303966522, -0.29073020815849304, 0.22864902019500732, -0.08071031421422958, 0.5808414816856384, 0.21282431483268738, 0.4389246702194214, 0.3284432590007782, 0.07817605137825012, -0.37680765986442566, -0.88937908411026, -0.16024352610111237, -0.14050136506557465, -0.08687471598386765, 0.17516086995601654, 0.005488823167979717, 0.5014890432357788, 0.2679443061351776, -0.7863644957542419, 0.5262768864631653, -0.0784321278333664, 0.4203871190547943, 0.11183139681816101, 0.14585691690444946, 0.1136666014790535, 0.37074872851371765, 0.544995129108429, 0.09594070911407471, -0.007244378328323364, 0.25139567255973816, 0.14406438171863556, 0.4946219325065613, -0.0947277843952179, -0.03176257014274597, 0.13591638207435608, -0.19100674986839294, 0.3500555753707886, -0.5306657552719116, 0.3486984372138977, -0.12615177035331726, 0.07277706265449524, -0.06835486739873886, 0.1628800630569458, 0.18706965446472168, 0.49581652879714966, -0.9425685405731201, 0.42326316237449646, 0.39705103635787964, 0.041541919112205505, 0.4282711446285248, -0.10862458497285843, -0.32160669565200806, -0.879344642162323, -0.19560666382312775, -0.10996650159358978, 0.10191170871257782, 0.030752170830965042, 0.09533356130123138, -0.14641329646110535, -0.1659177988767624, 0.314177542924881, 0.26073870062828064, 0.4948924481868744, 0.3315286338329315, 0.30103641748428345, 0.47403499484062195, -0.30520471930503845, 0.3848969638347626, -0.12561257183551788, -0.38151225447654724, 0.041541919112205505, 0.2996121048927307, 0.09560997039079666, 0.6199301481246948, 0.041541919112205505, -0.051953285932540894, 0.19670994579792023, 0.012258661910891533, 0.20735149085521698, 0.02895493246614933, 0.441356897354126, 0.39045843482017517, -0.04117109626531601, 0.22454620897769928, -0.5453281998634338, 0.2823880612850189, 0.2844768464565277, 0.26994597911834717, 0.2767755687236786, 0.4784311354160309, 0.3719943165779114, 0.20056726038455963, -0.06818832457065582, 0.34116053581237793, 0.0790749043226242, 0.5417685508728027, -0.03754372149705887, 0.10879695415496826, 0.3208048641681671, 0.19412758946418762, 0.5893605947494507, 0.12292835116386414, 0.07717005163431168, -0.23007677495479584, -0.058920957148075104, 0.5555609464645386, 0.8852229714393616, 0.6344072222709656, 0.018025951460003853, 0.4920317530632019, -0.3602166473865509, 0.07385173439979553, -0.04592384770512581, -0.5038326978683472, -0.5070452690124512, -0.0583040751516819, 0.3795902729034424, 0.12774860858917236, 0.22736074030399323, -0.3225537836551666, 0.15006621181964874, -0.4208373427391052, 0.29978737235069275, -0.04582818225026131, 0.26157575845718384, 0.5126916170120239, 0.2566005289554596, 0.3058511018753052, 0.2567858397960663, 0.4881798326969147, -0.19432540237903595, 0.25975653529167175, -0.14998537302017212, 0.5493924021720886, -0.35748910903930664, 0.3826606273651123, 0.25069108605384827, 0.30369630455970764, 0.3546144962310791, -0.49342235922813416, 0.06549595296382904, 0.19636106491088867, 0.46046918630599976, 0.742756187915802, 0.3600867688655853, 0.2260068655014038, 0.4585348069667816, 0.415324330329895, 0.5143464207649231, 0.04609471559524536, 0.028227221220731735, 0.3609865605831146, -1.3318933248519897, -0.43215426802635193, 0.40943804383277893, 0.839562177658081, 0.3316359519958496, 0.10766390711069107, 0.2290080189704895, 0.2235775738954544, 0.12912151217460632, 0.4338502585887909, 0.33776038885116577, 0.29744258522987366, 0.07386740297079086, 0.14524859189987183]}],\n",
              "                        {\"coloraxis\": {\"colorbar\": {\"title\": {\"text\": \"prediction\"}}, \"colorscale\": [[0.0, \"#0d0887\"], [0.1111111111111111, \"#46039f\"], [0.2222222222222222, \"#7201a8\"], [0.3333333333333333, \"#9c179e\"], [0.4444444444444444, \"#bd3786\"], [0.5555555555555556, \"#d8576b\"], [0.6666666666666666, \"#ed7953\"], [0.7777777777777778, \"#fb9f3a\"], [0.8888888888888888, \"#fdca26\"], [1.0, \"#f0f921\"]]}, \"legend\": {\"itemsizing\": \"constant\", \"tracegroupgap\": 0}, \"margin\": {\"t\": 60}, \"scene\": {\"domain\": {\"x\": [0.0, 1.0], \"y\": [0.0, 1.0]}, \"xaxis\": {\"title\": {\"text\": \"col1\"}}, \"yaxis\": {\"title\": {\"text\": \"col2\"}}, \"zaxis\": {\"title\": {\"text\": \"col3\"}, \"type\": \"log\"}}, \"template\": {\"data\": {\"bar\": [{\"error_x\": {\"color\": \"#2a3f5f\"}, \"error_y\": {\"color\": \"#2a3f5f\"}, \"marker\": {\"line\": {\"color\": \"#E5ECF6\", \"width\": 0.5}}, \"type\": \"bar\"}], \"barpolar\": [{\"marker\": {\"line\": {\"color\": \"#E5ECF6\", \"width\": 0.5}}, \"type\": \"barpolar\"}], \"carpet\": [{\"aaxis\": {\"endlinecolor\": \"#2a3f5f\", \"gridcolor\": \"white\", \"linecolor\": \"white\", \"minorgridcolor\": \"white\", \"startlinecolor\": \"#2a3f5f\"}, \"baxis\": {\"endlinecolor\": \"#2a3f5f\", \"gridcolor\": \"white\", \"linecolor\": \"white\", \"minorgridcolor\": \"white\", \"startlinecolor\": \"#2a3f5f\"}, \"type\": \"carpet\"}], \"choropleth\": [{\"colorbar\": {\"outlinewidth\": 0, \"ticks\": \"\"}, \"type\": \"choropleth\"}], \"contour\": [{\"colorbar\": {\"outlinewidth\": 0, \"ticks\": \"\"}, \"colorscale\": [[0.0, \"#0d0887\"], [0.1111111111111111, \"#46039f\"], [0.2222222222222222, \"#7201a8\"], [0.3333333333333333, \"#9c179e\"], [0.4444444444444444, \"#bd3786\"], [0.5555555555555556, \"#d8576b\"], [0.6666666666666666, \"#ed7953\"], [0.7777777777777778, \"#fb9f3a\"], [0.8888888888888888, \"#fdca26\"], [1.0, \"#f0f921\"]], \"type\": \"contour\"}], \"contourcarpet\": [{\"colorbar\": {\"outlinewidth\": 0, \"ticks\": \"\"}, \"type\": \"contourcarpet\"}], \"heatmap\": [{\"colorbar\": {\"outlinewidth\": 0, \"ticks\": \"\"}, \"colorscale\": [[0.0, \"#0d0887\"], [0.1111111111111111, \"#46039f\"], [0.2222222222222222, \"#7201a8\"], [0.3333333333333333, \"#9c179e\"], [0.4444444444444444, \"#bd3786\"], [0.5555555555555556, \"#d8576b\"], [0.6666666666666666, \"#ed7953\"], [0.7777777777777778, \"#fb9f3a\"], [0.8888888888888888, \"#fdca26\"], [1.0, \"#f0f921\"]], \"type\": \"heatmap\"}], \"heatmapgl\": [{\"colorbar\": {\"outlinewidth\": 0, \"ticks\": \"\"}, \"colorscale\": [[0.0, \"#0d0887\"], [0.1111111111111111, \"#46039f\"], [0.2222222222222222, \"#7201a8\"], [0.3333333333333333, \"#9c179e\"], [0.4444444444444444, \"#bd3786\"], [0.5555555555555556, \"#d8576b\"], [0.6666666666666666, \"#ed7953\"], [0.7777777777777778, \"#fb9f3a\"], [0.8888888888888888, \"#fdca26\"], [1.0, \"#f0f921\"]], \"type\": \"heatmapgl\"}], \"histogram\": [{\"marker\": {\"colorbar\": {\"outlinewidth\": 0, \"ticks\": \"\"}}, \"type\": \"histogram\"}], \"histogram2d\": [{\"colorbar\": {\"outlinewidth\": 0, \"ticks\": \"\"}, \"colorscale\": [[0.0, \"#0d0887\"], [0.1111111111111111, \"#46039f\"], [0.2222222222222222, \"#7201a8\"], [0.3333333333333333, \"#9c179e\"], [0.4444444444444444, \"#bd3786\"], [0.5555555555555556, \"#d8576b\"], [0.6666666666666666, \"#ed7953\"], [0.7777777777777778, \"#fb9f3a\"], [0.8888888888888888, \"#fdca26\"], [1.0, \"#f0f921\"]], \"type\": \"histogram2d\"}], \"histogram2dcontour\": [{\"colorbar\": {\"outlinewidth\": 0, \"ticks\": \"\"}, \"colorscale\": [[0.0, \"#0d0887\"], [0.1111111111111111, \"#46039f\"], [0.2222222222222222, \"#7201a8\"], [0.3333333333333333, \"#9c179e\"], [0.4444444444444444, \"#bd3786\"], [0.5555555555555556, \"#d8576b\"], [0.6666666666666666, \"#ed7953\"], [0.7777777777777778, \"#fb9f3a\"], [0.8888888888888888, \"#fdca26\"], [1.0, \"#f0f921\"]], \"type\": \"histogram2dcontour\"}], \"mesh3d\": [{\"colorbar\": {\"outlinewidth\": 0, \"ticks\": \"\"}, \"type\": \"mesh3d\"}], \"parcoords\": [{\"line\": {\"colorbar\": {\"outlinewidth\": 0, \"ticks\": \"\"}}, \"type\": \"parcoords\"}], \"pie\": [{\"automargin\": true, \"type\": \"pie\"}], \"scatter\": [{\"marker\": {\"colorbar\": {\"outlinewidth\": 0, \"ticks\": \"\"}}, \"type\": \"scatter\"}], \"scatter3d\": [{\"line\": {\"colorbar\": {\"outlinewidth\": 0, \"ticks\": \"\"}}, \"marker\": {\"colorbar\": {\"outlinewidth\": 0, \"ticks\": \"\"}}, \"type\": \"scatter3d\"}], \"scattercarpet\": [{\"marker\": {\"colorbar\": {\"outlinewidth\": 0, \"ticks\": \"\"}}, \"type\": \"scattercarpet\"}], \"scattergeo\": [{\"marker\": {\"colorbar\": {\"outlinewidth\": 0, \"ticks\": \"\"}}, \"type\": \"scattergeo\"}], \"scattergl\": [{\"marker\": {\"colorbar\": {\"outlinewidth\": 0, \"ticks\": \"\"}}, \"type\": \"scattergl\"}], \"scattermapbox\": [{\"marker\": {\"colorbar\": {\"outlinewidth\": 0, \"ticks\": \"\"}}, \"type\": \"scattermapbox\"}], \"scatterpolar\": [{\"marker\": {\"colorbar\": {\"outlinewidth\": 0, \"ticks\": \"\"}}, \"type\": \"scatterpolar\"}], \"scatterpolargl\": [{\"marker\": {\"colorbar\": {\"outlinewidth\": 0, \"ticks\": \"\"}}, \"type\": \"scatterpolargl\"}], \"scatterternary\": [{\"marker\": {\"colorbar\": {\"outlinewidth\": 0, \"ticks\": \"\"}}, \"type\": \"scatterternary\"}], \"surface\": [{\"colorbar\": {\"outlinewidth\": 0, \"ticks\": \"\"}, \"colorscale\": [[0.0, \"#0d0887\"], [0.1111111111111111, \"#46039f\"], [0.2222222222222222, \"#7201a8\"], [0.3333333333333333, \"#9c179e\"], [0.4444444444444444, \"#bd3786\"], [0.5555555555555556, \"#d8576b\"], [0.6666666666666666, \"#ed7953\"], [0.7777777777777778, \"#fb9f3a\"], [0.8888888888888888, \"#fdca26\"], [1.0, \"#f0f921\"]], \"type\": \"surface\"}], \"table\": [{\"cells\": {\"fill\": {\"color\": \"#EBF0F8\"}, \"line\": {\"color\": \"white\"}}, \"header\": {\"fill\": {\"color\": \"#C8D4E3\"}, \"line\": {\"color\": \"white\"}}, \"type\": \"table\"}]}, \"layout\": {\"annotationdefaults\": {\"arrowcolor\": \"#2a3f5f\", \"arrowhead\": 0, \"arrowwidth\": 1}, \"coloraxis\": {\"colorbar\": {\"outlinewidth\": 0, \"ticks\": \"\"}}, \"colorscale\": {\"diverging\": [[0, \"#8e0152\"], [0.1, \"#c51b7d\"], [0.2, \"#de77ae\"], [0.3, \"#f1b6da\"], [0.4, \"#fde0ef\"], [0.5, \"#f7f7f7\"], [0.6, \"#e6f5d0\"], [0.7, \"#b8e186\"], [0.8, \"#7fbc41\"], [0.9, \"#4d9221\"], [1, \"#276419\"]], \"sequential\": [[0.0, \"#0d0887\"], [0.1111111111111111, \"#46039f\"], [0.2222222222222222, \"#7201a8\"], [0.3333333333333333, \"#9c179e\"], [0.4444444444444444, \"#bd3786\"], [0.5555555555555556, \"#d8576b\"], [0.6666666666666666, \"#ed7953\"], [0.7777777777777778, \"#fb9f3a\"], [0.8888888888888888, \"#fdca26\"], [1.0, \"#f0f921\"]], \"sequentialminus\": [[0.0, \"#0d0887\"], [0.1111111111111111, \"#46039f\"], [0.2222222222222222, \"#7201a8\"], [0.3333333333333333, \"#9c179e\"], [0.4444444444444444, \"#bd3786\"], [0.5555555555555556, \"#d8576b\"], [0.6666666666666666, \"#ed7953\"], [0.7777777777777778, \"#fb9f3a\"], [0.8888888888888888, \"#fdca26\"], [1.0, \"#f0f921\"]]}, \"colorway\": [\"#636efa\", \"#EF553B\", \"#00cc96\", \"#ab63fa\", \"#FFA15A\", \"#19d3f3\", \"#FF6692\", \"#B6E880\", \"#FF97FF\", \"#FECB52\"], \"font\": {\"color\": \"#2a3f5f\"}, \"geo\": {\"bgcolor\": \"white\", \"lakecolor\": \"white\", \"landcolor\": \"#E5ECF6\", \"showlakes\": true, \"showland\": true, \"subunitcolor\": \"white\"}, \"hoverlabel\": {\"align\": \"left\"}, \"hovermode\": \"closest\", \"mapbox\": {\"style\": \"light\"}, \"paper_bgcolor\": \"white\", \"plot_bgcolor\": \"#E5ECF6\", \"polar\": {\"angularaxis\": {\"gridcolor\": \"white\", \"linecolor\": \"white\", \"ticks\": \"\"}, \"bgcolor\": \"#E5ECF6\", \"radialaxis\": {\"gridcolor\": \"white\", \"linecolor\": \"white\", \"ticks\": \"\"}}, \"scene\": {\"xaxis\": {\"backgroundcolor\": \"#E5ECF6\", \"gridcolor\": \"white\", \"gridwidth\": 2, \"linecolor\": \"white\", \"showbackground\": true, \"ticks\": \"\", \"zerolinecolor\": \"white\"}, \"yaxis\": {\"backgroundcolor\": \"#E5ECF6\", \"gridcolor\": \"white\", \"gridwidth\": 2, \"linecolor\": \"white\", \"showbackground\": true, \"ticks\": \"\", \"zerolinecolor\": \"white\"}, \"zaxis\": {\"backgroundcolor\": \"#E5ECF6\", \"gridcolor\": \"white\", \"gridwidth\": 2, \"linecolor\": \"white\", \"showbackground\": true, \"ticks\": \"\", \"zerolinecolor\": \"white\"}}, \"shapedefaults\": {\"line\": {\"color\": \"#2a3f5f\"}}, \"ternary\": {\"aaxis\": {\"gridcolor\": \"white\", \"linecolor\": \"white\", \"ticks\": \"\"}, \"baxis\": {\"gridcolor\": \"white\", \"linecolor\": \"white\", \"ticks\": \"\"}, \"bgcolor\": \"#E5ECF6\", \"caxis\": {\"gridcolor\": \"white\", \"linecolor\": \"white\", \"ticks\": \"\"}}, \"title\": {\"x\": 0.05}, \"xaxis\": {\"automargin\": true, \"gridcolor\": \"white\", \"linecolor\": \"white\", \"ticks\": \"\", \"title\": {\"standoff\": 15}, \"zerolinecolor\": \"white\", \"zerolinewidth\": 2}, \"yaxis\": {\"automargin\": true, \"gridcolor\": \"white\", \"linecolor\": \"white\", \"ticks\": \"\", \"title\": {\"standoff\": 15}, \"zerolinecolor\": \"white\", \"zerolinewidth\": 2}}}},\n",
              "                        {\"responsive\": true}\n",
              "                    ).then(function(){\n",
              "                            \n",
              "var gd = document.getElementById('0d79fefa-15c0-43f2-8477-25cdc5e437d0');\n",
              "var x = new MutationObserver(function (mutations, observer) {{\n",
              "        var display = window.getComputedStyle(gd).display;\n",
              "        if (!display || display === 'none') {{\n",
              "            console.log([gd, 'removed!']);\n",
              "            Plotly.purge(gd);\n",
              "            observer.disconnect();\n",
              "        }}\n",
              "}});\n",
              "\n",
              "// Listen for the removal of the full notebook cells\n",
              "var notebookContainer = gd.closest('#notebook-container');\n",
              "if (notebookContainer) {{\n",
              "    x.observe(notebookContainer, {childList: true});\n",
              "}}\n",
              "\n",
              "// Listen for the clearing of the current output cell\n",
              "var outputEl = gd.closest('.output');\n",
              "if (outputEl) {{\n",
              "    x.observe(outputEl, {childList: true});\n",
              "}}\n",
              "\n",
              "                        })\n",
              "                };\n",
              "                \n",
              "            </script>\n",
              "        </div>\n",
              "</body>\n",
              "</html>"
            ]
          },
          "metadata": {
            "tags": []
          }
        }
      ]
    },
    {
      "cell_type": "code",
      "metadata": {
        "colab": {
          "base_uri": "https://localhost:8080/"
        },
        "id": "zh8PnPdUOzcp",
        "outputId": "b1ae7aef-b4b2-492a-affd-eaabb0d3f1f2"
      },
      "source": [
        "from pyspark.sql.functions import col\n",
        "from pyspark.sql.types import StringType,BooleanType,DateType\n",
        "df2 = predictions.withColumn(\"id\",col(\"id\").cast(StringType())) \\\n",
        "    .withColumn(\"title\",col(\"title\").cast(StringType())) \\\n",
        "    .withColumn(\"overview\",col(\"overview\").cast(StringType())) \\\n",
        "    .withColumn(\"text_splitted\",col(\"text_splitted\").cast(StringType()))  \\\n",
        "    .withColumn(\"text_splitted_v2\",col(\"text_splitted_v2\").cast(StringType()))  \\\n",
        "    .withColumn(\"features\",col(\"features\").cast(StringType())) \\\n",
        "    .withColumn(\"prediction\",col(\"prediction\").cast(StringType()))\n",
        "df2.printSchema()"
      ],
      "execution_count": null,
      "outputs": [
        {
          "output_type": "stream",
          "text": [
            "root\n",
            " |-- id: string (nullable = true)\n",
            " |-- title: string (nullable = true)\n",
            " |-- overview: string (nullable = true)\n",
            " |-- text_splitted: string (nullable = true)\n",
            " |-- text_splitted_v2: string (nullable = true)\n",
            " |-- features: string (nullable = true)\n",
            " |-- prediction: string (nullable = false)\n",
            "\n"
          ],
          "name": "stdout"
        }
      ]
    },
    {
      "cell_type": "code",
      "metadata": {
        "id": "GjOS4vvOY6VV"
      },
      "source": [
        "df4 = df2.select('id','title','features',\"prediction\")"
      ],
      "execution_count": null,
      "outputs": []
    },
    {
      "cell_type": "code",
      "metadata": {
        "colab": {
          "base_uri": "https://localhost:8080/",
          "height": 265
        },
        "id": "SwZI-Tv1wYx5",
        "outputId": "9e0391b3-e264-4775-c715-f6c0f012e80a"
      },
      "source": [
        "from pyspark import SQLContext\n",
        "from pyspark.sql.functions import udf\n",
        "from pyspark.sql.types import FloatType\n",
        "from pyspark import SparkConf, SparkContext\n",
        "\n",
        "commaToDot = udf(lambda x : float(str(x).replace(',', '.')), FloatType())\n",
        "# df2=df.withColumn('area',commaToDot(df._c0))\n",
        "\n",
        "df3 = predictions.withColumn('id', regexp_replace('id', ',', '.').cast('String')) \\\n",
        "    .withColumn('title', regexp_replace('title', ',', '.').cast('String')) \\\n",
        "    .withColumn('overview', regexp_replace('overview', ',', ' ').cast('String')) \\\n",
        "    .withColumn('text_splitted', regexp_replace('text_splitted', ',', ' ').cast('String'))  \\\n",
        "    .withColumn('text_splitted_v2', regexp_replace('text_splitted_v2', ',', ' ').cast('String')) \\\n",
        "    .withColumn('features').withColumn('prediction', regexp_replace('prediction', ',', '.').cast('String'))\n",
        "df3.printSchema()"
      ],
      "execution_count": null,
      "outputs": [
        {
          "output_type": "error",
          "ename": "TypeError",
          "evalue": "ignored",
          "traceback": [
            "\u001b[0;31m---------------------------------------------------------------------------\u001b[0m",
            "\u001b[0;31mTypeError\u001b[0m                                 Traceback (most recent call last)",
            "\u001b[0;32m<ipython-input-68-6d71930aa344>\u001b[0m in \u001b[0;36m<module>\u001b[0;34m()\u001b[0m\n\u001b[1;32m      7\u001b[0m \u001b[0;31m# df2=df.withColumn('area',commaToDot(df._c0))\u001b[0m\u001b[0;34m\u001b[0m\u001b[0;34m\u001b[0m\u001b[0;34m\u001b[0m\u001b[0m\n\u001b[1;32m      8\u001b[0m \u001b[0;34m\u001b[0m\u001b[0m\n\u001b[0;32m----> 9\u001b[0;31m \u001b[0mdf3\u001b[0m \u001b[0;34m=\u001b[0m \u001b[0mpredictions\u001b[0m\u001b[0;34m.\u001b[0m\u001b[0mwithColumn\u001b[0m\u001b[0;34m(\u001b[0m\u001b[0;34m'id'\u001b[0m\u001b[0;34m,\u001b[0m \u001b[0mregexp_replace\u001b[0m\u001b[0;34m(\u001b[0m\u001b[0;34m'id'\u001b[0m\u001b[0;34m,\u001b[0m \u001b[0;34m','\u001b[0m\u001b[0;34m,\u001b[0m \u001b[0;34m'.'\u001b[0m\u001b[0;34m)\u001b[0m\u001b[0;34m.\u001b[0m\u001b[0mcast\u001b[0m\u001b[0;34m(\u001b[0m\u001b[0;34m'String'\u001b[0m\u001b[0;34m)\u001b[0m\u001b[0;34m)\u001b[0m     \u001b[0;34m.\u001b[0m\u001b[0mwithColumn\u001b[0m\u001b[0;34m(\u001b[0m\u001b[0;34m'title'\u001b[0m\u001b[0;34m,\u001b[0m \u001b[0mregexp_replace\u001b[0m\u001b[0;34m(\u001b[0m\u001b[0;34m'title'\u001b[0m\u001b[0;34m,\u001b[0m \u001b[0;34m','\u001b[0m\u001b[0;34m,\u001b[0m \u001b[0;34m'.'\u001b[0m\u001b[0;34m)\u001b[0m\u001b[0;34m.\u001b[0m\u001b[0mcast\u001b[0m\u001b[0;34m(\u001b[0m\u001b[0;34m'String'\u001b[0m\u001b[0;34m)\u001b[0m\u001b[0;34m)\u001b[0m     \u001b[0;34m.\u001b[0m\u001b[0mwithColumn\u001b[0m\u001b[0;34m(\u001b[0m\u001b[0;34m'overview'\u001b[0m\u001b[0;34m,\u001b[0m \u001b[0mregexp_replace\u001b[0m\u001b[0;34m(\u001b[0m\u001b[0;34m'overview'\u001b[0m\u001b[0;34m,\u001b[0m \u001b[0;34m','\u001b[0m\u001b[0;34m,\u001b[0m \u001b[0;34m' '\u001b[0m\u001b[0;34m)\u001b[0m\u001b[0;34m.\u001b[0m\u001b[0mcast\u001b[0m\u001b[0;34m(\u001b[0m\u001b[0;34m'String'\u001b[0m\u001b[0;34m)\u001b[0m\u001b[0;34m)\u001b[0m     \u001b[0;34m.\u001b[0m\u001b[0mwithColumn\u001b[0m\u001b[0;34m(\u001b[0m\u001b[0;34m'text_splitted'\u001b[0m\u001b[0;34m,\u001b[0m \u001b[0mregexp_replace\u001b[0m\u001b[0;34m(\u001b[0m\u001b[0;34m'text_splitted'\u001b[0m\u001b[0;34m,\u001b[0m \u001b[0;34m','\u001b[0m\u001b[0;34m,\u001b[0m \u001b[0;34m' '\u001b[0m\u001b[0;34m)\u001b[0m\u001b[0;34m.\u001b[0m\u001b[0mcast\u001b[0m\u001b[0;34m(\u001b[0m\u001b[0;34m'String'\u001b[0m\u001b[0;34m)\u001b[0m\u001b[0;34m)\u001b[0m      \u001b[0;34m.\u001b[0m\u001b[0mwithColumn\u001b[0m\u001b[0;34m(\u001b[0m\u001b[0;34m'text_splitted_v2'\u001b[0m\u001b[0;34m,\u001b[0m \u001b[0mregexp_replace\u001b[0m\u001b[0;34m(\u001b[0m\u001b[0;34m'text_splitted_v2'\u001b[0m\u001b[0;34m,\u001b[0m \u001b[0;34m','\u001b[0m\u001b[0;34m,\u001b[0m \u001b[0;34m' '\u001b[0m\u001b[0;34m)\u001b[0m\u001b[0;34m.\u001b[0m\u001b[0mcast\u001b[0m\u001b[0;34m(\u001b[0m\u001b[0;34m'String'\u001b[0m\u001b[0;34m)\u001b[0m\u001b[0;34m)\u001b[0m     \u001b[0;34m.\u001b[0m\u001b[0mw...\n\u001b[0m\u001b[1;32m     10\u001b[0m \u001b[0mdf3\u001b[0m\u001b[0;34m.\u001b[0m\u001b[0mprintSchema\u001b[0m\u001b[0;34m(\u001b[0m\u001b[0;34m)\u001b[0m\u001b[0;34m\u001b[0m\u001b[0;34m\u001b[0m\u001b[0m\n",
            "\u001b[0;31mTypeError\u001b[0m: withColumn() missing 1 required positional argument: 'col'"
          ]
        }
      ]
    },
    {
      "cell_type": "code",
      "metadata": {
        "colab": {
          "base_uri": "https://localhost:8080/"
        },
        "id": "lkHO-feBz_FJ",
        "outputId": "9b91f7e4-cba4-4ea6-a035-83c9cfdd856f"
      },
      "source": [
        "df3.show()"
      ],
      "execution_count": null,
      "outputs": [
        {
          "output_type": "stream",
          "text": [
            "+---+--------------------+--------------------+--------------------+--------------------+--------------------+----------+\n",
            "| id|               title|            overview|       text_splitted|    text_splitted_v2|            features|prediction|\n",
            "+---+--------------------+--------------------+--------------------+--------------------+--------------------+----------+\n",
            "|  0|           Toy Story|Led by Woody  And...|[led by woody  an...|org.apache.spark....|[6,1,0,0,28000003...|         2|\n",
            "|  1|             Jumanji|When siblings Jud...|[when siblings ju...|org.apache.spark....|[6,1,0,0,28000003...|         2|\n",
            "|  2|    Grumpier Old Men|A family wedding ...|[a family wedding...|org.apache.spark....|[6,1,0,0,28000003...|         4|\n",
            "|  3|   Waiting to Exhale|Cheated on  mistr...|[cheated on  mist...|org.apache.spark....|[6,1,0,0,28000003...|         2|\n",
            "|  4|Father of the Bri...|Just when George ...|[just when george...|org.apache.spark....|[6,1,0,0,28000003...|         0|\n",
            "|  5|                Heat|Obsessive master ...|[obsessive master...|org.apache.spark....|[6,1,0,0,28000003...|         0|\n",
            "|  6|             Sabrina|An ugly duckling ...|[an ugly duckling...|org.apache.spark....|[6,1,0,0,28000003...|         1|\n",
            "|  7|        Tom and Huck|A mischievous you...|[a mischievous yo...|org.apache.spark....|[6,1,0,0,28000003...|         1|\n",
            "|  8|        Sudden Death|International act...|[international ac...|org.apache.spark....|[6,1,0,0,28000003...|         4|\n",
            "|  9|           GoldenEye|James Bond must u...|[james bond must ...|org.apache.spark....|[6,1,0,0,28000003...|         7|\n",
            "| 10|The American Pres...|Widowed U.S. pres...|[widowed u.s. pre...|org.apache.spark....|[6,1,0,0,28000003...|         4|\n",
            "| 11|Dracula: Dead and...|When a lawyer sho...|[when a lawyer sh...|org.apache.spark....|[6,1,0,0,28000003...|         2|\n",
            "| 12|               Balto|An outcast half-w...|[an outcast half-...|org.apache.spark....|[6,1,0,0,28000003...|         7|\n",
            "| 13|               Nixon|An all-star cast ...|[an all-star cast...|org.apache.spark....|[6,1,0,0,28000003...|         1|\n",
            "| 14|    Cutthroat Island|Morgan Adams and ...|[morgan adams and...|org.apache.spark....|[6,1,0,0,28000003...|         2|\n",
            "| 15|              Casino|The life of the g...|[the life of the ...|org.apache.spark....|[6,1,0,0,28000003...|         7|\n",
            "| 16|Sense and Sensibi...|Rich Mr. Dashwood...|[rich mr. dashwoo...|org.apache.spark....|[6,1,0,0,28000003...|         0|\n",
            "| 17|          Four Rooms|It's Ted the Bell...|[it's ted the bel...|org.apache.spark....|[6,1,0,0,28000003...|         3|\n",
            "| 18|Ace Ventura: When...|Summoned from an ...|[summoned from an...|org.apache.spark....|[6,1,0,0,28000003...|         8|\n",
            "| 19|         Money Train|A vengeful New Yo...|[a vengeful new y...|org.apache.spark....|[6,1,0,0,28000003...|         2|\n",
            "+---+--------------------+--------------------+--------------------+--------------------+--------------------+----------+\n",
            "only showing top 20 rows\n",
            "\n"
          ],
          "name": "stdout"
        }
      ]
    },
    {
      "cell_type": "code",
      "metadata": {
        "colab": {
          "base_uri": "https://localhost:8080/"
        },
        "id": "zuKnFixBxokt",
        "outputId": "719d4334-f62f-42e0-8f4b-474adc0323a0"
      },
      "source": [
        "result"
      ],
      "execution_count": null,
      "outputs": [
        {
          "output_type": "execute_result",
          "data": {
            "text/plain": [
              "DataFrame[id: string, title: string, overview: string, text_splitted: array<string>, text_splitted_v2: array<string>, features: vector]"
            ]
          },
          "metadata": {
            "tags": []
          },
          "execution_count": 62
        }
      ]
    },
    {
      "cell_type": "code",
      "metadata": {
        "id": "w91OoT0nNKkN"
      },
      "source": [
        "#predictions1[[\"id\",\"title\",\"overview\",\"text_splitted\",\"text_splitted_v2\",\"features\",\"prediction\"]] = predictions[[\"id\",\"title\",\"overview\",\"text_splitted\",\"text_splitted_v2\",\"features\",\"prediction\"]].astype(str)"
      ],
      "execution_count": null,
      "outputs": []
    },
    {
      "cell_type": "code",
      "metadata": {
        "colab": {
          "base_uri": "https://localhost:8080/",
          "height": 374
        },
        "id": "Xjot8BCRSA_g",
        "outputId": "655e7d81-9f4b-4abd-bd18-8904a965ac4b"
      },
      "source": [
        "result.write.csv(\"predictions_Movie_5thAug_v3.csv\", mode=\"overwrite\", header = \"true\")\n",
        "# ,\n",
        "#   delimiter = \",\",\n",
        "#   quote = \"\\\"\",\n",
        "#   escape = \"\\\\\",\n",
        "#   charset = \"UTF-8\")"
      ],
      "execution_count": null,
      "outputs": [
        {
          "output_type": "error",
          "ename": "AnalysisException",
          "evalue": "ignored",
          "traceback": [
            "\u001b[0;31m---------------------------------------------------------------------------\u001b[0m",
            "\u001b[0;31mAnalysisException\u001b[0m                         Traceback (most recent call last)",
            "\u001b[0;32m<ipython-input-60-8ce6ef59762e>\u001b[0m in \u001b[0;36m<module>\u001b[0;34m()\u001b[0m\n\u001b[0;32m----> 1\u001b[0;31m \u001b[0mresult\u001b[0m\u001b[0;34m.\u001b[0m\u001b[0mwrite\u001b[0m\u001b[0;34m.\u001b[0m\u001b[0mcsv\u001b[0m\u001b[0;34m(\u001b[0m\u001b[0;34m\"predictions_Movie_5thAug_v3.csv\"\u001b[0m\u001b[0;34m,\u001b[0m \u001b[0mmode\u001b[0m\u001b[0;34m=\u001b[0m\u001b[0;34m\"overwrite\"\u001b[0m\u001b[0;34m,\u001b[0m \u001b[0mheader\u001b[0m \u001b[0;34m=\u001b[0m \u001b[0;34m\"true\"\u001b[0m\u001b[0;34m)\u001b[0m\u001b[0;34m\u001b[0m\u001b[0;34m\u001b[0m\u001b[0m\n\u001b[0m\u001b[1;32m      2\u001b[0m \u001b[0;31m# ,\u001b[0m\u001b[0;34m\u001b[0m\u001b[0;34m\u001b[0m\u001b[0;34m\u001b[0m\u001b[0m\n\u001b[1;32m      3\u001b[0m \u001b[0;31m#   delimiter = \",\",\u001b[0m\u001b[0;34m\u001b[0m\u001b[0;34m\u001b[0m\u001b[0;34m\u001b[0m\u001b[0m\n\u001b[1;32m      4\u001b[0m \u001b[0;31m#   quote = \"\\\"\",\u001b[0m\u001b[0;34m\u001b[0m\u001b[0;34m\u001b[0m\u001b[0;34m\u001b[0m\u001b[0m\n\u001b[1;32m      5\u001b[0m \u001b[0;31m#   escape = \"\\\\\",\u001b[0m\u001b[0;34m\u001b[0m\u001b[0;34m\u001b[0m\u001b[0;34m\u001b[0m\u001b[0m\n",
            "\u001b[0;32m/content/spark-3.1.2-bin-hadoop2.7/python/pyspark/sql/readwriter.py\u001b[0m in \u001b[0;36mcsv\u001b[0;34m(self, path, mode, compression, sep, quote, escape, header, nullValue, escapeQuotes, quoteAll, dateFormat, timestampFormat, ignoreLeadingWhiteSpace, ignoreTrailingWhiteSpace, charToEscapeQuoteEscaping, encoding, emptyValue, lineSep)\u001b[0m\n\u001b[1;32m   1370\u001b[0m                        \u001b[0mcharToEscapeQuoteEscaping\u001b[0m\u001b[0;34m=\u001b[0m\u001b[0mcharToEscapeQuoteEscaping\u001b[0m\u001b[0;34m,\u001b[0m\u001b[0;34m\u001b[0m\u001b[0;34m\u001b[0m\u001b[0m\n\u001b[1;32m   1371\u001b[0m                        encoding=encoding, emptyValue=emptyValue, lineSep=lineSep)\n\u001b[0;32m-> 1372\u001b[0;31m         \u001b[0mself\u001b[0m\u001b[0;34m.\u001b[0m\u001b[0m_jwrite\u001b[0m\u001b[0;34m.\u001b[0m\u001b[0mcsv\u001b[0m\u001b[0;34m(\u001b[0m\u001b[0mpath\u001b[0m\u001b[0;34m)\u001b[0m\u001b[0;34m\u001b[0m\u001b[0;34m\u001b[0m\u001b[0m\n\u001b[0m\u001b[1;32m   1373\u001b[0m \u001b[0;34m\u001b[0m\u001b[0m\n\u001b[1;32m   1374\u001b[0m     \u001b[0;32mdef\u001b[0m \u001b[0morc\u001b[0m\u001b[0;34m(\u001b[0m\u001b[0mself\u001b[0m\u001b[0;34m,\u001b[0m \u001b[0mpath\u001b[0m\u001b[0;34m,\u001b[0m \u001b[0mmode\u001b[0m\u001b[0;34m=\u001b[0m\u001b[0;32mNone\u001b[0m\u001b[0;34m,\u001b[0m \u001b[0mpartitionBy\u001b[0m\u001b[0;34m=\u001b[0m\u001b[0;32mNone\u001b[0m\u001b[0;34m,\u001b[0m \u001b[0mcompression\u001b[0m\u001b[0;34m=\u001b[0m\u001b[0;32mNone\u001b[0m\u001b[0;34m)\u001b[0m\u001b[0;34m:\u001b[0m\u001b[0;34m\u001b[0m\u001b[0;34m\u001b[0m\u001b[0m\n",
            "\u001b[0;32m/content/spark-3.1.2-bin-hadoop2.7/python/lib/py4j-0.10.9-src.zip/py4j/java_gateway.py\u001b[0m in \u001b[0;36m__call__\u001b[0;34m(self, *args)\u001b[0m\n\u001b[1;32m   1303\u001b[0m         \u001b[0manswer\u001b[0m \u001b[0;34m=\u001b[0m \u001b[0mself\u001b[0m\u001b[0;34m.\u001b[0m\u001b[0mgateway_client\u001b[0m\u001b[0;34m.\u001b[0m\u001b[0msend_command\u001b[0m\u001b[0;34m(\u001b[0m\u001b[0mcommand\u001b[0m\u001b[0;34m)\u001b[0m\u001b[0;34m\u001b[0m\u001b[0;34m\u001b[0m\u001b[0m\n\u001b[1;32m   1304\u001b[0m         return_value = get_return_value(\n\u001b[0;32m-> 1305\u001b[0;31m             answer, self.gateway_client, self.target_id, self.name)\n\u001b[0m\u001b[1;32m   1306\u001b[0m \u001b[0;34m\u001b[0m\u001b[0m\n\u001b[1;32m   1307\u001b[0m         \u001b[0;32mfor\u001b[0m \u001b[0mtemp_arg\u001b[0m \u001b[0;32min\u001b[0m \u001b[0mtemp_args\u001b[0m\u001b[0;34m:\u001b[0m\u001b[0;34m\u001b[0m\u001b[0;34m\u001b[0m\u001b[0m\n",
            "\u001b[0;32m/content/spark-3.1.2-bin-hadoop2.7/python/pyspark/sql/utils.py\u001b[0m in \u001b[0;36mdeco\u001b[0;34m(*a, **kw)\u001b[0m\n\u001b[1;32m    115\u001b[0m                 \u001b[0;31m# Hide where the exception came from that shows a non-Pythonic\u001b[0m\u001b[0;34m\u001b[0m\u001b[0;34m\u001b[0m\u001b[0;34m\u001b[0m\u001b[0m\n\u001b[1;32m    116\u001b[0m                 \u001b[0;31m# JVM exception message.\u001b[0m\u001b[0;34m\u001b[0m\u001b[0;34m\u001b[0m\u001b[0;34m\u001b[0m\u001b[0m\n\u001b[0;32m--> 117\u001b[0;31m                 \u001b[0;32mraise\u001b[0m \u001b[0mconverted\u001b[0m \u001b[0;32mfrom\u001b[0m \u001b[0;32mNone\u001b[0m\u001b[0;34m\u001b[0m\u001b[0;34m\u001b[0m\u001b[0m\n\u001b[0m\u001b[1;32m    118\u001b[0m             \u001b[0;32melse\u001b[0m\u001b[0;34m:\u001b[0m\u001b[0;34m\u001b[0m\u001b[0;34m\u001b[0m\u001b[0m\n\u001b[1;32m    119\u001b[0m                 \u001b[0;32mraise\u001b[0m\u001b[0;34m\u001b[0m\u001b[0;34m\u001b[0m\u001b[0m\n",
            "\u001b[0;31mAnalysisException\u001b[0m: CSV data source does not support array<string> data type."
          ]
        }
      ]
    },
    {
      "cell_type": "code",
      "metadata": {
        "id": "KwoZttbsSA1u"
      },
      "source": [
        "df2.show()"
      ],
      "execution_count": null,
      "outputs": []
    },
    {
      "cell_type": "code",
      "metadata": {
        "id": "3rn-J8PzJaVs"
      },
      "source": [
        "# Save Output\n",
        "predictionsPath = \"../data/predictions_Movie_v2.csv\"\n",
        "df2.select([\"id\",\"title\",\"overview\",\"text_splitted\",\"text_splitted_v2\",\"features\", \"prediction\"]).write.csv(predictionsPath, mode=\"overwrite\", header=\"true\")"
      ],
      "execution_count": null,
      "outputs": []
    },
    {
      "cell_type": "code",
      "metadata": {
        "id": "BpdZVuiaHdRk"
      },
      "source": [
        ""
      ],
      "execution_count": null,
      "outputs": []
    },
    {
      "cell_type": "code",
      "metadata": {
        "id": "XLaJPgNuliRz"
      },
      "source": [
        "\n",
        "# output the result to a text file.\n",
        "\n",
        "clusters = df.groupby('cluster')    \n",
        "\n",
        "for cluster in clusters.groups:\n",
        "    f = open('cluster'+str(cluster)+ '.csv', 'w') # create csv file\n",
        "    data = clusters.get_group(cluster)[['title','overview']] # get title and overview columns\n",
        "    f.write(data.to_csv(index_label='id')) # set index to id\n",
        "    f.close()\n",
        "\n",
        "print(\"Cluster centroids: \\n\")\n",
        "order_centroids = model.cluster_centers_.argsort()[:, ::-1]\n",
        "terms = vectorizer.get_feature_names()\n",
        "\n",
        "for i in range(k):\n",
        "    print(\"Cluster %d:\" % i)\n",
        "    for j in order_centroids[i, :10]: #print out 10 feature terms of each cluster\n",
        "        print (' %s' % terms[j])\n",
        "    print('------------')\n"
      ],
      "execution_count": null,
      "outputs": []
    },
    {
      "cell_type": "code",
      "metadata": {
        "id": "-0oX2LXpliOy"
      },
      "source": [
        "# KMeans Clustering\n",
        "numIterations = 200\n",
        "numberClusters = 2\n",
        "kmeans = KMeans().setMaxIter(numIterations).setK(numberClusters).setSeed(1)\n",
        "kmeans_model = kmeans.fit(result)"
      ],
      "execution_count": null,
      "outputs": []
    },
    {
      "cell_type": "code",
      "metadata": {
        "id": "5F7AFs-aliH-"
      },
      "source": [
        "# Make predictions\n",
        "predictions = kmeans_model.transform(result)"
      ],
      "execution_count": null,
      "outputs": []
    },
    {
      "cell_type": "code",
      "metadata": {
        "colab": {
          "base_uri": "https://localhost:8080/"
        },
        "id": "OShlpqPxliCN",
        "outputId": "02f9fbf9-01c5-480d-a1db-f148eeb06c88"
      },
      "source": [
        "predictions.show()"
      ],
      "execution_count": null,
      "outputs": [
        {
          "output_type": "stream",
          "text": [
            "+---+--------------------+--------------------+--------------------+--------------------+--------------------+----------+\n",
            "| id|               title|            overview|       text_splitted|    text_splitted_v2|            features|prediction|\n",
            "+---+--------------------+--------------------+--------------------+--------------------+--------------------+----------+\n",
            "|  0|           Toy Story|Led by Woody, And...|[led, by, woody,,...|[led, woody,, and...|[0.32688762738623...|         6|\n",
            "|  1|             Jumanji|When siblings Jud...|[when, siblings, ...|[siblings, judy, ...|[0.13762119575403...|         0|\n",
            "|  2|    Grumpier Old Men|A family wedding ...|[a, family, weddi...|[family, wedding,...|[0.25666033335481...|         2|\n",
            "|  3|   Waiting to Exhale|Cheated on, mistr...|[cheated, on,, mi...|[cheated, on,, mi...|[0.14437834605381...|         8|\n",
            "|  4|Father of the Bri...|Just when George ...|[just, when, geor...|[george, banks, r...|[-0.2310195296174...|         0|\n",
            "|  5|                Heat|Obsessive master ...|[obsessive, maste...|[obsessive, maste...|[0.14680899847298...|         6|\n",
            "|  6|             Sabrina|An ugly duckling ...|[an, ugly, duckli...|[ugly, duckling, ...|[-0.2213369458913...|         0|\n",
            "|  7|        Tom and Huck|A mischievous you...|[a, mischievous, ...|[mischievous, you...|[-0.0510937003418...|         7|\n",
            "|  8|        Sudden Death|International act...|[international, a...|[international, a...|[-0.0189227423769...|         2|\n",
            "|  9|           GoldenEye|James Bond must u...|[james, bond, mus...|[james, bond, mus...|[-0.1653808955517...|         7|\n",
            "| 10|The American Pres...|Widowed U.S. pres...|[widowed, u.s., p...|[widowed, u.s., p...|[-0.0557482000440...|         8|\n",
            "| 11|Dracula: Dead and...|When a lawyer sho...|[when, a, lawyer,...|[lawyer, shows, v...|[0.04800174976699...|         4|\n",
            "| 12|               Balto|An outcast half-w...|[an, outcast, hal...|[outcast, half-wo...|[0.33037015311419...|         7|\n",
            "| 13|               Nixon|An all-star cast ...|[an, all-star, ca...|[all-star, cast, ...|[0.18667989791850...|         9|\n",
            "| 14|    Cutthroat Island|Morgan Adams and ...|[morgan, adams, a...|[morgan, adams, s...|[0.07037546682275...|         6|\n",
            "| 15|              Casino|The life of the g...|[the, life, of, t...|[life, gambling, ...|[-0.0752648857422...|         6|\n",
            "| 16|Sense and Sensibi...|Rich Mr. Dashwood...|[rich, mr., dashw...|[rich, mr., dashw...|[-0.4028764640291...|         6|\n",
            "| 17|          Four Rooms|It's Ted the Bell...|[it's, ted, the, ...|[ted, bellhop's, ...|[-0.1650967776775...|         8|\n",
            "| 18|Ace Ventura: When...|Summoned from an ...|[summoned, from, ...|[summoned, ashram...|[0.43671480986860...|         8|\n",
            "| 19|         Money Train|A vengeful New Yo...|[a, vengeful, new...|[vengeful, new, y...|[-0.0966119132388...|         4|\n",
            "+---+--------------------+--------------------+--------------------+--------------------+--------------------+----------+\n",
            "only showing top 20 rows\n",
            "\n"
          ],
          "name": "stdout"
        }
      ]
    }
  ]
}